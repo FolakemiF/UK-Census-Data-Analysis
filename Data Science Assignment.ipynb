{
 "cells": [
  {
   "cell_type": "markdown",
   "id": "2d5aa1d3",
   "metadata": {},
   "source": [
    "#### Import libraries and read and copy the csv file"
   ]
  },
  {
   "cell_type": "code",
   "execution_count": 1,
   "id": "83384cd8",
   "metadata": {},
   "outputs": [],
   "source": [
    "#import libraries\n",
    "import pandas as pd\n",
    "import numpy as np\n",
    "import seaborn as sns\n",
    "import matplotlib.pyplot as plt\n",
    "%matplotlib inline"
   ]
  },
  {
   "cell_type": "code",
   "execution_count": 2,
   "id": "3df2d6f4",
   "metadata": {},
   "outputs": [
    {
     "data": {
      "text/html": [
       "<div>\n",
       "<style scoped>\n",
       "    .dataframe tbody tr th:only-of-type {\n",
       "        vertical-align: middle;\n",
       "    }\n",
       "\n",
       "    .dataframe tbody tr th {\n",
       "        vertical-align: top;\n",
       "    }\n",
       "\n",
       "    .dataframe thead th {\n",
       "        text-align: right;\n",
       "    }\n",
       "</style>\n",
       "<table border=\"1\" class=\"dataframe\">\n",
       "  <thead>\n",
       "    <tr style=\"text-align: right;\">\n",
       "      <th></th>\n",
       "      <th>Unnamed: 0</th>\n",
       "      <th>House Number</th>\n",
       "      <th>Street</th>\n",
       "      <th>First Name</th>\n",
       "      <th>Surname</th>\n",
       "      <th>Age</th>\n",
       "      <th>Relationship to Head of House</th>\n",
       "      <th>Marital Status</th>\n",
       "      <th>Gender</th>\n",
       "      <th>Occupation</th>\n",
       "      <th>Infirmity</th>\n",
       "      <th>Religion</th>\n",
       "    </tr>\n",
       "  </thead>\n",
       "  <tbody>\n",
       "    <tr>\n",
       "      <th>0</th>\n",
       "      <td>0</td>\n",
       "      <td>1</td>\n",
       "      <td>Orryjar Lane</td>\n",
       "      <td>Kieran</td>\n",
       "      <td>Ward</td>\n",
       "      <td>56.0</td>\n",
       "      <td>Head</td>\n",
       "      <td>Single</td>\n",
       "      <td>Male</td>\n",
       "      <td>Careers adviser</td>\n",
       "      <td>None</td>\n",
       "      <td>Catholic</td>\n",
       "    </tr>\n",
       "    <tr>\n",
       "      <th>1</th>\n",
       "      <td>1</td>\n",
       "      <td>1</td>\n",
       "      <td>Orryjar Lane</td>\n",
       "      <td>Abdul</td>\n",
       "      <td>Pickering</td>\n",
       "      <td>43.0</td>\n",
       "      <td>None</td>\n",
       "      <td>Single</td>\n",
       "      <td>Male</td>\n",
       "      <td>Public relations account executive</td>\n",
       "      <td>None</td>\n",
       "      <td>Christian</td>\n",
       "    </tr>\n",
       "    <tr>\n",
       "      <th>2</th>\n",
       "      <td>2</td>\n",
       "      <td>2</td>\n",
       "      <td>Orryjar Lane</td>\n",
       "      <td>Rosemary</td>\n",
       "      <td>Steele</td>\n",
       "      <td>30.0</td>\n",
       "      <td>Head</td>\n",
       "      <td>Single</td>\n",
       "      <td>Female</td>\n",
       "      <td>Meteorologist</td>\n",
       "      <td>None</td>\n",
       "      <td>Christian</td>\n",
       "    </tr>\n",
       "    <tr>\n",
       "      <th>3</th>\n",
       "      <td>3</td>\n",
       "      <td>3</td>\n",
       "      <td>Orryjar Lane</td>\n",
       "      <td>Marilyn</td>\n",
       "      <td>Cooke</td>\n",
       "      <td>53.0</td>\n",
       "      <td>Head</td>\n",
       "      <td>Single</td>\n",
       "      <td>Female</td>\n",
       "      <td>Jewellery designer</td>\n",
       "      <td>None</td>\n",
       "      <td>Christian</td>\n",
       "    </tr>\n",
       "    <tr>\n",
       "      <th>4</th>\n",
       "      <td>4</td>\n",
       "      <td>4</td>\n",
       "      <td>Orryjar Lane</td>\n",
       "      <td>Samantha</td>\n",
       "      <td>Coates</td>\n",
       "      <td>63.0</td>\n",
       "      <td>Head</td>\n",
       "      <td>Single</td>\n",
       "      <td>Female</td>\n",
       "      <td>Trade mark attorney</td>\n",
       "      <td>None</td>\n",
       "      <td>None</td>\n",
       "    </tr>\n",
       "    <tr>\n",
       "      <th>...</th>\n",
       "      <td>...</td>\n",
       "      <td>...</td>\n",
       "      <td>...</td>\n",
       "      <td>...</td>\n",
       "      <td>...</td>\n",
       "      <td>...</td>\n",
       "      <td>...</td>\n",
       "      <td>...</td>\n",
       "      <td>...</td>\n",
       "      <td>...</td>\n",
       "      <td>...</td>\n",
       "      <td>...</td>\n",
       "    </tr>\n",
       "    <tr>\n",
       "      <th>9650</th>\n",
       "      <td>9650</td>\n",
       "      <td>1</td>\n",
       "      <td>Armagh Longhouse</td>\n",
       "      <td>Diana</td>\n",
       "      <td>Yates</td>\n",
       "      <td>39.0</td>\n",
       "      <td>Head</td>\n",
       "      <td>Divorced</td>\n",
       "      <td>Female</td>\n",
       "      <td>Unemployed</td>\n",
       "      <td>Physical Disability</td>\n",
       "      <td>Methodist</td>\n",
       "    </tr>\n",
       "    <tr>\n",
       "      <th>9651</th>\n",
       "      <td>9651</td>\n",
       "      <td>1</td>\n",
       "      <td>Armagh Longhouse</td>\n",
       "      <td>Aaron</td>\n",
       "      <td>Yates</td>\n",
       "      <td>6.0</td>\n",
       "      <td>Son</td>\n",
       "      <td>NaN</td>\n",
       "      <td>Male</td>\n",
       "      <td>Student</td>\n",
       "      <td>None</td>\n",
       "      <td>NaN</td>\n",
       "    </tr>\n",
       "    <tr>\n",
       "      <th>9652</th>\n",
       "      <td>9652</td>\n",
       "      <td>1</td>\n",
       "      <td>Armagh Longhouse</td>\n",
       "      <td>Geraldine</td>\n",
       "      <td>Yates</td>\n",
       "      <td>3.0</td>\n",
       "      <td>Daughter</td>\n",
       "      <td>NaN</td>\n",
       "      <td>Female</td>\n",
       "      <td>Child</td>\n",
       "      <td>None</td>\n",
       "      <td>NaN</td>\n",
       "    </tr>\n",
       "    <tr>\n",
       "      <th>9653</th>\n",
       "      <td>9653</td>\n",
       "      <td>1</td>\n",
       "      <td>Armagh Longhouse</td>\n",
       "      <td>Daniel</td>\n",
       "      <td>Yates</td>\n",
       "      <td>1.0</td>\n",
       "      <td>Son</td>\n",
       "      <td>NaN</td>\n",
       "      <td>Male</td>\n",
       "      <td>Child</td>\n",
       "      <td>None</td>\n",
       "      <td>NaN</td>\n",
       "    </tr>\n",
       "    <tr>\n",
       "      <th>9654</th>\n",
       "      <td>9654</td>\n",
       "      <td>1</td>\n",
       "      <td>Armagh Longhouse</td>\n",
       "      <td>Gary</td>\n",
       "      <td>Thomas</td>\n",
       "      <td>64.0</td>\n",
       "      <td>Lodger</td>\n",
       "      <td>Single</td>\n",
       "      <td>Male</td>\n",
       "      <td>Health and safety inspector</td>\n",
       "      <td>None</td>\n",
       "      <td>Christian</td>\n",
       "    </tr>\n",
       "  </tbody>\n",
       "</table>\n",
       "<p>9655 rows × 12 columns</p>\n",
       "</div>"
      ],
      "text/plain": [
       "      Unnamed: 0 House Number            Street First Name    Surname   Age  \\\n",
       "0              0            1      Orryjar Lane     Kieran       Ward  56.0   \n",
       "1              1            1      Orryjar Lane      Abdul  Pickering  43.0   \n",
       "2              2            2      Orryjar Lane   Rosemary     Steele  30.0   \n",
       "3              3            3      Orryjar Lane    Marilyn      Cooke  53.0   \n",
       "4              4            4      Orryjar Lane   Samantha     Coates  63.0   \n",
       "...          ...          ...               ...        ...        ...   ...   \n",
       "9650        9650            1  Armagh Longhouse      Diana      Yates  39.0   \n",
       "9651        9651            1  Armagh Longhouse      Aaron      Yates   6.0   \n",
       "9652        9652            1  Armagh Longhouse  Geraldine      Yates   3.0   \n",
       "9653        9653            1  Armagh Longhouse     Daniel      Yates   1.0   \n",
       "9654        9654            1  Armagh Longhouse       Gary     Thomas  64.0   \n",
       "\n",
       "     Relationship to Head of House Marital Status  Gender  \\\n",
       "0                             Head         Single    Male   \n",
       "1                             None         Single    Male   \n",
       "2                             Head         Single  Female   \n",
       "3                             Head         Single  Female   \n",
       "4                             Head         Single  Female   \n",
       "...                            ...            ...     ...   \n",
       "9650                          Head       Divorced  Female   \n",
       "9651                           Son            NaN    Male   \n",
       "9652                      Daughter            NaN  Female   \n",
       "9653                           Son            NaN    Male   \n",
       "9654                        Lodger         Single    Male   \n",
       "\n",
       "                              Occupation            Infirmity   Religion  \n",
       "0                        Careers adviser                 None   Catholic  \n",
       "1     Public relations account executive                 None  Christian  \n",
       "2                          Meteorologist                 None  Christian  \n",
       "3                     Jewellery designer                 None  Christian  \n",
       "4                    Trade mark attorney                 None       None  \n",
       "...                                  ...                  ...        ...  \n",
       "9650                          Unemployed  Physical Disability  Methodist  \n",
       "9651                             Student                 None        NaN  \n",
       "9652                               Child                 None        NaN  \n",
       "9653                               Child                 None        NaN  \n",
       "9654         Health and safety inspector                 None  Christian  \n",
       "\n",
       "[9655 rows x 12 columns]"
      ]
     },
     "execution_count": 2,
     "metadata": {},
     "output_type": "execute_result"
    }
   ],
   "source": [
    "#read in the csv\n",
    "data = pd.read_csv('census_06_2022.csv')\n",
    "\n",
    "#copy the csv file, will be working on this and keeping the original file\n",
    "df = data.copy()\n",
    "df"
   ]
  },
  {
   "cell_type": "markdown",
   "id": "9a01c8f5",
   "metadata": {},
   "source": [
    "## Data Exploration and Cleaning"
   ]
  },
  {
   "cell_type": "markdown",
   "id": "5e1d0aea",
   "metadata": {},
   "source": [
    "### Get information about each variables in the data"
   ]
  },
  {
   "cell_type": "code",
   "execution_count": 3,
   "id": "7c88c1c9",
   "metadata": {},
   "outputs": [
    {
     "name": "stdout",
     "output_type": "stream",
     "text": [
      "<class 'pandas.core.frame.DataFrame'>\n",
      "RangeIndex: 9655 entries, 0 to 9654\n",
      "Data columns (total 12 columns):\n",
      " #   Column                         Non-Null Count  Dtype  \n",
      "---  ------                         --------------  -----  \n",
      " 0   Unnamed: 0                     9655 non-null   int64  \n",
      " 1   House Number                   9655 non-null   object \n",
      " 2   Street                         9655 non-null   object \n",
      " 3   First Name                     9655 non-null   object \n",
      " 4   Surname                        9655 non-null   object \n",
      " 5   Age                            9655 non-null   float64\n",
      " 6   Relationship to Head of House  9655 non-null   object \n",
      " 7   Marital Status                 7258 non-null   object \n",
      " 8   Gender                         9655 non-null   object \n",
      " 9   Occupation                     9655 non-null   object \n",
      " 10  Infirmity                      9655 non-null   object \n",
      " 11  Religion                       7189 non-null   object \n",
      "dtypes: float64(1), int64(1), object(10)\n",
      "memory usage: 905.3+ KB\n"
     ]
    }
   ],
   "source": [
    "df.info()"
   ]
  },
  {
   "cell_type": "markdown",
   "id": "9d556dcc",
   "metadata": {},
   "source": [
    "#### Observations"
   ]
  },
  {
   "cell_type": "markdown",
   "id": "a06b6f44",
   "metadata": {},
   "source": [
    "- The variable \"Unnamed: 0\" is a serial number which isn't useful in our analysis\n",
    "- Age is float, so it will be changed to integers"
   ]
  },
  {
   "cell_type": "markdown",
   "id": "b6039c32",
   "metadata": {},
   "source": [
    "#### Corrections"
   ]
  },
  {
   "cell_type": "markdown",
   "id": "c1a0254b",
   "metadata": {},
   "source": [
    "- Dropping the variable \"Unamed:0\""
   ]
  },
  {
   "cell_type": "code",
   "execution_count": 4,
   "id": "c864adb0",
   "metadata": {},
   "outputs": [
    {
     "data": {
      "text/html": [
       "<div>\n",
       "<style scoped>\n",
       "    .dataframe tbody tr th:only-of-type {\n",
       "        vertical-align: middle;\n",
       "    }\n",
       "\n",
       "    .dataframe tbody tr th {\n",
       "        vertical-align: top;\n",
       "    }\n",
       "\n",
       "    .dataframe thead th {\n",
       "        text-align: right;\n",
       "    }\n",
       "</style>\n",
       "<table border=\"1\" class=\"dataframe\">\n",
       "  <thead>\n",
       "    <tr style=\"text-align: right;\">\n",
       "      <th></th>\n",
       "      <th>House Number</th>\n",
       "      <th>Street</th>\n",
       "      <th>First Name</th>\n",
       "      <th>Surname</th>\n",
       "      <th>Age</th>\n",
       "      <th>Relationship to Head of House</th>\n",
       "      <th>Marital Status</th>\n",
       "      <th>Gender</th>\n",
       "      <th>Occupation</th>\n",
       "      <th>Infirmity</th>\n",
       "      <th>Religion</th>\n",
       "    </tr>\n",
       "  </thead>\n",
       "  <tbody>\n",
       "    <tr>\n",
       "      <th>0</th>\n",
       "      <td>1</td>\n",
       "      <td>Orryjar Lane</td>\n",
       "      <td>Kieran</td>\n",
       "      <td>Ward</td>\n",
       "      <td>56.0</td>\n",
       "      <td>Head</td>\n",
       "      <td>Single</td>\n",
       "      <td>Male</td>\n",
       "      <td>Careers adviser</td>\n",
       "      <td>None</td>\n",
       "      <td>Catholic</td>\n",
       "    </tr>\n",
       "    <tr>\n",
       "      <th>1</th>\n",
       "      <td>1</td>\n",
       "      <td>Orryjar Lane</td>\n",
       "      <td>Abdul</td>\n",
       "      <td>Pickering</td>\n",
       "      <td>43.0</td>\n",
       "      <td>None</td>\n",
       "      <td>Single</td>\n",
       "      <td>Male</td>\n",
       "      <td>Public relations account executive</td>\n",
       "      <td>None</td>\n",
       "      <td>Christian</td>\n",
       "    </tr>\n",
       "    <tr>\n",
       "      <th>2</th>\n",
       "      <td>2</td>\n",
       "      <td>Orryjar Lane</td>\n",
       "      <td>Rosemary</td>\n",
       "      <td>Steele</td>\n",
       "      <td>30.0</td>\n",
       "      <td>Head</td>\n",
       "      <td>Single</td>\n",
       "      <td>Female</td>\n",
       "      <td>Meteorologist</td>\n",
       "      <td>None</td>\n",
       "      <td>Christian</td>\n",
       "    </tr>\n",
       "    <tr>\n",
       "      <th>3</th>\n",
       "      <td>3</td>\n",
       "      <td>Orryjar Lane</td>\n",
       "      <td>Marilyn</td>\n",
       "      <td>Cooke</td>\n",
       "      <td>53.0</td>\n",
       "      <td>Head</td>\n",
       "      <td>Single</td>\n",
       "      <td>Female</td>\n",
       "      <td>Jewellery designer</td>\n",
       "      <td>None</td>\n",
       "      <td>Christian</td>\n",
       "    </tr>\n",
       "    <tr>\n",
       "      <th>4</th>\n",
       "      <td>4</td>\n",
       "      <td>Orryjar Lane</td>\n",
       "      <td>Samantha</td>\n",
       "      <td>Coates</td>\n",
       "      <td>63.0</td>\n",
       "      <td>Head</td>\n",
       "      <td>Single</td>\n",
       "      <td>Female</td>\n",
       "      <td>Trade mark attorney</td>\n",
       "      <td>None</td>\n",
       "      <td>None</td>\n",
       "    </tr>\n",
       "  </tbody>\n",
       "</table>\n",
       "</div>"
      ],
      "text/plain": [
       "  House Number        Street First Name    Surname   Age  \\\n",
       "0            1  Orryjar Lane     Kieran       Ward  56.0   \n",
       "1            1  Orryjar Lane      Abdul  Pickering  43.0   \n",
       "2            2  Orryjar Lane   Rosemary     Steele  30.0   \n",
       "3            3  Orryjar Lane    Marilyn      Cooke  53.0   \n",
       "4            4  Orryjar Lane   Samantha     Coates  63.0   \n",
       "\n",
       "  Relationship to Head of House Marital Status  Gender  \\\n",
       "0                          Head         Single    Male   \n",
       "1                          None         Single    Male   \n",
       "2                          Head         Single  Female   \n",
       "3                          Head         Single  Female   \n",
       "4                          Head         Single  Female   \n",
       "\n",
       "                           Occupation Infirmity   Religion  \n",
       "0                     Careers adviser      None   Catholic  \n",
       "1  Public relations account executive      None  Christian  \n",
       "2                       Meteorologist      None  Christian  \n",
       "3                  Jewellery designer      None  Christian  \n",
       "4                 Trade mark attorney      None       None  "
      ]
     },
     "execution_count": 4,
     "metadata": {},
     "output_type": "execute_result"
    }
   ],
   "source": [
    "df = df.drop(['Unnamed: 0'], axis=1)\n",
    "df.head()"
   ]
  },
  {
   "cell_type": "markdown",
   "id": "52ecb97b",
   "metadata": {},
   "source": [
    "- Convert variable \"Age\" from float to integer"
   ]
  },
  {
   "cell_type": "code",
   "execution_count": 5,
   "id": "10dcc7c2",
   "metadata": {},
   "outputs": [
    {
     "data": {
      "text/plain": [
       "0       56\n",
       "1       43\n",
       "2       30\n",
       "3       53\n",
       "4       63\n",
       "        ..\n",
       "9650    39\n",
       "9651     6\n",
       "9652     3\n",
       "9653     1\n",
       "9654    64\n",
       "Name: Age, Length: 9655, dtype: int32"
      ]
     },
     "execution_count": 5,
     "metadata": {},
     "output_type": "execute_result"
    }
   ],
   "source": [
    "df[\"Age\"]= df['Age'].astype('int')\n",
    "df[\"Age\"]\n",
    "# refernce: https://sparkbyexamples.com/pandas/pandas-convert-column-to-int/"
   ]
  },
  {
   "cell_type": "markdown",
   "id": "400290eb",
   "metadata": {},
   "source": [
    "### Check for duplicate values"
   ]
  },
  {
   "cell_type": "code",
   "execution_count": 6,
   "id": "f7677587",
   "metadata": {},
   "outputs": [
    {
     "data": {
      "text/plain": [
       "0"
      ]
     },
     "execution_count": 6,
     "metadata": {},
     "output_type": "execute_result"
    }
   ],
   "source": [
    "df.duplicated().sum()"
   ]
  },
  {
   "cell_type": "markdown",
   "id": "5a557dd8",
   "metadata": {},
   "source": [
    "###### There are no duplicates in this data"
   ]
  },
  {
   "cell_type": "markdown",
   "id": "20432258",
   "metadata": {},
   "source": [
    "### Check for missing values"
   ]
  },
  {
   "cell_type": "code",
   "execution_count": 7,
   "id": "7f36a333",
   "metadata": {},
   "outputs": [
    {
     "data": {
      "text/plain": [
       "House Number                        0\n",
       "Street                              0\n",
       "First Name                          0\n",
       "Surname                             0\n",
       "Age                                 0\n",
       "Relationship to Head of House       0\n",
       "Marital Status                   2397\n",
       "Gender                              0\n",
       "Occupation                          0\n",
       "Infirmity                           0\n",
       "Religion                         2466\n",
       "dtype: int64"
      ]
     },
     "execution_count": 7,
     "metadata": {},
     "output_type": "execute_result"
    }
   ],
   "source": [
    "df.isnull().sum()"
   ]
  },
  {
   "cell_type": "markdown",
   "id": "d099e5dc",
   "metadata": {},
   "source": [
    "#### Observations"
   ]
  },
  {
   "cell_type": "markdown",
   "id": "99bf1bd7",
   "metadata": {},
   "source": [
    "- Marital Status has 2397 missing vlues\n",
    "- Religion has 2466 missing values"
   ]
  },
  {
   "cell_type": "markdown",
   "id": "a5acdd33",
   "metadata": {},
   "source": [
    "#### Corrections"
   ]
  },
  {
   "cell_type": "markdown",
   "id": "ef034c25",
   "metadata": {},
   "source": [
    "There are different ways to treat missing value of objects which are:\n",
    "- Fill with the most frequent variable which is the mode\n",
    "- Drop missing values\n",
    "- Forward/ Backward fill\n",
    "- Tag as unknown\n",
    "\n",
    "Since the missing values are much i'll be going with the last option by filling the missing values as unknown"
   ]
  },
  {
   "cell_type": "code",
   "execution_count": 8,
   "id": "533b00bc",
   "metadata": {},
   "outputs": [],
   "source": [
    "#filling missing values\n",
    "df[\"Marital Status\"] = df[\"Marital Status\"].fillna(\"Minor\")\n",
    "df[\"Religion\"] = df[\"Religion\"].fillna(\"Unknown\")"
   ]
  },
  {
   "cell_type": "code",
   "execution_count": 9,
   "id": "0b441556",
   "metadata": {},
   "outputs": [
    {
     "data": {
      "text/plain": [
       "House Number                     0\n",
       "Street                           0\n",
       "First Name                       0\n",
       "Surname                          0\n",
       "Age                              0\n",
       "Relationship to Head of House    0\n",
       "Marital Status                   0\n",
       "Gender                           0\n",
       "Occupation                       0\n",
       "Infirmity                        0\n",
       "Religion                         0\n",
       "dtype: int64"
      ]
     },
     "execution_count": 9,
     "metadata": {},
     "output_type": "execute_result"
    }
   ],
   "source": [
    "df.isnull().sum()\n",
    "#missing values has been treated"
   ]
  },
  {
   "cell_type": "markdown",
   "id": "04d052c7",
   "metadata": {},
   "source": [
    "### Check unique values to know if there are any formatting issues"
   ]
  },
  {
   "cell_type": "markdown",
   "id": "4e15150c",
   "metadata": {},
   "source": [
    "- #### Check unique values for House Number"
   ]
  },
  {
   "cell_type": "code",
   "execution_count": 10,
   "id": "127e2ae4",
   "metadata": {},
   "outputs": [
    {
     "data": {
      "text/plain": [
       "array(['1', '2', '3', '4', '5', '6', '7', '8', '9', '10', '11', '12',\n",
       "       '13', '14', '15', '16', '17', '18', '19', '20', '21', '22', '23',\n",
       "       '24', '25', '26', '27', '28', '29', '30', '31', '32', '33', '34',\n",
       "       '35', '36', '37', '38', '39', '40', '41', '42', '43', '44', '45',\n",
       "       '46', '47', '48', '49', '50', '51', '52', '53', '54', '55', '56',\n",
       "       '57', '58', '59', '60', '61', '62', '63', '64', '65', '66', '67',\n",
       "       '68', '69', '70', '71', '72', '73', '74', '75', '76', '77', '78',\n",
       "       '79', '80', '81', '82', '83', '84', '85', '86', '87', '88', '89',\n",
       "       '90', '91', '92', '93', '94', '95', '96', '97', '98', '99', '100',\n",
       "       '101', '102', '103', '104', '105', '106', '107', '108', '109',\n",
       "       '110', '111', '112', '113', '114', '115', '116', '117', '118',\n",
       "       '119', '120', '121', '122', '123', '124', '125', '126', '127',\n",
       "       '128', '129', '130', '131', '132', '133', '134', '135', '136',\n",
       "       '137', '138', '139', '140', '141', '142', '143', '144', '145',\n",
       "       '146', '147', '148', '149', '150', '151', '152', '153', '154',\n",
       "       '155', '156', '157', '158', '159', '160', '161', '162', '163',\n",
       "       '164', '165', '166', '167', '168', '169', '170', '171', '172',\n",
       "       'eight'], dtype=object)"
      ]
     },
     "execution_count": 10,
     "metadata": {},
     "output_type": "execute_result"
    }
   ],
   "source": [
    "df[\"House Number\"].unique()"
   ]
  },
  {
   "cell_type": "markdown",
   "id": "6981c6b7",
   "metadata": {},
   "source": [
    "#### Observations"
   ]
  },
  {
   "cell_type": "markdown",
   "id": "efe785c0",
   "metadata": {},
   "source": [
    "- There's inconsistency in the entries for \"House Number\", an entry is written in alphabet instead of number\n",
    "- Data type is object instead of integer"
   ]
  },
  {
   "cell_type": "markdown",
   "id": "f9d8677c",
   "metadata": {},
   "source": [
    "#### Corrections"
   ]
  },
  {
   "cell_type": "markdown",
   "id": "49390cca",
   "metadata": {},
   "source": [
    "- Treating incosistency/format error\n"
   ]
  },
  {
   "cell_type": "code",
   "execution_count": 11,
   "id": "297d3f5e",
   "metadata": {},
   "outputs": [],
   "source": [
    "#replacing \"eight\" with \"8\"\n",
    "df[\"House Number\"] = df[\"House Number\"].replace(\"eight\", \"8\")"
   ]
  },
  {
   "cell_type": "code",
   "execution_count": 12,
   "id": "c95eff35",
   "metadata": {},
   "outputs": [
    {
     "data": {
      "text/plain": [
       "array(['1', '2', '3', '4', '5', '6', '7', '8', '9', '10', '11', '12',\n",
       "       '13', '14', '15', '16', '17', '18', '19', '20', '21', '22', '23',\n",
       "       '24', '25', '26', '27', '28', '29', '30', '31', '32', '33', '34',\n",
       "       '35', '36', '37', '38', '39', '40', '41', '42', '43', '44', '45',\n",
       "       '46', '47', '48', '49', '50', '51', '52', '53', '54', '55', '56',\n",
       "       '57', '58', '59', '60', '61', '62', '63', '64', '65', '66', '67',\n",
       "       '68', '69', '70', '71', '72', '73', '74', '75', '76', '77', '78',\n",
       "       '79', '80', '81', '82', '83', '84', '85', '86', '87', '88', '89',\n",
       "       '90', '91', '92', '93', '94', '95', '96', '97', '98', '99', '100',\n",
       "       '101', '102', '103', '104', '105', '106', '107', '108', '109',\n",
       "       '110', '111', '112', '113', '114', '115', '116', '117', '118',\n",
       "       '119', '120', '121', '122', '123', '124', '125', '126', '127',\n",
       "       '128', '129', '130', '131', '132', '133', '134', '135', '136',\n",
       "       '137', '138', '139', '140', '141', '142', '143', '144', '145',\n",
       "       '146', '147', '148', '149', '150', '151', '152', '153', '154',\n",
       "       '155', '156', '157', '158', '159', '160', '161', '162', '163',\n",
       "       '164', '165', '166', '167', '168', '169', '170', '171', '172'],\n",
       "      dtype=object)"
      ]
     },
     "execution_count": 12,
     "metadata": {},
     "output_type": "execute_result"
    }
   ],
   "source": [
    "df[\"House Number\"].unique()"
   ]
  },
  {
   "cell_type": "markdown",
   "id": "cbe6f832",
   "metadata": {},
   "source": [
    "- #### Check unique values for Street"
   ]
  },
  {
   "cell_type": "code",
   "execution_count": 13,
   "id": "e0c8ce83",
   "metadata": {},
   "outputs": [
    {
     "data": {
      "text/plain": [
       "array(['Orryjar Lane', 'Protectorate Manors', 'West Road',\n",
       "       'Wood Extensions', 'Dumnonianet Drive', 'Ali Harbors',\n",
       "       'Hill Street', 'Clayton Lake', 'Spider Avenue', 'Ashton Corner',\n",
       "       'Snapdragonbarrier Drive', 'Walker Oval', 'St.Mark Terrace',\n",
       "       'Ball Rest', 'Hodgson Mountain', 'Tamarisk Street',\n",
       "       'Clearwater Lodge', 'Foxglovepull Drive', 'Repton Drive',\n",
       "       'Wembley Junction', 'Weston Point', 'Barrett Circles', 'Bond Burg',\n",
       "       'Wells Avenue', 'St.Matthew Valleys', 'Rogers Lodge',\n",
       "       'Pilgrim Drive', 'Black Causeway', 'Coconut Lane', 'John Avenue',\n",
       "       'Kelly Knoll', 'Mason Drive', 'Taylor Flat', 'Brickcharm Street',\n",
       "       'Lynch Streets', 'Cooper Lane', 'Testamentcurl Street',\n",
       "       'Rogers Field', 'Southampton Wells', 'Todd Canyon',\n",
       "       'Kestrelshy Lane', 'Tegid Drive', 'Brass Centers',\n",
       "       'Pinewood Course', 'Queen Road', 'Stirlingtun Road',\n",
       "       'Fisher Drive', 'Repton Crest', 'Pillarfix Street',\n",
       "       'Charity Avenue', 'Repton Street', 'Jones Spring',\n",
       "       'Coniferhatch Drive', 'Newcastle Pine', 'Farthing Club',\n",
       "       'Bishop Avenue', 'Wolverine Forges', 'Butler Road', 'Brass Pine',\n",
       "       'Randall Throughway', 'June Lane', 'Tiger Street',\n",
       "       'William Squares', 'Capricorn Common', 'Roberts Crescent',\n",
       "       'Sandy Avenue', 'Mahogany Drive', 'Glasgow Drive',\n",
       "       \"O'Sullivan Avenue\", 'Ring Street', 'Bentley Forges', 'Steel Road',\n",
       "       'Equinoxbait Road', 'Pendragon Avenue', 'Palmer Drive',\n",
       "       'Wolverine Drive', 'Parker Stream', 'Canary Glen',\n",
       "       'Hutchinson Rest', 'Wales Parks', 'Sagittarius Glen',\n",
       "       'Dublin Oval', 'Lee Road', 'Simpson Lakes', 'Stone Extensions',\n",
       "       'Cumberland Street', 'Clementine Avenue', 'Walker Corner',\n",
       "       'Outer Road', 'Protectorate Skyway', 'England Tower',\n",
       "       'Robinson Cottage', 'Marshall Rectory', 'Inverness Fortress',\n",
       "       'James Commune', 'Bastille Keep', 'Reindeer Commune', 'Hill Barn',\n",
       "       'Barry Rectory', 'Lyons Abbey', 'Fletcher Granary',\n",
       "       'Brightwater Haven', 'Edwards Manorhouse', 'Memorial Citadel',\n",
       "       'Armagh Longhouse'], dtype=object)"
      ]
     },
     "execution_count": 13,
     "metadata": {},
     "output_type": "execute_result"
    }
   ],
   "source": [
    "df[\"Street\"].unique()"
   ]
  },
  {
   "cell_type": "markdown",
   "id": "b9365f5f",
   "metadata": {},
   "source": [
    "#### Observation\n",
    "- There are no format error/ inconsistent entries"
   ]
  },
  {
   "cell_type": "markdown",
   "id": "25d5d804",
   "metadata": {},
   "source": [
    "- #### Check unique values for First Name"
   ]
  },
  {
   "cell_type": "code",
   "execution_count": 14,
   "id": "b32f5bcd",
   "metadata": {},
   "outputs": [
    {
     "data": {
      "text/plain": [
       "array(['Kieran', 'Abdul', 'Rosemary', 'Marilyn', 'Samantha', 'Phillip',\n",
       "       'Douglas', 'Louise', 'Jade', 'Mathew', 'Annette', 'William',\n",
       "       'Claire', 'Ellie', 'Rhys', 'Chelsea', 'Joshua', 'Lynn', 'Valerie',\n",
       "       'Dylan', 'Diane', 'John', 'Julie', 'Jacob', 'Gary', 'Katherine',\n",
       "       'Sophie', 'Damian', 'Christopher', 'Frederick', 'Charles', 'Eric',\n",
       "       'Gareth', 'Clive', 'Kathleen', 'Lindsey', 'Sam', 'Benjamin',\n",
       "       'June', 'Leah', 'Paul', 'Linda', 'Joseph', 'Suzanne', 'Laura',\n",
       "       'Justin', 'Bruce', 'Alex', 'Geoffrey', 'Paula', 'Luke', 'Natalie',\n",
       "       'Joe', 'Wayne', 'Lesley', 'Josephine', 'Jessica', 'Simon', 'Sian',\n",
       "       'Caroline', 'Max', 'Malcolm', 'Joyce', 'Georgia', 'Graham',\n",
       "       'Grace', 'Terence', 'Judith', 'Lewis', 'Dean', 'Margaret',\n",
       "       'Sylvia', 'Gordon', 'Martin', 'Joanne', 'Cameron', 'Geraldine',\n",
       "       'Jake', 'Trevor', 'Sarah', 'Elliot', 'Maurice', 'Ruth', 'Denise',\n",
       "       'Anna', 'Yvonne', 'Dorothy', 'Bernard', 'Jack', 'Jill', 'Jeremy',\n",
       "       'Donna', 'Catherine', 'Lawrence', 'Chloe', 'Kathryn', 'Roger',\n",
       "       'Roy', 'Tina', 'Lorraine', 'Patrick', 'Carl', 'Shane', 'Graeme',\n",
       "       'Terry', 'Stephen', 'Alison', 'Dominic', 'Rita', 'Mitchell',\n",
       "       'Allan', 'Marian', 'Callum', 'Kerry', 'Kate', 'Rachael', 'Diana',\n",
       "       'Sally', 'Toby', 'Samuel', 'James', 'Mark', 'Stacey', 'Shannon',\n",
       "       'Gerard', 'Kayleigh', 'Megan', 'Damien', 'Timothy', 'Barry',\n",
       "       'Joan', 'Jemma', 'Frank', 'Jennifer', 'Holly', 'Glenn', 'Michelle',\n",
       "       'Elliott', 'Melissa', 'Ross', 'Bryan', 'Leslie', 'Angela', 'Kelly',\n",
       "       'Craig', 'Charlotte', 'Matthew', 'Carole', 'Emily', 'Connor',\n",
       "       'Gerald', 'Brandon', 'Marc', 'Jason', 'Beverley', 'Charlie',\n",
       "       'Jayne', 'Michael', 'Hannah', 'Hazel', 'Amelia', 'Jean', 'Hollie',\n",
       "       'Ronald', 'Daniel', 'Pamela', 'Cheryl', 'Bethany', 'Antony',\n",
       "       'Dennis', 'Zoe', 'Christine', 'Molly', 'Jacqueline', 'Marcus',\n",
       "       'Danny', 'Naomi', 'Jane', 'Owen', 'Dale', 'Susan', 'Denis',\n",
       "       'Marie', 'Mohammed', 'Dawn', 'Nathan', 'Sean', 'Clare', 'Clifford',\n",
       "       'Georgina', 'Helen', 'Gemma', 'Martyn', 'Mandy', 'Ricky', 'Lee',\n",
       "       'Adam', 'Tom', 'Hilary', 'Harry', 'Conor', 'Lucy', 'Amy',\n",
       "       'Harriet', 'Ann', 'Paige', 'Keith', 'Katie', 'Arthur', 'Patricia',\n",
       "       'Philip', 'Eileen', 'Sharon', 'Russell', 'Nicholas', 'Scott',\n",
       "       'Hugh', 'Sara', 'Gregory', 'Katy', 'David', 'Jodie', 'Julian',\n",
       "       'Nicola', 'Christian', 'Beth', 'Deborah', 'Jenna', 'Stanley',\n",
       "       'Wendy', 'Joel', 'Mary', 'Reece', 'Jonathan', 'Albert', 'Glen',\n",
       "       'Julia', 'Shaun', 'Hayley', 'Duncan', 'Bethan', 'Leigh', 'Rachel',\n",
       "       'Andrea', 'Fiona', 'Howard', 'Vanessa', 'Anne', 'Alexander',\n",
       "       'Liam', 'Kevin', 'Lydia', 'Olivia', 'Robert', 'Derek', 'Lauren',\n",
       "       'Declan', 'Jordan', 'Charlene', 'Kim', 'Carol', 'Pauline',\n",
       "       'Jeffrey', 'Guy', 'Aaron', 'George', 'Norman', 'Frances',\n",
       "       'Bradley', 'Aimee', 'Tony', 'Donald', 'Danielle', 'Lisa',\n",
       "       'Kimberley', 'Steven', 'Marion', 'Tracy', 'Mohamed', 'Lynda',\n",
       "       'Anthony', 'Ryan', 'Barbara', 'Alexandra', 'Shirley', 'Garry',\n",
       "       'Amanda', 'Melanie', 'Alice', 'Maria', 'Maureen', 'Jasmine',\n",
       "       'Stewart', 'Jamie', 'Vincent', 'Henry', 'Amber', 'Robin', 'Nigel',\n",
       "       'Rosie', 'Colin', 'Sandra', 'Iain', 'Victoria', 'Irene', 'Alan',\n",
       "       'Kenneth', 'Gavin', 'Raymond', 'Gail', 'Neil', 'Jay', 'Gillian',\n",
       "       'Lynne', 'Kyle', 'Ben', 'Peter', 'Brenda', 'Emma', 'Janice',\n",
       "       'Rebecca', 'Richard', 'Tracey', 'Leanne', 'Joanna', 'Edward',\n",
       "       'Elaine', 'Carly', 'Teresa', 'Natasha', 'Josh', 'Kirsty', 'Brian',\n",
       "       'Nicole', 'Heather', 'Louis', 'Stephanie', 'Andrew', 'Victor',\n",
       "       'Francesca', 'Debra', 'Billy', 'Karen', 'Francis', 'Carolyn',\n",
       "       'Brett', 'Ashley', 'Leonard', 'Adrian', 'Karl', 'Oliver',\n",
       "       'Elizabeth', 'Eleanor', 'Janet', 'Leon', 'Ashleigh', 'Abbie',\n",
       "       'Thomas', 'Stuart', 'Sheila', 'Abigail', 'Mohammad', 'Darren',\n",
       "       'Ian', ' '], dtype=object)"
      ]
     },
     "execution_count": 14,
     "metadata": {},
     "output_type": "execute_result"
    }
   ],
   "source": [
    "df[\"First Name\"].unique()"
   ]
  },
  {
   "cell_type": "markdown",
   "id": "6d2a0f45",
   "metadata": {},
   "source": [
    "- #### Check unique values for Surname"
   ]
  },
  {
   "cell_type": "code",
   "execution_count": 15,
   "id": "c57ad879",
   "metadata": {},
   "outputs": [
    {
     "data": {
      "text/plain": [
       "array(['Ward', 'Pickering', 'Steele', 'Cooke', 'Coates', 'Dale', 'Thomas',\n",
       "       'Mitchell', 'Young', 'Wilkinson', 'Allen', 'Jackson', 'Kerr',\n",
       "       'Williams', 'Collins', 'Lee', 'Read', 'Long', 'Turner', 'Murray',\n",
       "       'Holmes', 'Lewis', 'Richards', 'Byrne', 'Khan', \"O'Brien\", 'Fox',\n",
       "       'Boyle-Barker', 'Taylor', 'Roberts-Taylor', 'Shah', 'Carr',\n",
       "       'Thompson', 'Davies-Thompson', 'Davies', 'Atkinson', 'Walsh',\n",
       "       'Wells', 'Webb', 'Hall', 'North', 'Williamson', 'Woods', 'Brown',\n",
       "       'Warner', 'Baker', 'Norton', 'Elliott', 'Long-Elliott', 'Rice',\n",
       "       'Hope', 'Lloyd', 'Burton', 'Graham', 'Chapman', 'Skinner',\n",
       "       'Simpson', 'Metcalfe', 'Cole', 'Bird', 'Kaur', 'Frost', 'Wood',\n",
       "       'Shaw', 'Fry', 'Marshall', 'Dixon', 'Gallagher', 'Moore', 'Newman',\n",
       "       'Burns', 'Cartwright', 'Ellis', \"O'Connor\", 'Wilson', 'Hopkins',\n",
       "       'Morton', 'Porter', 'McCarthy', 'Price', 'Jones', 'Ross', 'Gordon',\n",
       "       'Smith', 'Lynch', 'Blackburn', 'Short', 'Hill', 'Morgan', 'Miller',\n",
       "       'Phillips', 'Rees', 'Hussain', 'Ali', 'Johnson', 'Harvey',\n",
       "       'Pearce', 'Noble', 'Perkins', 'Willis', 'Hunter', 'Bennett',\n",
       "       'Stone', 'Curtis', 'Lucas', 'Nicholls', 'Murphy', 'Payne',\n",
       "       'Hamilton', 'Evans', 'Martin', 'Andrews', 'Matthews', 'Watts',\n",
       "       'Nolan', 'McDonald', 'Warren-McDonald', 'Watson', 'Morris',\n",
       "       'Sharpe', 'Watkins', 'Brooks', 'Begum', 'Pearson', 'Anderson',\n",
       "       'Ahmed', 'Fleming', 'Barnett', 'Green', 'Stanley', 'Clarke',\n",
       "       'Cooper', 'Wall', 'Osborne', 'Farrell', 'Reid-Dixon', 'Austin',\n",
       "       'Powell-Williams', 'Dawson', 'Booth', 'Fowler-Davies', 'Brookes',\n",
       "       'Richardson', 'Wyatt', 'Scott', 'Clark', 'Harrison', 'Robinson',\n",
       "       'Sutton', 'Kelly', 'Poole', 'Ball', 'Sinclair', 'Bell', 'Lowe',\n",
       "       'Harding', 'Gray', 'Power', 'Wall-Power', 'Knight',\n",
       "       'Edwards-Evans', 'Fletcher', 'Mills', 'Hughes-Warner', 'Day',\n",
       "       'Russell', 'Daniels', 'Jenkins', 'Lees', 'Fisher', 'Todd',\n",
       "       'Foster', 'Gregory', 'Harris', 'Mason', 'Ryan', 'Stewart', 'Rowe',\n",
       "       'Cox', 'Dodd', 'Rose', 'Nicholson', 'Hardy', 'Chambers', 'Coleman',\n",
       "       'Singh', 'Smart', 'Wright', 'Bryan', 'Butler', 'Foster-Evans',\n",
       "       'Robertson', 'Hayes', 'Thomson', 'Lawrence', 'Thompson-Murphy',\n",
       "       'Spencer', 'Hancock', 'Sharp', 'Miles', 'Forster', 'Abbott',\n",
       "       'Walker', 'Kirby', 'Powell', 'Hurst', 'Lambert', 'Bailey', 'Patel',\n",
       "       'Watts-Bennett', 'Winter', 'Nelson-Winter', 'Lewis-Nelson-Winter',\n",
       "       'Doyle', 'Stevens', 'Donnelly', 'Kemp', 'Wallace', 'Grant',\n",
       "       'Alexander', 'Chandler', 'Gardiner', 'Henderson', 'Palmer',\n",
       "       'Charlton', 'Reid', 'Patterson', 'Hale', 'Buckley',\n",
       "       'Richardson-Cartwright', 'Bentley', 'Schofield', 'Bull', 'Howard',\n",
       "       'Parker', 'Chan', 'McLean', 'Berry', 'Holden', 'Sanders', 'Gill',\n",
       "       'Hyde', 'Webster', 'Bevan', 'Freeman', 'Perry', 'Adams', 'Parkes',\n",
       "       'Reynolds', 'Storey', 'Jennings', 'Ford', 'Cross', 'Davidson',\n",
       "       'Bolton', 'Barnes', 'Benson', 'Bates', 'Thomas-Andrews', 'Holt',\n",
       "       'Rogers', 'McKenzie', 'Hawkins', 'Morrison-Lewis', 'Connor',\n",
       "       'Quinn', 'Houghton', 'Barry', 'Clements', 'Walton', 'Wallis',\n",
       "       'Barrett', 'Burke', 'Faulkner', 'Wheeler', 'Rowley', 'Parkin',\n",
       "       'Rahman', 'Swift', 'Johnston', 'Arnold', 'Griffin', 'Carr-Carter',\n",
       "       'Hunt-Rogers', 'Whittaker', 'Francis', 'Knowles', 'May',\n",
       "       'Humphreys', 'Nelson', 'Stokes', 'Armstrong', 'Edwards', 'Kent',\n",
       "       'Howell', 'Leonard', 'Robson', 'Davison', 'Henry', 'Wilkins',\n",
       "       'Lyons', 'Harper', 'Parsons', 'Vaughan', 'Howarth', 'Whitehead',\n",
       "       'Woodward', 'Shepherd', 'Haynes', 'Dunn', 'Fuller', 'Brady',\n",
       "       'Moss', 'Newton', 'Hunt', 'Moran', 'Bradshaw', 'Hughes', 'Little',\n",
       "       'Garner', 'Marsden', 'Dickinson', 'Kirk', 'Oliver', 'Gough',\n",
       "       'Gibson', 'Manning', 'Hewitt', 'Owen', 'Baxter', 'Bradley',\n",
       "       'Warren', 'Hargreaves', 'Roberts-Brown', 'Dennis', 'Lamb',\n",
       "       'Goodwin', 'Mellor-Williams', 'Peters', 'Pugh', 'Pugh-Davies',\n",
       "       'Franklin', 'White', 'Hartley', 'Gardner', 'Mann', 'Yates',\n",
       "       'Field', 'Marsh', 'Weston', 'Spencer-Miles', 'Humphries', 'Hart',\n",
       "       'Connolly', 'Clayton', 'King', 'Howells', 'Browne', 'West',\n",
       "       'Roberts', 'Middleton', 'Griffiths', 'Birch', 'Hammond', 'Jarvis',\n",
       "       'Walters', 'Carpenter', 'Hanson', 'Norman', 'Giles', 'Stephens',\n",
       "       'Mellor', 'Blake', 'Dyer', 'Khan-Thomson', 'Savage', 'Nash',\n",
       "       'James', 'Welch', 'Summers', 'Hutchinson', 'Gould', 'Ashton',\n",
       "       'Carter', 'Mistry', 'Ferguson', 'Kennedy', 'Riley', 'Sims',\n",
       "       'Campbell', 'Tucker-Doherty', 'Lawson', 'Cameron', 'Randall',\n",
       "       'Page', 'Shaw-Barnes', 'Craig', 'Cook', 'Dobson', 'Baxter-Dobson',\n",
       "       'Iqbal', 'Fraser', 'Higgins', 'Bond', 'Jordan', 'Sykes', 'Lord',\n",
       "       'Kay', 'George', 'Archer', 'Brennan', 'Tucker', 'Miah',\n",
       "       'Lewis-Ford', 'Joyce', 'Martin-Griffiths', 'Collier', 'Wade',\n",
       "       'Greenwood', 'Bibi', 'Carroll', 'Carroll-Sharpe', 'Black',\n",
       "       'Barlow', 'Finch', 'Barnes-Abbott', 'Byrne-Robertson',\n",
       "       'Black-White', 'Barton', 'Reed', \"O'Neill-Evans\", 'Talbot',\n",
       "       'Patel-Davies', 'Duncan', \"O'Sullivan\", 'Duffy', 'Begum-Jones',\n",
       "       'Townsend', 'Rhodes', 'Waters', 'Patel-Wood', 'Holloway', 'Hicks',\n",
       "       'Flynn', 'Hooper', 'Allan', 'Law', 'Boyle-Craig',\n",
       "       'Stevenson-Boyle-Craig', \"O'Neill-Gibson\", 'Horton', 'Reeves',\n",
       "       'Davis', 'Khan-Griffiths', 'Cook-Graham', 'Thornton', 'Glover',\n",
       "       'Akhtar', \"O'Neill\", 'Slater', 'Saunders', 'Holland', 'Hayward',\n",
       "       'Anderson-Wilson', 'Peacock', 'Kelly-Norton', 'Smith-Hall',\n",
       "       'Nixon', 'Pritchard', 'Morley', 'Davies-Austin', 'Lucas-Thornton',\n",
       "       'Price-Nolan', 'Sanderson', 'Barber', 'Hudson', 'Hilton-Williams',\n",
       "       'Hunt-Matthews', 'Reynolds-Jones', 'Parry', 'Baldwin', 'Herbert',\n",
       "       'Adams-Baxter', 'Fowler', 'Burgess', 'Martin-Bradley', 'Tomlinson',\n",
       "       'Dean', 'Briggs', 'Simmons', 'Hilton', 'Hilton-Gibson', 'Potter',\n",
       "       'Coles', 'Myers', 'Bowen-Hall', 'Walker-Hughes', 'Chamberlain',\n",
       "       'Bartlett', 'Ward-Smith', 'Singh-Black', 'Rowe-Khan',\n",
       "       'Patel-Mason', 'Turnbull', 'Atkins', 'Banks', 'Edwards-Williams',\n",
       "       'Parkinson', 'Bryant', 'Norris', 'Farmer', 'Wong', 'Pratt',\n",
       "       'French', 'Davis-Wilson', 'Blake-Gray', 'Morrison', 'Macdonald',\n",
       "       'Stevenson', 'Whitehouse', 'Bruce', 'Gibbs', 'Goddard', 'Daly',\n",
       "       'Martin-Bell', 'Gilbert', 'Porter-Palmer', 'Shepherd-Evans',\n",
       "       'Miller-Day', ' ', \"Parkes-O'Sullivan\", 'Smith-Davies', 'Barker',\n",
       "       'Preston', 'Fitzgerald', 'Pope', 'Knight-Lamb', 'John',\n",
       "       'Smith-Thompson', 'Miller-Norton', 'Jones-Walker', 'King-Thompson',\n",
       "       'Jones-Gibson', 'Doherty', 'Naylor', 'Mahmood', 'Burrows',\n",
       "       'Burrows-Ryan', 'Hobbs', 'Bray', 'Edwards-Powell', 'Fox-Parry',\n",
       "       'Fox-Webb', 'Douglas', 'Foster-Simpson', 'Khan-Holt', 'Bowen',\n",
       "       'Clarke-Hewitt', 'Richards-Thomas', 'Sullivan', 'Tyler', 'Pollard',\n",
       "       'Walker-Murray', 'George-McCarthy', 'Little-Lawson', 'Cunningham',\n",
       "       'White-Stone', 'Marsh-Turner', 'Pugh-West', 'Kelly-Kay',\n",
       "       'Ross-Mason', 'Leach', \"O'Donnell\", 'Howe', 'Boyle', 'Ward-Cooper',\n",
       "       'Bishop', 'Norris-Reed', 'Butcher', 'Coleman-Bradshaw',\n",
       "       'Bibi-Smith', 'Miah-Wilson', 'Walsh-Cook', 'Lane-Brooks',\n",
       "       'Robinson-Hewitt', 'Lane', 'Townsend-Oliver', 'Gallagher-Price',\n",
       "       'Owens', \"Morris-O'Brien\", 'Williams-Lawson', 'Hanson-Arnold',\n",
       "       'Edwards-Gill', 'Sheppard', 'Flynn-Smith', 'Johnson-Johnson',\n",
       "       'Thorpe', 'Vincent', 'Mason-Burgess', 'Ingram', 'White-Hughes',\n",
       "       'Heath', 'Watts-Burrows', 'Hudson-Page', 'Bartlett-Sullivan',\n",
       "       'Smith-Reed', 'Clark-Perry', 'Crawford', 'Griffiths-Kay',\n",
       "       'Jackson-Todd', 'Hodgson', 'Walker-Hudson', 'Fox-Bull',\n",
       "       'Stephenson', 'Simpson-Anderson', 'Burgess-Barker',\n",
       "       'Fowler-Kennedy', 'Adams-Ryan', 'Gardiner-Price',\n",
       "       'Barber-Nicholls', 'Bell-Ryan', 'Shaw-Kelly', 'Elliott-Begum',\n",
       "       'McDonald-Long', 'Mills-Stewart', 'Gill-Grant', 'Wilson-Gardiner',\n",
       "       'Benson-Smith', 'Kelly-Hall', 'Smith-Mann', 'Evans-Smith',\n",
       "       'Barrett-Ford', 'Godfrey', 'John-Fletcher', 'Lee-Gregory',\n",
       "       'Bailey-McDonald', 'Davey', 'Chadwick', 'Goodwin-Shepherd',\n",
       "       'Edwards-Barnes', 'Farmer-Marsh', 'Gregory-Parker',\n",
       "       'Williams-Jones', 'Clarke-Taylor', 'Newman-Gough', 'Kemp-Hughes',\n",
       "       'Conway', 'Wilson-Hanson', 'Ford-Morris', 'Roberts-Ryan',\n",
       "       'Davis-Smith', 'Moore-Douglas'], dtype=object)"
      ]
     },
     "execution_count": 15,
     "metadata": {},
     "output_type": "execute_result"
    }
   ],
   "source": [
    "df[\"Surname\"].unique()"
   ]
  },
  {
   "cell_type": "markdown",
   "id": "db5eb8a8",
   "metadata": {},
   "source": [
    "- #### Check unique values for Age"
   ]
  },
  {
   "cell_type": "code",
   "execution_count": 16,
   "id": "05c6e3b2",
   "metadata": {},
   "outputs": [
    {
     "data": {
      "text/plain": [
       "array([ 56,  43,  30,  53,  63,  52,  64,  57,  24,  20,  13,  11,   9,\n",
       "        45,  60,  55,  31,  49,  50,  19,  21,  26,  25,  59,  46,  41,\n",
       "        14,  16,  47,  22,  15,  72,  68,  66,  33,  35,   5,   2,  86,\n",
       "        37,  18,  32,  51,  71,  74,  29,   4,  77,  83,  65,  79,  40,\n",
       "        58,  39,  36,  34,  73,  38,  27,  12,   7,   8,  81,  80,  61,\n",
       "        67,  23,  42,  10,  76,  84,  28,  17,  69,  62,   6,   0,  48,\n",
       "        54,  44,   3,   1,  75,  96,  78,  94,  91,  98, 102,  70,  85,\n",
       "        89,  87,  82,  95, 103,  97,  88, 100,  90,  92,  99])"
      ]
     },
     "execution_count": 16,
     "metadata": {},
     "output_type": "execute_result"
    }
   ],
   "source": [
    "df[\"Age\"].unique()"
   ]
  },
  {
   "cell_type": "markdown",
   "id": "cf87ab0e",
   "metadata": {},
   "source": [
    "#### Observation"
   ]
  },
  {
   "cell_type": "markdown",
   "id": "28ce144f",
   "metadata": {},
   "source": [
    "- There's entry 0 for Age, we'll asumme this is a new born baby under the age of 1year"
   ]
  },
  {
   "cell_type": "code",
   "execution_count": 17,
   "id": "c601c970",
   "metadata": {},
   "outputs": [],
   "source": [
    "#create new coloumn Age Range for easy analysis"
   ]
  },
  {
   "cell_type": "code",
   "execution_count": 18,
   "id": "cd675f07",
   "metadata": {},
   "outputs": [],
   "source": [
    "df['Age_range'] = pd.cut(df.Age, bins=[-1,4,17,25,35,50,65,200], labels=['0-4','5-17','18-25','26-35',\n",
    "                                                                        '36-50', '51-65','66+'])\n",
    "#refrence: stackoverflow"
   ]
  },
  {
   "cell_type": "code",
   "execution_count": 19,
   "id": "fcd0bc6a",
   "metadata": {},
   "outputs": [
    {
     "data": {
      "text/plain": [
       "Age\n",
       "19    193\n",
       "18    171\n",
       "21    171\n",
       "32    170\n",
       "42    170\n",
       "22    169\n",
       "38    169\n",
       "34    166\n",
       "39    163\n",
       "15    158\n",
       "35    157\n",
       "5     154\n",
       "33    154\n",
       "36    154\n",
       "20    152\n",
       "50    152\n",
       "7     151\n",
       "37    150\n",
       "44    148\n",
       "13    147\n",
       "29    147\n",
       "43    147\n",
       "30    146\n",
       "17    143\n",
       "25    143\n",
       "27    142\n",
       "16    141\n",
       "40    141\n",
       "14    140\n",
       "41    138\n",
       "52    138\n",
       "26    137\n",
       "10    137\n",
       "11    136\n",
       "4     135\n",
       "3     134\n",
       "49    133\n",
       "46    130\n",
       "31    130\n",
       "28    130\n",
       "9     129\n",
       "8     127\n",
       "6     127\n",
       "24    125\n",
       "56    121\n",
       "45    121\n",
       "47    120\n",
       "48    119\n",
       "54    118\n",
       "1     114\n",
       "12    113\n",
       "23    112\n",
       "57    109\n",
       "2     109\n",
       "0     105\n",
       "53    105\n",
       "60    102\n",
       "51    101\n",
       "59    100\n",
       "58     98\n",
       "Name: Age, dtype: int64"
      ]
     },
     "execution_count": 19,
     "metadata": {},
     "output_type": "execute_result"
    }
   ],
   "source": [
    "df.groupby(['Age'],sort=False)['Age'].count().sort_values(ascending=False).head(60)"
   ]
  },
  {
   "cell_type": "markdown",
   "id": "39c7443f",
   "metadata": {},
   "source": [
    "- #### Check unique values for Relationship to Head of House"
   ]
  },
  {
   "cell_type": "code",
   "execution_count": 20,
   "id": "300f4206",
   "metadata": {},
   "outputs": [
    {
     "data": {
      "text/plain": [
       "array(['Head', 'None', 'Daughter', 'Son', 'Husband', 'Partner', 'Wife',\n",
       "       'Lodger', 'Grandson', 'Granddaughter', 'Sibling', 'Adopted Son',\n",
       "       'Nephew', 'Neice', 'Step-Son', 'Visitor', 'Cousin',\n",
       "       'Step-Daughter', 'Adopted Grandson', 'Adopted Daughter',\n",
       "       'Adopted Granddaughter', 'Daughter-in-law', ' '], dtype=object)"
      ]
     },
     "execution_count": 20,
     "metadata": {},
     "output_type": "execute_result"
    }
   ],
   "source": [
    "df[\"Relationship to Head of House\"].unique()"
   ]
  },
  {
   "cell_type": "markdown",
   "id": "6f9b8775",
   "metadata": {},
   "source": [
    "#### Observation"
   ]
  },
  {
   "cell_type": "markdown",
   "id": "3bf51477",
   "metadata": {},
   "source": [
    "- There's an empty string/white spaces\n",
    "- There's also a 'None' which will be assumed to be that the individual is staying alone"
   ]
  },
  {
   "cell_type": "markdown",
   "id": "c7a05bc6",
   "metadata": {},
   "source": [
    "#### Correction"
   ]
  },
  {
   "cell_type": "markdown",
   "id": "f5b41c81",
   "metadata": {},
   "source": [
    "- Replacing white spaces with None\n",
    "\n",
    "Empty string can be replace with unkwown or mode but decided to replace with 'None'"
   ]
  },
  {
   "cell_type": "code",
   "execution_count": 21,
   "id": "24f4da02",
   "metadata": {},
   "outputs": [
    {
     "data": {
      "text/plain": [
       "array(['Head', 'None', 'Daughter', 'Son', 'Husband', 'Partner', 'Wife',\n",
       "       'Lodger', 'Grandson', 'Granddaughter', 'Sibling', 'Adopted Son',\n",
       "       'Nephew', 'Neice', 'Step-Son', 'Visitor', 'Cousin',\n",
       "       'Step-Daughter', 'Adopted Grandson', 'Adopted Daughter',\n",
       "       'Adopted Granddaughter', 'Daughter-in-law'], dtype=object)"
      ]
     },
     "execution_count": 21,
     "metadata": {},
     "output_type": "execute_result"
    }
   ],
   "source": [
    "#replacing empty string\n",
    "df[\"Relationship to Head of House\"] = df[\"Relationship to Head of House\"].replace(' ', 'None')\n",
    "df[\"Relationship to Head of House\"].unique()"
   ]
  },
  {
   "cell_type": "code",
   "execution_count": 22,
   "id": "94926e35",
   "metadata": {},
   "outputs": [],
   "source": [
    "#renaming coloumn\n",
    "df = df.rename(columns={\"Relationship to Head of House\": \"Relationship\"})"
   ]
  },
  {
   "cell_type": "markdown",
   "id": "3035facd",
   "metadata": {},
   "source": [
    "- #### Check unique value for Marital status"
   ]
  },
  {
   "cell_type": "code",
   "execution_count": 23,
   "id": "61a06f82",
   "metadata": {},
   "outputs": [
    {
     "data": {
      "text/plain": [
       "array(['Single', 'Divorced', 'Married', 'Minor', 'Widowed', 'W', 'M', 'D',\n",
       "       'S'], dtype=object)"
      ]
     },
     "execution_count": 23,
     "metadata": {},
     "output_type": "execute_result"
    }
   ],
   "source": [
    "df[\"Marital Status\"].unique()"
   ]
  },
  {
   "cell_type": "markdown",
   "id": "151bca79",
   "metadata": {},
   "source": [
    "#### Observation"
   ]
  },
  {
   "cell_type": "markdown",
   "id": "fdf933fb",
   "metadata": {},
   "source": [
    "- There are inconsistencies in the entries"
   ]
  },
  {
   "cell_type": "markdown",
   "id": "cca7a6f2",
   "metadata": {},
   "source": [
    "#### Corrections"
   ]
  },
  {
   "cell_type": "code",
   "execution_count": 24,
   "id": "d2d8985d",
   "metadata": {},
   "outputs": [
    {
     "data": {
      "text/plain": [
       "array(['Single', 'Divorced', 'Married', 'Minor', 'Widowed'], dtype=object)"
      ]
     },
     "execution_count": 24,
     "metadata": {},
     "output_type": "execute_result"
    }
   ],
   "source": [
    "# replace the values\n",
    "df[\"Marital Status\"] = df[\"Marital Status\"].replace({'W':'Widowed', 'M':'Married', 'D':'Divorced', 'S':'Single'})\n",
    "df[\"Marital Status\"].unique()"
   ]
  },
  {
   "cell_type": "markdown",
   "id": "71537e2a",
   "metadata": {},
   "source": [
    "- #### Check unique value for Gender"
   ]
  },
  {
   "cell_type": "code",
   "execution_count": 25,
   "id": "fea0c633",
   "metadata": {},
   "outputs": [
    {
     "data": {
      "text/plain": [
       "array(['Male', 'Female', 'male', 'M', 'f', 'female', 'm', 'F'],\n",
       "      dtype=object)"
      ]
     },
     "execution_count": 25,
     "metadata": {},
     "output_type": "execute_result"
    }
   ],
   "source": [
    "df[\"Gender\"].unique()"
   ]
  },
  {
   "cell_type": "markdown",
   "id": "3d0e4360",
   "metadata": {},
   "source": [
    "#### Observations\n",
    "- There are inconsistency in the entries"
   ]
  },
  {
   "cell_type": "markdown",
   "id": "5e93ac2c",
   "metadata": {},
   "source": [
    "#### Correction\n"
   ]
  },
  {
   "cell_type": "code",
   "execution_count": 26,
   "id": "7409907f",
   "metadata": {},
   "outputs": [
    {
     "data": {
      "text/plain": [
       "array(['Male', 'Female'], dtype=object)"
      ]
     },
     "execution_count": 26,
     "metadata": {},
     "output_type": "execute_result"
    }
   ],
   "source": [
    "#replace values\n",
    "df[\"Gender\"] = df[\"Gender\"].replace({'M':'Male', 'F':'Female', 'm':'Male', 'f':'Female', \n",
    "                                     'male':'Male', 'female':'Female'})\n",
    "df[\"Gender\"].unique()"
   ]
  },
  {
   "cell_type": "markdown",
   "id": "4b28c9ea",
   "metadata": {},
   "source": [
    "- #### Check unique values for Occupation"
   ]
  },
  {
   "cell_type": "code",
   "execution_count": 27,
   "id": "aabb01c9",
   "metadata": {},
   "outputs": [
    {
     "data": {
      "text/plain": [
       "array(['Careers adviser', 'Public relations account executive',\n",
       "       'Meteorologist', ..., 'Retired Architectural technologist',\n",
       "       'Retired Geographical information systems officer',\n",
       "       'Retired Physiological scientist'], dtype=object)"
      ]
     },
     "execution_count": 27,
     "metadata": {},
     "output_type": "execute_result"
    }
   ],
   "source": [
    "df['Occupation'].unique()\n",
    "#not showing all the occupations"
   ]
  },
  {
   "cell_type": "code",
   "execution_count": 28,
   "id": "dc7227d7",
   "metadata": {},
   "outputs": [
    {
     "data": {
      "text/plain": [
       "['Careers adviser',\n",
       " 'Public relations account executive',\n",
       " 'Meteorologist',\n",
       " 'Jewellery designer',\n",
       " 'Trade mark attorney',\n",
       " 'Retail merchandiser',\n",
       " 'Commissioning editor',\n",
       " 'Unemployed',\n",
       " 'Engineer, mining',\n",
       " 'University Student',\n",
       " 'Charity officer',\n",
       " 'Volunteer coordinator',\n",
       " 'Student',\n",
       " 'Student',\n",
       " 'Student',\n",
       " 'Water quality scientist',\n",
       " 'Chartered legal executive (England and Wales)',\n",
       " 'Multimedia programmer',\n",
       " 'Unemployed',\n",
       " 'Oncologist',\n",
       " 'Medical technical officer',\n",
       " 'Podiatrist',\n",
       " 'University Student',\n",
       " 'University Student',\n",
       " 'Insurance broker',\n",
       " 'Chief of Staff',\n",
       " 'Museum/gallery curator',\n",
       " 'Engineer, chemical',\n",
       " 'Architect',\n",
       " 'Scientific laboratory technician',\n",
       " 'Cabin crew',\n",
       " 'Unemployed',\n",
       " 'Unemployed',\n",
       " 'Community development worker',\n",
       " 'Financial trader',\n",
       " 'University Student',\n",
       " 'Insurance broker',\n",
       " 'Structural engineer',\n",
       " 'Unemployed',\n",
       " 'Environmental education officer',\n",
       " 'Unemployed',\n",
       " 'Medical technical officer',\n",
       " 'Student',\n",
       " 'Broadcast engineer',\n",
       " 'Student',\n",
       " 'Unemployed',\n",
       " 'University Student',\n",
       " 'Engineer, automotive',\n",
       " 'Mechanical engineer',\n",
       " 'University Student',\n",
       " 'University Student',\n",
       " 'Student',\n",
       " 'Retired Scientist, biomedical',\n",
       " 'Retired Public relations officer',\n",
       " 'Geophysicist/field seismologist',\n",
       " 'Veterinary surgeon',\n",
       " 'Computer games developer',\n",
       " 'Student',\n",
       " 'Child',\n",
       " 'Child',\n",
       " 'Optician, dispensing',\n",
       " 'Retired Public librarian',\n",
       " 'Hydrogeologist',\n",
       " 'University Student',\n",
       " 'University Student',\n",
       " 'University Student',\n",
       " 'University Student',\n",
       " 'University Student',\n",
       " 'Engineer, materials',\n",
       " 'Retail banker',\n",
       " 'Risk analyst',\n",
       " 'Student',\n",
       " 'Retired Chartered public finance accountant',\n",
       " 'Retired Personnel officer',\n",
       " 'Unemployed',\n",
       " 'Child',\n",
       " 'Retired Accountant, chartered public finance',\n",
       " 'Retired Pilot, airline',\n",
       " 'Administrator, local government',\n",
       " 'Unemployed',\n",
       " 'Teacher, primary school',\n",
       " 'Librarian, public',\n",
       " 'Magazine journalist',\n",
       " 'Economist',\n",
       " 'Retired Actor',\n",
       " 'Retired Exercise physiologist',\n",
       " 'Estate manager/land agent',\n",
       " 'Counselling psychologist',\n",
       " 'Child',\n",
       " 'Retired Volunteer coordinator',\n",
       " 'Retired Mining engineer',\n",
       " 'Advertising account planner',\n",
       " 'Unemployed',\n",
       " 'Unemployed',\n",
       " 'Aeronautical engineer',\n",
       " 'Exhibitions officer, museum/gallery',\n",
       " 'Surveyor, land/geomatics',\n",
       " 'University Student',\n",
       " 'University Student',\n",
       " 'Horticulturist, commercial',\n",
       " 'Chief Operating Officer',\n",
       " 'Engineer, broadcasting (operations)',\n",
       " 'Architect',\n",
       " 'Unemployed',\n",
       " 'Stage manager',\n",
       " 'Administrator, arts',\n",
       " 'Scientist, research (physical sciences)',\n",
       " 'Student',\n",
       " 'Retired Broadcast presenter',\n",
       " 'Retired Aid worker',\n",
       " 'Higher education careers adviser',\n",
       " 'Lobbyist',\n",
       " 'Engineer, agricultural',\n",
       " 'Associate Professor',\n",
       " 'Secretary/administrator',\n",
       " 'Clinical psychologist',\n",
       " 'Student',\n",
       " 'Student',\n",
       " 'Student',\n",
       " 'Student',\n",
       " 'Maintenance engineer',\n",
       " 'Student',\n",
       " 'Student',\n",
       " 'Child',\n",
       " 'Unemployed',\n",
       " 'Human resources officer',\n",
       " 'Retired Multimedia specialist',\n",
       " 'Retired Editorial assistant',\n",
       " 'Arboriculturist',\n",
       " 'Environmental manager',\n",
       " 'Landscape architect',\n",
       " 'Equality and diversity officer',\n",
       " 'Student',\n",
       " 'Engineer, energy',\n",
       " 'Health visitor',\n",
       " 'Unemployed',\n",
       " 'Proofreader',\n",
       " 'Primary school teacher',\n",
       " 'Retired Research scientist (physical sciences)',\n",
       " 'Adult nurse',\n",
       " 'Insurance risk surveyor',\n",
       " 'Secretary/administrator',\n",
       " 'Ranger/warden',\n",
       " 'Student',\n",
       " 'Personal assistant',\n",
       " 'Retired Amenity horticulturist',\n",
       " 'Field trials officer',\n",
       " 'Network engineer',\n",
       " 'Conservator, museum/gallery',\n",
       " 'Journalist, magazine',\n",
       " 'Student',\n",
       " 'Sales promotion account executive',\n",
       " 'Retired Lecturer, higher education',\n",
       " 'Dealer',\n",
       " 'Financial risk analyst',\n",
       " 'Pathologist',\n",
       " 'Jewellery designer',\n",
       " 'Student',\n",
       " 'Child psychotherapist',\n",
       " 'TEFL teacher',\n",
       " 'Student',\n",
       " 'Retired Government social research officer',\n",
       " 'Equality and diversity officer',\n",
       " 'Student',\n",
       " 'Student',\n",
       " 'Retired Insurance broker',\n",
       " 'Geoscientist',\n",
       " 'Associate Professor',\n",
       " 'Secretary/administrator',\n",
       " 'Interior and spatial designer',\n",
       " 'Arboriculturist',\n",
       " 'Corporate investment banker',\n",
       " 'Armed forces logistics/support/administrative officer',\n",
       " 'Dispensing optician',\n",
       " 'Retired Doctor, general practice',\n",
       " 'Unemployed',\n",
       " 'Pathologist',\n",
       " 'Clinical molecular geneticist',\n",
       " 'Advertising art director',\n",
       " 'Architectural technologist',\n",
       " 'Photographer',\n",
       " 'University Student',\n",
       " 'Unemployed',\n",
       " 'Retail buyer',\n",
       " 'Environmental health practitioner',\n",
       " 'Surgeon',\n",
       " 'Civil Service administrator',\n",
       " 'Teaching laboratory technician',\n",
       " 'University Student',\n",
       " 'Corporate treasurer',\n",
       " 'Air broker',\n",
       " 'Environmental manager',\n",
       " 'Arts administrator',\n",
       " 'Therapist, drama',\n",
       " 'Product manager',\n",
       " 'Clothing/textile technologist',\n",
       " 'International aid/development worker',\n",
       " 'Secretary/administrator',\n",
       " 'Commissioning editor',\n",
       " 'Associate Professor',\n",
       " 'Student',\n",
       " 'Recycling officer',\n",
       " 'Holiday representative',\n",
       " 'Photographer',\n",
       " 'Tour manager',\n",
       " 'Student',\n",
       " 'University Student',\n",
       " 'University Student',\n",
       " 'University Student',\n",
       " 'Designer, graphic',\n",
       " 'Engineer, structural',\n",
       " 'Mining engineer',\n",
       " 'Lecturer, higher education',\n",
       " 'Producer, television/film/video',\n",
       " 'Secretary/administrator',\n",
       " 'Surveyor, land/geomatics',\n",
       " 'International aid/development worker',\n",
       " 'Musician',\n",
       " 'Armed forces logistics/support/administrative officer',\n",
       " 'Retired Speech and language therapist',\n",
       " 'Retired Museum/gallery curator',\n",
       " 'Art therapist',\n",
       " 'Psychotherapist, child',\n",
       " 'Journalist, magazine',\n",
       " 'Therapist, sports',\n",
       " 'Scientist, forensic',\n",
       " 'Nutritional therapist',\n",
       " 'Unemployed',\n",
       " 'Librarian, public',\n",
       " 'Student',\n",
       " 'Recycling officer',\n",
       " 'Paediatric nurse',\n",
       " 'Banker',\n",
       " 'Teacher, primary school',\n",
       " 'Marketing executive',\n",
       " 'Tree surgeon',\n",
       " 'Investment banker, operational',\n",
       " 'Student',\n",
       " 'Child',\n",
       " 'Printmaker',\n",
       " 'Chartered legal executive (England and Wales)',\n",
       " 'Therapist, occupational',\n",
       " 'Writer',\n",
       " 'Student',\n",
       " 'Child',\n",
       " 'Press photographer',\n",
       " 'Investment banker, operational',\n",
       " 'Teacher, music',\n",
       " 'Chartered loss adjuster',\n",
       " 'Solicitor',\n",
       " 'Arboriculturist',\n",
       " 'Child',\n",
       " 'Soil scientist',\n",
       " 'Press photographer',\n",
       " 'Chartered legal executive (England and Wales)',\n",
       " 'Student',\n",
       " 'Banker',\n",
       " 'Toxicologist',\n",
       " 'Product designer',\n",
       " 'Student',\n",
       " 'Social researcher',\n",
       " 'Student',\n",
       " 'Student',\n",
       " 'University Student',\n",
       " 'University Student',\n",
       " 'Optometrist',\n",
       " 'Fashion designer',\n",
       " 'Student',\n",
       " 'Student',\n",
       " 'Arts development officer',\n",
       " 'Student',\n",
       " 'Energy manager',\n",
       " 'Electrical engineer',\n",
       " 'Education administrator',\n",
       " 'Student',\n",
       " 'Stage manager',\n",
       " 'Retired Catering manager',\n",
       " 'Retired Agricultural consultant',\n",
       " 'Student',\n",
       " 'Hotel manager',\n",
       " 'Financial trader',\n",
       " 'Student',\n",
       " 'Computer games developer',\n",
       " 'English as a foreign language teacher',\n",
       " 'Student',\n",
       " 'Surveyor, insurance',\n",
       " 'Scientist, marine',\n",
       " 'Child',\n",
       " 'Child',\n",
       " 'Economist',\n",
       " 'University Student',\n",
       " 'Hotel manager',\n",
       " 'Accountant, chartered',\n",
       " 'Student',\n",
       " 'Child',\n",
       " 'University Student',\n",
       " 'University Student',\n",
       " 'University Student',\n",
       " 'Nutritional therapist',\n",
       " 'Student',\n",
       " 'Student',\n",
       " 'Unemployed',\n",
       " 'Student',\n",
       " 'Student',\n",
       " 'Retail merchandiser',\n",
       " 'Television production assistant',\n",
       " 'Student',\n",
       " 'Student',\n",
       " 'TEFL teacher',\n",
       " 'Event organiser',\n",
       " 'Student',\n",
       " 'Retired Embryologist, clinical',\n",
       " 'Retired Television camera operator',\n",
       " 'Sales executive',\n",
       " 'Scientist, water quality',\n",
       " 'Student',\n",
       " 'Student',\n",
       " 'Osteopath',\n",
       " 'Corporate investment banker',\n",
       " 'Student',\n",
       " 'Exercise physiologist',\n",
       " 'Accommodation manager',\n",
       " 'Student',\n",
       " 'Sports administrator',\n",
       " 'Student',\n",
       " 'Student',\n",
       " 'Student',\n",
       " 'Ophthalmologist',\n",
       " 'Legal executive',\n",
       " 'Student',\n",
       " 'Student',\n",
       " 'Student',\n",
       " 'Geoscientist',\n",
       " 'Gaffer',\n",
       " 'Student',\n",
       " 'Child',\n",
       " 'Child',\n",
       " 'Unemployed',\n",
       " 'Child',\n",
       " 'Child',\n",
       " 'Engineer, electronics',\n",
       " 'Conservator, museum/gallery',\n",
       " 'Student',\n",
       " 'Scientific laboratory technician',\n",
       " 'Civil engineer, consulting',\n",
       " 'Student',\n",
       " 'Hotel manager',\n",
       " 'Student',\n",
       " 'Student',\n",
       " 'Student',\n",
       " 'Social researcher',\n",
       " 'Patent examiner',\n",
       " 'Student',\n",
       " 'Student',\n",
       " 'Child',\n",
       " 'Child',\n",
       " 'Child',\n",
       " 'Retired Data scientist',\n",
       " 'Retired Clinical biochemist',\n",
       " 'Student',\n",
       " 'Unemployed',\n",
       " 'Publishing rights manager',\n",
       " 'Agricultural engineer',\n",
       " 'Child',\n",
       " 'Child',\n",
       " 'Designer, blown glass/stained glass',\n",
       " 'Cytogeneticist',\n",
       " 'Public relations officer',\n",
       " 'Immunologist',\n",
       " 'Recruitment consultant',\n",
       " 'Designer, graphic',\n",
       " 'Student',\n",
       " 'Control and instrumentation engineer',\n",
       " 'Audiological scientist',\n",
       " 'Paediatric nurse',\n",
       " 'Unemployed',\n",
       " 'Medical sales representative',\n",
       " 'Designer, blown glass/stained glass',\n",
       " 'Student',\n",
       " 'Health visitor',\n",
       " 'Librarian, public',\n",
       " 'Student',\n",
       " 'Merchandiser, retail',\n",
       " 'Medical illustrator',\n",
       " 'Race relations officer',\n",
       " 'Administrator, charities/voluntary organisations',\n",
       " 'Software engineer',\n",
       " 'Student',\n",
       " 'Scientist, biomedical',\n",
       " 'Engineer, maintenance',\n",
       " 'Health and safety inspector',\n",
       " 'Unemployed',\n",
       " 'Geneticist, molecular',\n",
       " 'Investment analyst',\n",
       " 'Secretary, company',\n",
       " 'Legal executive',\n",
       " 'University Student',\n",
       " 'University Student',\n",
       " 'Student',\n",
       " 'Unemployed',\n",
       " 'Student',\n",
       " 'Student',\n",
       " 'Public relations officer',\n",
       " 'Air broker',\n",
       " 'Child',\n",
       " 'Unemployed',\n",
       " 'Programmer, multimedia',\n",
       " 'Unemployed',\n",
       " 'Exhibitions officer, museum/gallery',\n",
       " 'Immigration officer',\n",
       " 'Research scientist (medical)',\n",
       " 'Physicist, medical',\n",
       " 'Producer, radio',\n",
       " 'Student',\n",
       " 'Engineer, aeronautical',\n",
       " 'Student',\n",
       " 'Environmental manager',\n",
       " 'Interior and spatial designer',\n",
       " 'Civil engineer, consulting',\n",
       " 'Student',\n",
       " 'Editorial assistant',\n",
       " 'Engineer, site',\n",
       " 'Student',\n",
       " 'Unemployed',\n",
       " 'Student',\n",
       " 'Student',\n",
       " 'Student',\n",
       " 'Lobbyist',\n",
       " 'Unemployed',\n",
       " 'Child',\n",
       " 'Arts development officer',\n",
       " 'Chartered accountant',\n",
       " 'Geologist, engineering',\n",
       " 'Public relations officer',\n",
       " 'Retired Engineer, site',\n",
       " 'Retired Nurse, learning disability',\n",
       " 'Fish farm manager',\n",
       " 'Solicitor, Scotland',\n",
       " 'Sports coach',\n",
       " 'Financial controller',\n",
       " 'Oceanographer',\n",
       " 'Designer, graphic',\n",
       " 'Financial risk analyst',\n",
       " 'Buyer, industrial',\n",
       " 'Radiographer, therapeutic',\n",
       " 'Scientist, biomedical',\n",
       " 'Student',\n",
       " 'Call centre manager',\n",
       " 'Unemployed',\n",
       " 'Student',\n",
       " 'Child',\n",
       " 'Child',\n",
       " 'Corporate treasurer',\n",
       " 'Early years teacher',\n",
       " 'Student',\n",
       " 'Public relations account executive',\n",
       " 'Fast food restaurant manager',\n",
       " 'Student',\n",
       " 'Editor, commissioning',\n",
       " 'Leisure centre manager',\n",
       " 'Student',\n",
       " 'Student',\n",
       " 'Student',\n",
       " 'Automotive engineer',\n",
       " 'Student',\n",
       " 'Student',\n",
       " 'Ceramics designer',\n",
       " 'Logistics and distribution manager',\n",
       " 'Student',\n",
       " 'Student',\n",
       " 'Unemployed',\n",
       " 'Student',\n",
       " 'Child',\n",
       " 'Sound technician, broadcasting/film/video',\n",
       " 'Producer, radio',\n",
       " 'Student',\n",
       " 'Student',\n",
       " 'Education officer, environmental',\n",
       " 'IT consultant',\n",
       " 'Student',\n",
       " 'Unemployed',\n",
       " 'Student',\n",
       " 'Child',\n",
       " 'Unemployed',\n",
       " 'Student',\n",
       " 'Unemployed',\n",
       " 'Student',\n",
       " 'Student',\n",
       " 'Student',\n",
       " 'Patent attorney',\n",
       " 'Fast food restaurant manager',\n",
       " 'Student',\n",
       " 'Scientist, product/process development',\n",
       " 'Librarian, academic',\n",
       " 'Student',\n",
       " 'Civil engineer, contracting',\n",
       " 'Unemployed',\n",
       " 'Unemployed',\n",
       " 'Retired Curator',\n",
       " 'Retired Acupuncturist',\n",
       " 'Transport planner',\n",
       " 'Sport and exercise psychologist',\n",
       " 'Retired Engineer, site',\n",
       " 'Corporate investment banker',\n",
       " 'Museum/gallery exhibitions officer',\n",
       " 'Student',\n",
       " 'Administrator, local government',\n",
       " 'Microbiologist',\n",
       " 'Engineer, broadcasting (operations)',\n",
       " 'Trade mark attorney',\n",
       " 'Student',\n",
       " 'Unemployed',\n",
       " 'University Student',\n",
       " 'University Student',\n",
       " 'Student',\n",
       " 'Child',\n",
       " 'Unemployed',\n",
       " 'Retired Equities trader',\n",
       " 'Retired Copywriter, advertising',\n",
       " 'Unemployed',\n",
       " 'Public affairs consultant',\n",
       " 'Exercise physiologist',\n",
       " 'Food technologist',\n",
       " 'Child',\n",
       " 'Psychotherapist, dance movement',\n",
       " 'Police officer',\n",
       " 'Pharmacologist',\n",
       " 'Unemployed',\n",
       " 'Child',\n",
       " 'Child',\n",
       " 'Pharmacist, hospital',\n",
       " 'Careers information officer',\n",
       " 'Horticulturist, commercial',\n",
       " 'Therapist, horticultural',\n",
       " 'Child',\n",
       " 'Planning and development surveyor',\n",
       " 'Engineer, civil (contracting)',\n",
       " 'Student',\n",
       " 'Student',\n",
       " 'Patent attorney',\n",
       " 'Retired Research scientist (physical sciences)',\n",
       " 'Careers adviser',\n",
       " 'Engineer, mining',\n",
       " 'Student',\n",
       " 'Animator',\n",
       " 'Accounting technician',\n",
       " 'Publishing copy',\n",
       " 'Information systems manager',\n",
       " 'Drilling engineer',\n",
       " 'Student',\n",
       " 'Emergency planning/management officer',\n",
       " 'Student',\n",
       " 'Student',\n",
       " 'Illustrator',\n",
       " 'Biochemist, clinical',\n",
       " 'Student',\n",
       " 'Student',\n",
       " 'Student',\n",
       " 'Warden/ranger',\n",
       " 'Information officer',\n",
       " 'Student',\n",
       " 'Student',\n",
       " 'Electronics engineer',\n",
       " 'Fitness centre manager',\n",
       " 'Student',\n",
       " 'Student',\n",
       " 'Agricultural consultant',\n",
       " 'Fitness centre manager',\n",
       " 'Child',\n",
       " 'Clinical molecular geneticist',\n",
       " 'Chief Financial Officer',\n",
       " 'Chief Executive Officer',\n",
       " 'Dealer',\n",
       " 'Engineer, control and instrumentation',\n",
       " 'Recycling officer',\n",
       " 'Medical illustrator',\n",
       " 'Surveyor, building control',\n",
       " 'Wellsite geologist',\n",
       " 'Student',\n",
       " 'Child',\n",
       " 'Futures trader',\n",
       " 'Diplomatic Services operational officer',\n",
       " 'Student',\n",
       " 'Unemployed',\n",
       " 'Student',\n",
       " 'Student',\n",
       " 'Student',\n",
       " 'Investment banker, operational',\n",
       " 'Dancer',\n",
       " 'Dentist',\n",
       " 'Student',\n",
       " 'Retired Marketing executive',\n",
       " 'Retired Mental health nurse',\n",
       " 'Student',\n",
       " 'Student',\n",
       " 'Arts administrator',\n",
       " 'Community arts worker',\n",
       " 'Student',\n",
       " 'Student',\n",
       " 'Unemployed',\n",
       " 'Student',\n",
       " 'Student',\n",
       " 'Equality and diversity officer',\n",
       " 'Education officer, environmental',\n",
       " 'Student',\n",
       " 'Restaurant manager',\n",
       " 'Careers information officer',\n",
       " 'Immigration officer',\n",
       " 'Copy',\n",
       " 'Television/film/video producer',\n",
       " 'Dramatherapist',\n",
       " 'Runner, broadcasting/film/video',\n",
       " 'Student',\n",
       " 'Student',\n",
       " 'Student',\n",
       " 'Student',\n",
       " 'Exhibitions officer, museum/gallery',\n",
       " 'Ship broker',\n",
       " 'Student',\n",
       " 'Retired Medical technical officer',\n",
       " 'Retired Scientist, forensic',\n",
       " 'Chartered accountant',\n",
       " 'Pilot, airline',\n",
       " 'English as a foreign language teacher',\n",
       " 'Conference centre manager',\n",
       " 'University Student',\n",
       " 'Volunteer coordinator',\n",
       " 'Engineer, materials',\n",
       " 'Teacher, adult education',\n",
       " 'Holiday representative',\n",
       " 'International aid/development worker',\n",
       " 'Animal technologist',\n",
       " 'Retired Ceramics designer',\n",
       " 'Advertising copywriter',\n",
       " 'Barista',\n",
       " 'Catering manager',\n",
       " 'Press photographer',\n",
       " 'Unemployed',\n",
       " 'Student',\n",
       " 'Student',\n",
       " 'Unemployed',\n",
       " 'Student',\n",
       " 'Education officer, community',\n",
       " 'Therapeutic radiographer',\n",
       " 'Industrial buyer',\n",
       " 'Astronomer',\n",
       " 'Ceramics designer',\n",
       " 'Pensions consultant',\n",
       " 'Student',\n",
       " 'Unemployed',\n",
       " 'Unemployed',\n",
       " 'Student',\n",
       " 'Toxicologist',\n",
       " 'Advertising copywriter',\n",
       " 'Student',\n",
       " 'IT sales professional',\n",
       " 'Graphic designer',\n",
       " 'Student',\n",
       " 'Student',\n",
       " 'Unemployed',\n",
       " 'Games developer',\n",
       " 'Cytogeneticist',\n",
       " 'Product designer',\n",
       " 'University Student',\n",
       " 'Student',\n",
       " 'Corporate investment banker',\n",
       " 'Student',\n",
       " 'Student',\n",
       " 'Mechanical engineer',\n",
       " 'Television production assistant',\n",
       " 'Student',\n",
       " 'Student',\n",
       " 'Architect',\n",
       " 'Environmental manager',\n",
       " 'Student',\n",
       " 'Multimedia specialist',\n",
       " 'Secondary school teacher',\n",
       " 'Jewellery designer',\n",
       " 'University Student',\n",
       " 'University Student',\n",
       " 'Unemployed',\n",
       " 'Student',\n",
       " 'Student',\n",
       " 'Ship broker',\n",
       " 'Unemployed',\n",
       " 'Retired Buyer, retail',\n",
       " 'Forensic scientist',\n",
       " 'Occupational therapist',\n",
       " 'Producer, television/film/video',\n",
       " 'Emergency planning/management officer',\n",
       " 'University Student',\n",
       " 'Engineer, biomedical',\n",
       " 'Student',\n",
       " 'Unemployed',\n",
       " 'Embryologist, clinical',\n",
       " 'Production assistant, television',\n",
       " 'IT technical support officer',\n",
       " 'IT consultant',\n",
       " 'Student',\n",
       " 'University Student',\n",
       " 'University Student',\n",
       " 'University Student',\n",
       " 'University Student',\n",
       " 'Surveyor, minerals',\n",
       " 'Psychologist, forensic',\n",
       " 'Student',\n",
       " 'Advertising art director',\n",
       " 'Child',\n",
       " 'Child',\n",
       " 'Barrister',\n",
       " 'Clinical scientist, histocompatibility and immunogenetics',\n",
       " 'Student',\n",
       " 'Child',\n",
       " 'Unemployed',\n",
       " 'Unemployed',\n",
       " 'Nature conservation officer',\n",
       " 'Nurse, mental health',\n",
       " 'Recruitment consultant',\n",
       " 'Charity officer',\n",
       " 'IT trainer',\n",
       " 'Animal nutritionist',\n",
       " 'University Student',\n",
       " 'University Student',\n",
       " 'University Student',\n",
       " 'University Student',\n",
       " 'University Student',\n",
       " 'Retired Physiotherapist',\n",
       " 'Armed forces technical officer',\n",
       " 'Chief Financial Officer',\n",
       " 'Occupational therapist',\n",
       " 'Student',\n",
       " 'Unemployed',\n",
       " 'Patent examiner',\n",
       " 'Fisheries officer',\n",
       " 'Fish farm manager',\n",
       " 'Student',\n",
       " 'Student',\n",
       " 'Student',\n",
       " 'Child',\n",
       " 'Child',\n",
       " 'Pilot, airline',\n",
       " \"Politician's assistant\",\n",
       " 'Clinical embryologist',\n",
       " 'University Student',\n",
       " 'PhD Student',\n",
       " 'University Student',\n",
       " 'Herbalist',\n",
       " 'Advertising art director',\n",
       " 'Solicitor, Scotland',\n",
       " 'Designer, graphic',\n",
       " 'Water quality scientist',\n",
       " 'Engineer, materials',\n",
       " 'Actuary',\n",
       " 'Hydrographic surveyor',\n",
       " 'Secretary, company',\n",
       " 'Child',\n",
       " 'Child',\n",
       " 'Lighting technician, broadcasting/film/video',\n",
       " 'Charity officer',\n",
       " 'Child',\n",
       " 'Electronics engineer',\n",
       " 'Technical author',\n",
       " 'Student',\n",
       " 'Physicist, medical',\n",
       " 'Editorial assistant',\n",
       " 'Risk manager',\n",
       " 'Child',\n",
       " 'Podiatrist',\n",
       " 'Production assistant, television',\n",
       " 'Sport and exercise psychologist',\n",
       " 'Student',\n",
       " 'Homeopath',\n",
       " 'Information officer',\n",
       " 'Retired Clinical embryologist',\n",
       " 'Paediatric nurse',\n",
       " 'Conservation officer, historic buildings',\n",
       " 'International aid/development worker',\n",
       " 'Podiatrist',\n",
       " 'Surveyor, insurance',\n",
       " 'Administrator, charities/voluntary organisations',\n",
       " 'Retired Research officer, political party',\n",
       " 'Retired Hydrographic surveyor',\n",
       " 'Armed forces technical officer',\n",
       " 'Student',\n",
       " 'Retired Archaeologist',\n",
       " 'Retired Multimedia specialist',\n",
       " 'Barrister',\n",
       " 'Furniture conservator/restorer',\n",
       " 'Therapist, nutritional',\n",
       " 'Investment analyst',\n",
       " 'Unemployed',\n",
       " 'Designer, textile',\n",
       " 'Tourist information centre manager',\n",
       " 'Copy',\n",
       " 'Interpreter',\n",
       " 'Editorial assistant',\n",
       " 'Information systems manager',\n",
       " 'Press photographer',\n",
       " 'Unemployed',\n",
       " 'Student',\n",
       " 'Student',\n",
       " 'Management consultant',\n",
       " 'Chief Strategy Officer',\n",
       " 'Mechanical engineer',\n",
       " 'Unemployed',\n",
       " 'Accountant, chartered public finance',\n",
       " 'Child',\n",
       " 'Physiological scientist',\n",
       " 'Unemployed',\n",
       " 'Engineer, land',\n",
       " 'Medical laboratory scientific officer',\n",
       " 'Youth worker',\n",
       " 'Geoscientist',\n",
       " 'Scientist, research (medical)',\n",
       " 'Engineer, materials',\n",
       " 'Student',\n",
       " 'Insurance broker',\n",
       " 'Editor, magazine features',\n",
       " 'Retired Freight forwarder',\n",
       " 'Retired Science writer',\n",
       " 'Race relations officer',\n",
       " 'Retired Forest/woodland manager',\n",
       " 'Retired Hydrographic surveyor',\n",
       " 'University Student',\n",
       " 'Town planner',\n",
       " 'Retired Manufacturing systems engineer',\n",
       " 'Retired Geophysical data processor',\n",
       " 'Psychotherapist, dance movement',\n",
       " 'Retired Engineer, mining',\n",
       " 'Librarian, academic',\n",
       " 'Exhibitions officer, museum/gallery',\n",
       " 'Retired Armed forces technical officer',\n",
       " 'Unemployed',\n",
       " 'Retired Horticultural therapist',\n",
       " 'Retired Quantity surveyor',\n",
       " 'Learning disability nurse',\n",
       " 'Student',\n",
       " 'Student',\n",
       " 'Retired Arts administrator',\n",
       " 'Retired Forensic psychologist',\n",
       " 'Forensic psychologist',\n",
       " 'University Student',\n",
       " 'Chief of Staff',\n",
       " 'Student',\n",
       " 'University Student',\n",
       " 'Museum/gallery curator',\n",
       " 'Student',\n",
       " 'Civil Service fast streamer',\n",
       " 'Building surveyor',\n",
       " 'Event organiser',\n",
       " 'Retired Psychologist, counselling',\n",
       " 'Office manager',\n",
       " 'Geneticist, molecular',\n",
       " 'Chief of Staff',\n",
       " 'Lecturer, higher education',\n",
       " 'Unemployed',\n",
       " 'Child',\n",
       " 'Early years teacher',\n",
       " 'Unemployed',\n",
       " 'Student',\n",
       " 'Retired Engineer, electronics',\n",
       " 'Unemployed',\n",
       " 'Child',\n",
       " 'Furniture designer',\n",
       " 'Rural practice surveyor',\n",
       " 'Student',\n",
       " 'Retired Garment/textile technologist',\n",
       " 'Data processing manager',\n",
       " 'Research scientist (life sciences)',\n",
       " 'Civil Service fast streamer',\n",
       " 'Physiological scientist',\n",
       " 'Teacher, English as a foreign language',\n",
       " 'Youth worker',\n",
       " 'Land/geomatics surveyor',\n",
       " 'Trade mark attorney',\n",
       " 'University Student',\n",
       " 'University Student',\n",
       " 'Retired Insurance underwriter',\n",
       " 'Accountant, chartered public finance',\n",
       " 'Scientist, product/process development',\n",
       " 'Designer, textile',\n",
       " 'Retired Tax adviser',\n",
       " 'Retired Photographer',\n",
       " 'Retired Magazine journalist',\n",
       " 'Surveyor, mining',\n",
       " 'Production assistant, radio',\n",
       " 'Sport and exercise psychologist',\n",
       " 'Phytotherapist',\n",
       " 'IT consultant',\n",
       " 'Human resources officer',\n",
       " 'Retired Psychologist, educational',\n",
       " 'Retired Product/process development scientist',\n",
       " 'Chemical engineer',\n",
       " 'Unemployed',\n",
       " 'Student',\n",
       " 'Retired Engineer, electronics',\n",
       " 'Secretary, company',\n",
       " 'Archivist',\n",
       " 'Retired Development worker, community',\n",
       " 'Unemployed',\n",
       " 'Pathologist',\n",
       " 'Insurance risk surveyor',\n",
       " 'Retired Television/film/video producer',\n",
       " 'Occupational therapist',\n",
       " 'Agricultural consultant',\n",
       " 'Administrator, Civil Service',\n",
       " 'Therapist, art',\n",
       " 'Aeronautical engineer',\n",
       " 'Retired Scientist, research (maths)',\n",
       " 'Armed forces logistics/support/administrative officer',\n",
       " 'Designer, interior/spatial',\n",
       " 'Child',\n",
       " 'Printmaker',\n",
       " 'Student',\n",
       " 'Police officer',\n",
       " 'Conservator, museum/gallery',\n",
       " 'Administrator, local government',\n",
       " 'Student',\n",
       " 'Hospital doctor',\n",
       " 'Farm manager',\n",
       " 'Engineer, structural',\n",
       " 'Student',\n",
       " 'Unemployed',\n",
       " 'Database administrator',\n",
       " 'Counsellor',\n",
       " 'Cartographer',\n",
       " 'Regulatory affairs officer',\n",
       " 'Counselling psychologist',\n",
       " 'Retired Location manager',\n",
       " 'Retired Social worker',\n",
       " 'Customer service manager',\n",
       " 'Retired Catering manager',\n",
       " 'Retired Teacher, special educational needs',\n",
       " 'Advertising account executive',\n",
       " 'University Student',\n",
       " 'Chemical engineer',\n",
       " 'Student',\n",
       " 'Legal executive',\n",
       " 'Forensic scientist',\n",
       " 'Student',\n",
       " 'Unemployed',\n",
       " 'Student',\n",
       " 'University Student',\n",
       " 'University Student',\n",
       " 'University Student',\n",
       " 'University Student',\n",
       " 'Engineer, control and instrumentation',\n",
       " 'Investment banker, operational',\n",
       " 'Fine artist',\n",
       " 'Retired Therapist, horticultural',\n",
       " 'Production assistant, television',\n",
       " 'Building surveyor',\n",
       " 'Unemployed',\n",
       " 'Barista',\n",
       " 'Surveyor, planning and development',\n",
       " 'Arts development officer',\n",
       " 'Retired Museum/gallery conservator',\n",
       " 'Event organiser',\n",
       " 'Commercial/residential surveyor',\n",
       " 'Presenter, broadcasting',\n",
       " 'Administrator, education',\n",
       " 'Sub',\n",
       " 'Child',\n",
       " 'Hydrographic surveyor',\n",
       " 'Unemployed',\n",
       " 'Warehouse manager',\n",
       " 'Midwife',\n",
       " 'TEFL teacher',\n",
       " 'Student',\n",
       " 'University Student',\n",
       " 'PhD Student',\n",
       " 'Research officer, political party',\n",
       " 'Nutritional therapist',\n",
       " 'Retired Ceramics designer',\n",
       " 'Printmaker',\n",
       " 'Retired Designer, jewellery',\n",
       " 'Retired Clinical molecular geneticist',\n",
       " 'Recycling officer',\n",
       " 'Magazine features editor',\n",
       " 'Scientist, audiological',\n",
       " 'Unemployed',\n",
       " 'Secretary, company',\n",
       " 'Art gallery manager',\n",
       " 'Retail manager',\n",
       " 'Child',\n",
       " 'Building services engineer',\n",
       " 'Scientist, product/process development',\n",
       " 'Unemployed',\n",
       " 'Regulatory affairs officer',\n",
       " 'University Student',\n",
       " 'Student',\n",
       " 'Student',\n",
       " 'Psychiatrist',\n",
       " 'Student',\n",
       " 'Retired Radiographer, therapeutic',\n",
       " 'Retired Data processing manager',\n",
       " 'Surveyor, quantity',\n",
       " 'Unemployed',\n",
       " 'Child',\n",
       " 'Translator',\n",
       " ...]"
      ]
     },
     "execution_count": 28,
     "metadata": {},
     "output_type": "execute_result"
    }
   ],
   "source": [
    "#list out all occupations\n",
    "list(df['Occupation'])"
   ]
  },
  {
   "cell_type": "markdown",
   "id": "69b12336",
   "metadata": {},
   "source": [
    "#### Observations\n",
    "- No format error"
   ]
  },
  {
   "cell_type": "code",
   "execution_count": 29,
   "id": "9643cf12",
   "metadata": {},
   "outputs": [],
   "source": [
    "#create new coloumn Employment status for easy analysis"
   ]
  },
  {
   "cell_type": "code",
   "execution_count": 30,
   "id": "9d418c4a",
   "metadata": {},
   "outputs": [],
   "source": [
    "#replace any occupation with the word retired by rertired\n",
    "df['Occupation'] =df['Occupation'].str.replace('Retired.*', 'Retired', regex=True) \n",
    "\n",
    "#replace PhD student by university Student\n",
    "df['Occupation'] = df['Occupation'].str.replace('PhD.*', 'University Student', regex=True)"
   ]
  },
  {
   "cell_type": "code",
   "execution_count": 31,
   "id": "8cd16c74",
   "metadata": {},
   "outputs": [],
   "source": [
    "#Create a new column 'Employment Status for easy analysis'\n",
    "conditions = [\n",
    "    ((df['Occupation']!='Child') & (df['Occupation']!='Student') & (df['Occupation']!='Unemployed') & \n",
    "    (df['Occupation']!='University Student') & (df['Occupation']!='Retired')) , df['Occupation']=='Child', \n",
    "    df['Occupation']=='Student', df['Occupation']=='Unemployed', df['Occupation']=='University Student', \n",
    "    df['Occupation']=='Retired'\n",
    "]\n",
    "\n",
    "choices = ['Employed', 'Student', 'Student', 'Unemployed', 'University Student', 'Retired']\n",
    "\n",
    "df['Employment Status'] = np.select(conditions, choices, default=np.nan)\n",
    "#ref: Stack Overflow"
   ]
  },
  {
   "cell_type": "markdown",
   "id": "7b8e5dee",
   "metadata": {},
   "source": [
    "- #### Check unique value for Infirmity"
   ]
  },
  {
   "cell_type": "code",
   "execution_count": 32,
   "id": "00e9a54f",
   "metadata": {},
   "outputs": [
    {
     "data": {
      "text/plain": [
       "array(['None', 'Deaf', 'Physical Disability', 'Unknown Infection', ' ',\n",
       "       'Disabled', 'Mental Disability', 'Blind'], dtype=object)"
      ]
     },
     "execution_count": 32,
     "metadata": {},
     "output_type": "execute_result"
    }
   ],
   "source": [
    "df['Infirmity'].unique()"
   ]
  },
  {
   "cell_type": "markdown",
   "id": "3b3b8b7b",
   "metadata": {},
   "source": [
    "#### Observation\n",
    "- There are empty strings"
   ]
  },
  {
   "cell_type": "markdown",
   "id": "e6291723",
   "metadata": {},
   "source": [
    "#### Corrections"
   ]
  },
  {
   "cell_type": "code",
   "execution_count": 33,
   "id": "bbf19e78",
   "metadata": {},
   "outputs": [
    {
     "data": {
      "text/plain": [
       "array(['None', 'Deaf', 'Physical Disability', 'Unknown Infection',\n",
       "       'Disabled', 'Mental Disability', 'Blind'], dtype=object)"
      ]
     },
     "execution_count": 33,
     "metadata": {},
     "output_type": "execute_result"
    }
   ],
   "source": [
    "#replace empty string with 'None'\n",
    "df['Infirmity'] = df['Infirmity'].replace({' ':'None'})\n",
    "df['Infirmity'].unique()"
   ]
  },
  {
   "cell_type": "markdown",
   "id": "8b80c352",
   "metadata": {},
   "source": [
    "- #### Check unique value for Religion "
   ]
  },
  {
   "cell_type": "code",
   "execution_count": 34,
   "id": "b783c1ff",
   "metadata": {},
   "outputs": [
    {
     "data": {
      "text/plain": [
       "array(['Catholic', 'Christian', 'None', 'Unknown', 'Jewish', 'Methodist',\n",
       "       'Sikh', 'Muslim', 'Orthodoxy', 'Agnostic', 'Private', 'Quaker',\n",
       "       ' ', 'Pagan'], dtype=object)"
      ]
     },
     "execution_count": 34,
     "metadata": {},
     "output_type": "execute_result"
    }
   ],
   "source": [
    "df['Religion'].unique()"
   ]
  },
  {
   "cell_type": "markdown",
   "id": "696f128b",
   "metadata": {},
   "source": [
    "#### Observation\n",
    "- There are empty string\n",
    "- Missing values were previously changed to unknown, this wil be changed to 'None'"
   ]
  },
  {
   "cell_type": "markdown",
   "id": "521dbdbe",
   "metadata": {},
   "source": [
    "#### Corrections"
   ]
  },
  {
   "cell_type": "markdown",
   "id": "95c807ca",
   "metadata": {},
   "source": [
    "- Replace empty string with 'None' and unknown with 'None'"
   ]
  },
  {
   "cell_type": "code",
   "execution_count": 35,
   "id": "e1e8e7f3",
   "metadata": {},
   "outputs": [
    {
     "data": {
      "text/plain": [
       "array(['Catholic', 'Christian', 'None', 'Unknown', 'Jewish', 'Methodist',\n",
       "       'Sikh', 'Muslim', 'Orthodoxy', 'Agnostic', 'Private', 'Quaker',\n",
       "       'Pagan'], dtype=object)"
      ]
     },
     "execution_count": 35,
     "metadata": {},
     "output_type": "execute_result"
    }
   ],
   "source": [
    "df['Religion'] = df['Religion'].replace({' ':'None', '':'None'})\n",
    "df['Religion'].unique()"
   ]
  },
  {
   "cell_type": "code",
   "execution_count": 36,
   "id": "5bd01f73",
   "metadata": {},
   "outputs": [
    {
     "name": "stdout",
     "output_type": "stream",
     "text": [
      "<class 'pandas.core.frame.DataFrame'>\n",
      "RangeIndex: 9655 entries, 0 to 9654\n",
      "Data columns (total 13 columns):\n",
      " #   Column             Non-Null Count  Dtype   \n",
      "---  ------             --------------  -----   \n",
      " 0   House Number       9655 non-null   object  \n",
      " 1   Street             9655 non-null   object  \n",
      " 2   First Name         9655 non-null   object  \n",
      " 3   Surname            9655 non-null   object  \n",
      " 4   Age                9655 non-null   int32   \n",
      " 5   Relationship       9655 non-null   object  \n",
      " 6   Marital Status     9655 non-null   object  \n",
      " 7   Gender             9655 non-null   object  \n",
      " 8   Occupation         9655 non-null   object  \n",
      " 9   Infirmity          9655 non-null   object  \n",
      " 10  Religion           9655 non-null   object  \n",
      " 11  Age_range          9655 non-null   category\n",
      " 12  Employment Status  9655 non-null   object  \n",
      "dtypes: category(1), int32(1), object(11)\n",
      "memory usage: 877.3+ KB\n"
     ]
    }
   ],
   "source": [
    "df.info()"
   ]
  },
  {
   "cell_type": "markdown",
   "id": "f69a57fb",
   "metadata": {},
   "source": [
    "### Explore data to gain more insight"
   ]
  },
  {
   "cell_type": "code",
   "execution_count": 37,
   "id": "e85c125c",
   "metadata": {},
   "outputs": [
    {
     "data": {
      "text/html": [
       "<div>\n",
       "<style scoped>\n",
       "    .dataframe tbody tr th:only-of-type {\n",
       "        vertical-align: middle;\n",
       "    }\n",
       "\n",
       "    .dataframe tbody tr th {\n",
       "        vertical-align: top;\n",
       "    }\n",
       "\n",
       "    .dataframe thead th {\n",
       "        text-align: right;\n",
       "    }\n",
       "</style>\n",
       "<table border=\"1\" class=\"dataframe\">\n",
       "  <thead>\n",
       "    <tr style=\"text-align: right;\">\n",
       "      <th></th>\n",
       "      <th>House Number</th>\n",
       "      <th>Street</th>\n",
       "      <th>First Name</th>\n",
       "      <th>Surname</th>\n",
       "      <th>Age</th>\n",
       "      <th>Relationship</th>\n",
       "      <th>Marital Status</th>\n",
       "      <th>Gender</th>\n",
       "      <th>Occupation</th>\n",
       "      <th>Infirmity</th>\n",
       "      <th>Religion</th>\n",
       "      <th>Age_range</th>\n",
       "      <th>Employment Status</th>\n",
       "    </tr>\n",
       "  </thead>\n",
       "  <tbody>\n",
       "    <tr>\n",
       "      <th>count</th>\n",
       "      <td>9655</td>\n",
       "      <td>9655</td>\n",
       "      <td>9655</td>\n",
       "      <td>9655</td>\n",
       "      <td>9655.000000</td>\n",
       "      <td>9655</td>\n",
       "      <td>9655</td>\n",
       "      <td>9655</td>\n",
       "      <td>9655</td>\n",
       "      <td>9655</td>\n",
       "      <td>9655</td>\n",
       "      <td>9655</td>\n",
       "      <td>9655</td>\n",
       "    </tr>\n",
       "    <tr>\n",
       "      <th>unique</th>\n",
       "      <td>172</td>\n",
       "      <td>105</td>\n",
       "      <td>365</td>\n",
       "      <td>652</td>\n",
       "      <td>NaN</td>\n",
       "      <td>22</td>\n",
       "      <td>5</td>\n",
       "      <td>2</td>\n",
       "      <td>645</td>\n",
       "      <td>7</td>\n",
       "      <td>13</td>\n",
       "      <td>7</td>\n",
       "      <td>5</td>\n",
       "    </tr>\n",
       "    <tr>\n",
       "      <th>top</th>\n",
       "      <td>1</td>\n",
       "      <td>Barrett Circles</td>\n",
       "      <td>Jessica</td>\n",
       "      <td>Smith</td>\n",
       "      <td>NaN</td>\n",
       "      <td>Head</td>\n",
       "      <td>Single</td>\n",
       "      <td>Female</td>\n",
       "      <td>Student</td>\n",
       "      <td>None</td>\n",
       "      <td>None</td>\n",
       "      <td>36-50</td>\n",
       "      <td>Employed</td>\n",
       "    </tr>\n",
       "    <tr>\n",
       "      <th>freq</th>\n",
       "      <td>373</td>\n",
       "      <td>874</td>\n",
       "      <td>43</td>\n",
       "      <td>266</td>\n",
       "      <td>NaN</td>\n",
       "      <td>3310</td>\n",
       "      <td>3465</td>\n",
       "      <td>5045</td>\n",
       "      <td>1935</td>\n",
       "      <td>9579</td>\n",
       "      <td>3072</td>\n",
       "      <td>2155</td>\n",
       "      <td>5074</td>\n",
       "    </tr>\n",
       "    <tr>\n",
       "      <th>mean</th>\n",
       "      <td>NaN</td>\n",
       "      <td>NaN</td>\n",
       "      <td>NaN</td>\n",
       "      <td>NaN</td>\n",
       "      <td>34.987985</td>\n",
       "      <td>NaN</td>\n",
       "      <td>NaN</td>\n",
       "      <td>NaN</td>\n",
       "      <td>NaN</td>\n",
       "      <td>NaN</td>\n",
       "      <td>NaN</td>\n",
       "      <td>NaN</td>\n",
       "      <td>NaN</td>\n",
       "    </tr>\n",
       "    <tr>\n",
       "      <th>std</th>\n",
       "      <td>NaN</td>\n",
       "      <td>NaN</td>\n",
       "      <td>NaN</td>\n",
       "      <td>NaN</td>\n",
       "      <td>21.420863</td>\n",
       "      <td>NaN</td>\n",
       "      <td>NaN</td>\n",
       "      <td>NaN</td>\n",
       "      <td>NaN</td>\n",
       "      <td>NaN</td>\n",
       "      <td>NaN</td>\n",
       "      <td>NaN</td>\n",
       "      <td>NaN</td>\n",
       "    </tr>\n",
       "    <tr>\n",
       "      <th>min</th>\n",
       "      <td>NaN</td>\n",
       "      <td>NaN</td>\n",
       "      <td>NaN</td>\n",
       "      <td>NaN</td>\n",
       "      <td>0.000000</td>\n",
       "      <td>NaN</td>\n",
       "      <td>NaN</td>\n",
       "      <td>NaN</td>\n",
       "      <td>NaN</td>\n",
       "      <td>NaN</td>\n",
       "      <td>NaN</td>\n",
       "      <td>NaN</td>\n",
       "      <td>NaN</td>\n",
       "    </tr>\n",
       "    <tr>\n",
       "      <th>25%</th>\n",
       "      <td>NaN</td>\n",
       "      <td>NaN</td>\n",
       "      <td>NaN</td>\n",
       "      <td>NaN</td>\n",
       "      <td>18.000000</td>\n",
       "      <td>NaN</td>\n",
       "      <td>NaN</td>\n",
       "      <td>NaN</td>\n",
       "      <td>NaN</td>\n",
       "      <td>NaN</td>\n",
       "      <td>NaN</td>\n",
       "      <td>NaN</td>\n",
       "      <td>NaN</td>\n",
       "    </tr>\n",
       "    <tr>\n",
       "      <th>50%</th>\n",
       "      <td>NaN</td>\n",
       "      <td>NaN</td>\n",
       "      <td>NaN</td>\n",
       "      <td>NaN</td>\n",
       "      <td>34.000000</td>\n",
       "      <td>NaN</td>\n",
       "      <td>NaN</td>\n",
       "      <td>NaN</td>\n",
       "      <td>NaN</td>\n",
       "      <td>NaN</td>\n",
       "      <td>NaN</td>\n",
       "      <td>NaN</td>\n",
       "      <td>NaN</td>\n",
       "    </tr>\n",
       "    <tr>\n",
       "      <th>75%</th>\n",
       "      <td>NaN</td>\n",
       "      <td>NaN</td>\n",
       "      <td>NaN</td>\n",
       "      <td>NaN</td>\n",
       "      <td>50.000000</td>\n",
       "      <td>NaN</td>\n",
       "      <td>NaN</td>\n",
       "      <td>NaN</td>\n",
       "      <td>NaN</td>\n",
       "      <td>NaN</td>\n",
       "      <td>NaN</td>\n",
       "      <td>NaN</td>\n",
       "      <td>NaN</td>\n",
       "    </tr>\n",
       "    <tr>\n",
       "      <th>max</th>\n",
       "      <td>NaN</td>\n",
       "      <td>NaN</td>\n",
       "      <td>NaN</td>\n",
       "      <td>NaN</td>\n",
       "      <td>103.000000</td>\n",
       "      <td>NaN</td>\n",
       "      <td>NaN</td>\n",
       "      <td>NaN</td>\n",
       "      <td>NaN</td>\n",
       "      <td>NaN</td>\n",
       "      <td>NaN</td>\n",
       "      <td>NaN</td>\n",
       "      <td>NaN</td>\n",
       "    </tr>\n",
       "  </tbody>\n",
       "</table>\n",
       "</div>"
      ],
      "text/plain": [
       "       House Number           Street First Name Surname          Age  \\\n",
       "count          9655             9655       9655    9655  9655.000000   \n",
       "unique          172              105        365     652          NaN   \n",
       "top               1  Barrett Circles    Jessica   Smith          NaN   \n",
       "freq            373              874         43     266          NaN   \n",
       "mean            NaN              NaN        NaN     NaN    34.987985   \n",
       "std             NaN              NaN        NaN     NaN    21.420863   \n",
       "min             NaN              NaN        NaN     NaN     0.000000   \n",
       "25%             NaN              NaN        NaN     NaN    18.000000   \n",
       "50%             NaN              NaN        NaN     NaN    34.000000   \n",
       "75%             NaN              NaN        NaN     NaN    50.000000   \n",
       "max             NaN              NaN        NaN     NaN   103.000000   \n",
       "\n",
       "       Relationship Marital Status  Gender Occupation Infirmity Religion  \\\n",
       "count          9655           9655    9655       9655      9655     9655   \n",
       "unique           22              5       2        645         7       13   \n",
       "top            Head         Single  Female    Student      None     None   \n",
       "freq           3310           3465    5045       1935      9579     3072   \n",
       "mean            NaN            NaN     NaN        NaN       NaN      NaN   \n",
       "std             NaN            NaN     NaN        NaN       NaN      NaN   \n",
       "min             NaN            NaN     NaN        NaN       NaN      NaN   \n",
       "25%             NaN            NaN     NaN        NaN       NaN      NaN   \n",
       "50%             NaN            NaN     NaN        NaN       NaN      NaN   \n",
       "75%             NaN            NaN     NaN        NaN       NaN      NaN   \n",
       "max             NaN            NaN     NaN        NaN       NaN      NaN   \n",
       "\n",
       "       Age_range Employment Status  \n",
       "count       9655              9655  \n",
       "unique         7                 5  \n",
       "top        36-50          Employed  \n",
       "freq        2155              5074  \n",
       "mean         NaN               NaN  \n",
       "std          NaN               NaN  \n",
       "min          NaN               NaN  \n",
       "25%          NaN               NaN  \n",
       "50%          NaN               NaN  \n",
       "75%          NaN               NaN  \n",
       "max          NaN               NaN  "
      ]
     },
     "execution_count": 37,
     "metadata": {},
     "output_type": "execute_result"
    }
   ],
   "source": [
    "df.describe(include= 'all')"
   ]
  },
  {
   "cell_type": "markdown",
   "id": "0d9d0e85",
   "metadata": {},
   "source": [
    "#### Observations\n",
    "- Minimum age is 0 and maximum age is 103\n",
    "- Majority of the individual are  Single, Female and Students "
   ]
  },
  {
   "cell_type": "markdown",
   "id": "3a9eba24",
   "metadata": {},
   "source": [
    "### Pandas prifiling"
   ]
  },
  {
   "cell_type": "code",
   "execution_count": 38,
   "id": "2646cb4c",
   "metadata": {},
   "outputs": [
    {
     "data": {
      "application/vnd.jupyter.widget-view+json": {
       "model_id": "06877833af3c496ab3b5aabaecdbd37b",
       "version_major": 2,
       "version_minor": 0
      },
      "text/plain": [
       "Summarize dataset:   0%|          | 0/5 [00:00<?, ?it/s]"
      ]
     },
     "metadata": {},
     "output_type": "display_data"
    },
    {
     "name": "stderr",
     "output_type": "stream",
     "text": [
      "C:\\Users\\DELL\\anaconda3\\lib\\site-packages\\multimethod\\__init__.py:315: FutureWarning: The default value of numeric_only in DataFrame.corr is deprecated. In a future version, it will default to False. Select only valid columns or specify the value of numeric_only to silence this warning.\n",
      "  return func(*args, **kwargs)\n"
     ]
    },
    {
     "data": {
      "application/vnd.jupyter.widget-view+json": {
       "model_id": "500206782e1a444ca0952419b3c632e3",
       "version_major": 2,
       "version_minor": 0
      },
      "text/plain": [
       "Generate report structure:   0%|          | 0/1 [00:00<?, ?it/s]"
      ]
     },
     "metadata": {},
     "output_type": "display_data"
    },
    {
     "data": {
      "application/vnd.jupyter.widget-view+json": {
       "model_id": "d6a3103ef7e44841804451cbd2bd0f6e",
       "version_major": 2,
       "version_minor": 0
      },
      "text/plain": [
       "Render HTML:   0%|          | 0/1 [00:00<?, ?it/s]"
      ]
     },
     "metadata": {},
     "output_type": "display_data"
    },
    {
     "data": {
      "application/vnd.jupyter.widget-view+json": {
       "model_id": "6ef5e82151d54dc0af4170acb4c1e04f",
       "version_major": 2,
       "version_minor": 0
      },
      "text/plain": [
       "Export report to file:   0%|          | 0/1 [00:00<?, ?it/s]"
      ]
     },
     "metadata": {},
     "output_type": "display_data"
    }
   ],
   "source": [
    "#pandas profiling for more deep insight\n",
    "import pandas_profiling\n",
    "profile = pandas_profiling.ProfileReport(df)\n",
    "profile.to_file('data_profile.html')"
   ]
  },
  {
   "cell_type": "markdown",
   "id": "d1621636",
   "metadata": {},
   "source": [
    "## Data Analysis and Visualization"
   ]
  },
  {
   "cell_type": "markdown",
   "id": "9e40c5c6",
   "metadata": {},
   "source": [
    "### Check for errors with Visualization"
   ]
  },
  {
   "cell_type": "markdown",
   "id": "6a8c1783",
   "metadata": {},
   "source": [
    "Create new coloumn Age_range for easy analysis and visualization"
   ]
  },
  {
   "cell_type": "markdown",
   "id": "e5ec35a5",
   "metadata": {},
   "source": [
    "Are there any head who are bewlow 18?\n",
    "\n",
    "- Since it is stated that only individuals above the age of 18 can be head, it is paramount to check this in the data"
   ]
  },
  {
   "cell_type": "code",
   "execution_count": 39,
   "id": "1c67a749",
   "metadata": {},
   "outputs": [
    {
     "data": {
      "image/png": "[encoded data removed]",
      "text/plain": [
       "<Figure size 720x360 with 1 Axes>"
      ]
     },
     "metadata": {
      "needs_background": "light"
     },
     "output_type": "display_data"
    }
   ],
   "source": [
    "df_head=df[df[\"Relationship\"].isin([\"Head\"])] #datafram where relation is only head\n",
    "plt.figure(figsize=(10,5))\n",
    "sns.countplot(data =df_head, x='Relationship', hue = 'Age_range');\n",
    "plt.title(\"Head Distribution by Age\");\n",
    "plt.savefig('head_age.png')"
   ]
  },
  {
   "cell_type": "markdown",
   "id": "f14d48c2",
   "metadata": {},
   "source": [
    "#### Observations\n",
    "- Individuals between age 5-17 are classified as head"
   ]
  },
  {
   "cell_type": "code",
   "execution_count": 40,
   "id": "e7a125cc",
   "metadata": {},
   "outputs": [
    {
     "data": {
      "text/html": [
       "<div>\n",
       "<style scoped>\n",
       "    .dataframe tbody tr th:only-of-type {\n",
       "        vertical-align: middle;\n",
       "    }\n",
       "\n",
       "    .dataframe tbody tr th {\n",
       "        vertical-align: top;\n",
       "    }\n",
       "\n",
       "    .dataframe thead th {\n",
       "        text-align: right;\n",
       "    }\n",
       "</style>\n",
       "<table border=\"1\" class=\"dataframe\">\n",
       "  <thead>\n",
       "    <tr style=\"text-align: right;\">\n",
       "      <th></th>\n",
       "      <th>House Number</th>\n",
       "      <th>Street</th>\n",
       "      <th>First Name</th>\n",
       "      <th>Surname</th>\n",
       "      <th>Age</th>\n",
       "      <th>Relationship</th>\n",
       "      <th>Marital Status</th>\n",
       "      <th>Gender</th>\n",
       "      <th>Occupation</th>\n",
       "      <th>Infirmity</th>\n",
       "      <th>Religion</th>\n",
       "      <th>Age_range</th>\n",
       "      <th>Employment Status</th>\n",
       "    </tr>\n",
       "  </thead>\n",
       "  <tbody>\n",
       "    <tr>\n",
       "      <th>2229</th>\n",
       "      <td>26</td>\n",
       "      <td>Wembley Junction</td>\n",
       "      <td>Heather</td>\n",
       "      <td>Begum-Jones</td>\n",
       "      <td>16</td>\n",
       "      <td>Head</td>\n",
       "      <td>Divorced</td>\n",
       "      <td>Female</td>\n",
       "      <td>Unemployed</td>\n",
       "      <td>None</td>\n",
       "      <td>Unknown</td>\n",
       "      <td>5-17</td>\n",
       "      <td>Unemployed</td>\n",
       "    </tr>\n",
       "    <tr>\n",
       "      <th>3958</th>\n",
       "      <td>36</td>\n",
       "      <td>Lynch Streets</td>\n",
       "      <td>Reece</td>\n",
       "      <td>Farmer</td>\n",
       "      <td>16</td>\n",
       "      <td>Head</td>\n",
       "      <td>Divorced</td>\n",
       "      <td>Male</td>\n",
       "      <td>Unemployed</td>\n",
       "      <td>None</td>\n",
       "      <td>Unknown</td>\n",
       "      <td>5-17</td>\n",
       "      <td>Unemployed</td>\n",
       "    </tr>\n",
       "    <tr>\n",
       "      <th>4679</th>\n",
       "      <td>17</td>\n",
       "      <td>Pinewood Course</td>\n",
       "      <td>Amber</td>\n",
       "      <td>Roberts</td>\n",
       "      <td>16</td>\n",
       "      <td>Head</td>\n",
       "      <td>Divorced</td>\n",
       "      <td>Female</td>\n",
       "      <td>Student</td>\n",
       "      <td>None</td>\n",
       "      <td>Unknown</td>\n",
       "      <td>5-17</td>\n",
       "      <td>Student</td>\n",
       "    </tr>\n",
       "  </tbody>\n",
       "</table>\n",
       "</div>"
      ],
      "text/plain": [
       "     House Number            Street First Name      Surname  Age Relationship  \\\n",
       "2229           26  Wembley Junction    Heather  Begum-Jones   16         Head   \n",
       "3958           36     Lynch Streets      Reece       Farmer   16         Head   \n",
       "4679           17   Pinewood Course      Amber      Roberts   16         Head   \n",
       "\n",
       "     Marital Status  Gender  Occupation Infirmity Religion Age_range  \\\n",
       "2229       Divorced  Female  Unemployed      None  Unknown      5-17   \n",
       "3958       Divorced    Male  Unemployed      None  Unknown      5-17   \n",
       "4679       Divorced  Female     Student      None  Unknown      5-17   \n",
       "\n",
       "     Employment Status  \n",
       "2229        Unemployed  \n",
       "3958        Unemployed  \n",
       "4679           Student  "
      ]
     },
     "execution_count": 40,
     "metadata": {},
     "output_type": "execute_result"
    }
   ],
   "source": [
    "#check data where age is 5-27\n",
    "df_head[df_head[\"Age_range\"].isin([\"5-17\"])]"
   ]
  },
  {
   "cell_type": "code",
   "execution_count": 41,
   "id": "a857986e",
   "metadata": {},
   "outputs": [],
   "source": [
    "#change relationship of minor classified as head of house to None\n",
    "df.loc[df.Age_range == '5-17', 'Relationship'] = 'None'"
   ]
  },
  {
   "cell_type": "code",
   "execution_count": 42,
   "id": "01109792",
   "metadata": {},
   "outputs": [
    {
     "data": {
      "text/plain": [
       "36-50    1046\n",
       "51-65     725\n",
       "66+       669\n",
       "26-35     554\n",
       "18-25     313\n",
       "0-4         0\n",
       "5-17        0\n",
       "Name: Age_range, dtype: int64"
      ]
     },
     "execution_count": 42,
     "metadata": {},
     "output_type": "execute_result"
    }
   ],
   "source": [
    "#check if the changes have been made\n",
    "df_rel=df[df[\"Relationship\"].isin([\"Head\"])]\n",
    "df_rel['Age_range'].value_counts()"
   ]
  },
  {
   "cell_type": "code",
   "execution_count": 43,
   "id": "589cf777",
   "metadata": {},
   "outputs": [
    {
     "data": {
      "image/png": "[encoded data removed]",
      "text/plain": [
       "<Figure size 720x360 with 1 Axes>"
      ]
     },
     "metadata": {
      "needs_background": "light"
     },
     "output_type": "display_data"
    }
   ],
   "source": [
    "#check to see if all minors are below the age of 18\n",
    "plt.figure(figsize=(10,5))\n",
    "ax = sns.countplot(data=df, x='Marital Status', hue = 'Age_range');\n",
    "for i in ax.containers:\n",
    "    ax.bar_label(i,)\n",
    "plt.title('Marital Status by Age');\n",
    "plt.savefig('Marital Status by Age')"
   ]
  },
  {
   "cell_type": "code",
   "execution_count": 44,
   "id": "78555270",
   "metadata": {},
   "outputs": [],
   "source": [
    "#3 people who  are under the age of 18 are classified as divorced as shown previously"
   ]
  },
  {
   "cell_type": "markdown",
   "id": "38eba07b",
   "metadata": {},
   "source": [
    "### Population Pyramid\n",
    "- The first thing to do is the population pyramid, to get more insight on the population as a whole"
   ]
  },
  {
   "cell_type": "code",
   "execution_count": 45,
   "id": "fa34f2d1",
   "metadata": {},
   "outputs": [],
   "source": [
    "#create %years age range for the population pyramid\n",
    "df['P_Age_range'] = pd.cut(df.Age, bins=[-1,4,9,14,19,24,29,34,39,44,49,54,59,64,69,74,79,84,89,94,99,200], \n",
    "                           labels=['0-4','5-9','10-14','15-19','20-24','25-29','30-34','35-39','40-44',\n",
    "                                       '45-49','50-54','55-59','60-64','65-69','70-74','75-79','80-84','85-89',\n",
    "                                       '90-94','95-99','100+'])"
   ]
  },
  {
   "cell_type": "code",
   "execution_count": 46,
   "id": "cf609f20",
   "metadata": {},
   "outputs": [
    {
     "data": {
      "text/html": [
       "<div>\n",
       "<style scoped>\n",
       "    .dataframe tbody tr th:only-of-type {\n",
       "        vertical-align: middle;\n",
       "    }\n",
       "\n",
       "    .dataframe tbody tr th {\n",
       "        vertical-align: top;\n",
       "    }\n",
       "\n",
       "    .dataframe thead th {\n",
       "        text-align: right;\n",
       "    }\n",
       "</style>\n",
       "<table border=\"1\" class=\"dataframe\">\n",
       "  <thead>\n",
       "    <tr style=\"text-align: right;\">\n",
       "      <th></th>\n",
       "      <th></th>\n",
       "      <th>0</th>\n",
       "    </tr>\n",
       "    <tr>\n",
       "      <th>P_Age_range</th>\n",
       "      <th>Gender</th>\n",
       "      <th></th>\n",
       "    </tr>\n",
       "  </thead>\n",
       "  <tbody>\n",
       "    <tr>\n",
       "      <th rowspan=\"2\" valign=\"top\">0-4</th>\n",
       "      <th>Female</th>\n",
       "      <td>292</td>\n",
       "    </tr>\n",
       "    <tr>\n",
       "      <th>Male</th>\n",
       "      <td>305</td>\n",
       "    </tr>\n",
       "    <tr>\n",
       "      <th rowspan=\"2\" valign=\"top\">5-9</th>\n",
       "      <th>Female</th>\n",
       "      <td>332</td>\n",
       "    </tr>\n",
       "    <tr>\n",
       "      <th>Male</th>\n",
       "      <td>356</td>\n",
       "    </tr>\n",
       "    <tr>\n",
       "      <th rowspan=\"2\" valign=\"top\">10-14</th>\n",
       "      <th>Female</th>\n",
       "      <td>331</td>\n",
       "    </tr>\n",
       "    <tr>\n",
       "      <th>Male</th>\n",
       "      <td>342</td>\n",
       "    </tr>\n",
       "    <tr>\n",
       "      <th rowspan=\"2\" valign=\"top\">15-19</th>\n",
       "      <th>Female</th>\n",
       "      <td>420</td>\n",
       "    </tr>\n",
       "    <tr>\n",
       "      <th>Male</th>\n",
       "      <td>386</td>\n",
       "    </tr>\n",
       "    <tr>\n",
       "      <th rowspan=\"2\" valign=\"top\">20-24</th>\n",
       "      <th>Male</th>\n",
       "      <td>326</td>\n",
       "    </tr>\n",
       "    <tr>\n",
       "      <th>Female</th>\n",
       "      <td>403</td>\n",
       "    </tr>\n",
       "    <tr>\n",
       "      <th rowspan=\"2\" valign=\"top\">25-29</th>\n",
       "      <th>Female</th>\n",
       "      <td>367</td>\n",
       "    </tr>\n",
       "    <tr>\n",
       "      <th>Male</th>\n",
       "      <td>332</td>\n",
       "    </tr>\n",
       "    <tr>\n",
       "      <th rowspan=\"2\" valign=\"top\">30-34</th>\n",
       "      <th>Female</th>\n",
       "      <td>414</td>\n",
       "    </tr>\n",
       "    <tr>\n",
       "      <th>Male</th>\n",
       "      <td>352</td>\n",
       "    </tr>\n",
       "    <tr>\n",
       "      <th rowspan=\"2\" valign=\"top\">35-39</th>\n",
       "      <th>Female</th>\n",
       "      <td>417</td>\n",
       "    </tr>\n",
       "    <tr>\n",
       "      <th>Male</th>\n",
       "      <td>376</td>\n",
       "    </tr>\n",
       "    <tr>\n",
       "      <th rowspan=\"2\" valign=\"top\">40-44</th>\n",
       "      <th>Female</th>\n",
       "      <td>409</td>\n",
       "    </tr>\n",
       "    <tr>\n",
       "      <th>Male</th>\n",
       "      <td>335</td>\n",
       "    </tr>\n",
       "    <tr>\n",
       "      <th rowspan=\"2\" valign=\"top\">45-49</th>\n",
       "      <th>Female</th>\n",
       "      <td>359</td>\n",
       "    </tr>\n",
       "    <tr>\n",
       "      <th>Male</th>\n",
       "      <td>264</td>\n",
       "    </tr>\n",
       "    <tr>\n",
       "      <th rowspan=\"2\" valign=\"top\">50-54</th>\n",
       "      <th>Female</th>\n",
       "      <td>314</td>\n",
       "    </tr>\n",
       "    <tr>\n",
       "      <th>Male</th>\n",
       "      <td>300</td>\n",
       "    </tr>\n",
       "    <tr>\n",
       "      <th rowspan=\"2\" valign=\"top\">55-59</th>\n",
       "      <th>Female</th>\n",
       "      <td>254</td>\n",
       "    </tr>\n",
       "    <tr>\n",
       "      <th>Male</th>\n",
       "      <td>268</td>\n",
       "    </tr>\n",
       "    <tr>\n",
       "      <th rowspan=\"2\" valign=\"top\">60-64</th>\n",
       "      <th>Male</th>\n",
       "      <td>209</td>\n",
       "    </tr>\n",
       "    <tr>\n",
       "      <th>Female</th>\n",
       "      <td>232</td>\n",
       "    </tr>\n",
       "    <tr>\n",
       "      <th rowspan=\"2\" valign=\"top\">65-69</th>\n",
       "      <th>Female</th>\n",
       "      <td>144</td>\n",
       "    </tr>\n",
       "    <tr>\n",
       "      <th>Male</th>\n",
       "      <td>105</td>\n",
       "    </tr>\n",
       "    <tr>\n",
       "      <th rowspan=\"2\" valign=\"top\">70-74</th>\n",
       "      <th>Female</th>\n",
       "      <td>160</td>\n",
       "    </tr>\n",
       "    <tr>\n",
       "      <th>Male</th>\n",
       "      <td>146</td>\n",
       "    </tr>\n",
       "    <tr>\n",
       "      <th rowspan=\"2\" valign=\"top\">75-79</th>\n",
       "      <th>Male</th>\n",
       "      <td>107</td>\n",
       "    </tr>\n",
       "    <tr>\n",
       "      <th>Female</th>\n",
       "      <td>84</td>\n",
       "    </tr>\n",
       "    <tr>\n",
       "      <th rowspan=\"2\" valign=\"top\">80-84</th>\n",
       "      <th>Female</th>\n",
       "      <td>72</td>\n",
       "    </tr>\n",
       "    <tr>\n",
       "      <th>Male</th>\n",
       "      <td>51</td>\n",
       "    </tr>\n",
       "    <tr>\n",
       "      <th rowspan=\"2\" valign=\"top\">85-89</th>\n",
       "      <th>Male</th>\n",
       "      <td>34</td>\n",
       "    </tr>\n",
       "    <tr>\n",
       "      <th>Female</th>\n",
       "      <td>25</td>\n",
       "    </tr>\n",
       "    <tr>\n",
       "      <th rowspan=\"2\" valign=\"top\">90-94</th>\n",
       "      <th>Male</th>\n",
       "      <td>6</td>\n",
       "    </tr>\n",
       "    <tr>\n",
       "      <th>Female</th>\n",
       "      <td>5</td>\n",
       "    </tr>\n",
       "    <tr>\n",
       "      <th rowspan=\"2\" valign=\"top\">95-99</th>\n",
       "      <th>Female</th>\n",
       "      <td>9</td>\n",
       "    </tr>\n",
       "    <tr>\n",
       "      <th>Male</th>\n",
       "      <td>6</td>\n",
       "    </tr>\n",
       "    <tr>\n",
       "      <th rowspan=\"2\" valign=\"top\">100+</th>\n",
       "      <th>Male</th>\n",
       "      <td>4</td>\n",
       "    </tr>\n",
       "    <tr>\n",
       "      <th>Female</th>\n",
       "      <td>2</td>\n",
       "    </tr>\n",
       "  </tbody>\n",
       "</table>\n",
       "</div>"
      ],
      "text/plain": [
       "                      0\n",
       "P_Age_range Gender     \n",
       "0-4         Female  292\n",
       "            Male    305\n",
       "5-9         Female  332\n",
       "            Male    356\n",
       "10-14       Female  331\n",
       "            Male    342\n",
       "15-19       Female  420\n",
       "            Male    386\n",
       "20-24       Male    326\n",
       "            Female  403\n",
       "25-29       Female  367\n",
       "            Male    332\n",
       "30-34       Female  414\n",
       "            Male    352\n",
       "35-39       Female  417\n",
       "            Male    376\n",
       "40-44       Female  409\n",
       "            Male    335\n",
       "45-49       Female  359\n",
       "            Male    264\n",
       "50-54       Female  314\n",
       "            Male    300\n",
       "55-59       Female  254\n",
       "            Male    268\n",
       "60-64       Male    209\n",
       "            Female  232\n",
       "65-69       Female  144\n",
       "            Male    105\n",
       "70-74       Female  160\n",
       "            Male    146\n",
       "75-79       Male    107\n",
       "            Female   84\n",
       "80-84       Female   72\n",
       "            Male     51\n",
       "85-89       Male     34\n",
       "            Female   25\n",
       "90-94       Male      6\n",
       "            Female    5\n",
       "95-99       Female    9\n",
       "            Male      6\n",
       "100+        Male      4\n",
       "            Female    2"
      ]
     },
     "execution_count": 46,
     "metadata": {},
     "output_type": "execute_result"
    }
   ],
   "source": [
    "#get the value count of age and Gender\n",
    "d_age= df[['P_Age_range','Gender']].value_counts()\n",
    "\n",
    "#covert to a data Frame\n",
    "df_age =pd.DataFrame(d_age)\n",
    "\n",
    "#sort by age range\n",
    "df_age.sort_values(by=['P_Age_range'])"
   ]
  },
  {
   "cell_type": "code",
   "execution_count": 47,
   "id": "36edbb8f",
   "metadata": {},
   "outputs": [],
   "source": [
    "#create a new data frame\n",
    "age_df = pd.DataFrame({'Age':['0-4','5-9','10-14','15-19','20-24','25-29','30-34','35-39','40-44',\n",
    "                                       '45-49','50-54','55-59','60-64','65-69','70-74','75-79','80-84','85-89',\n",
    "                                       '90-94','95-99','100+'],\n",
    "                       \n",
    "                       #use value count of male and female\n",
    "                      'Female':[292, 332, 331, 420, 403, 367, 414, 417, 409, 359, 314, 254, 232, 144, 160, 84, 72, 25,5, 9, 2],\n",
    "                      'Male':[305, 356, 342, 386, 326, 332, 352, 376, 335, 264, 300, 268, 209, 105, 146, 107, 51, 34, 6, 6, 4]})\n",
    "AgeClass =['100+','95-99','90-94','85-89','80-84','75-79','70-74','65-69','60-64','55-59','50-54',\n",
    "           '45-49','40-44','35-39','30-34','25-29','20-24','15-19','10-14','5-9','0-4']"
   ]
  },
  {
   "cell_type": "code",
   "execution_count": 48,
   "id": "7155e61c",
   "metadata": {},
   "outputs": [],
   "source": [
    "#assign varable name\n",
    "y = age_df['Age']\n",
    "x1 =age_df['Male']*-1\n",
    "\n",
    "#multiply by -1 so it can be at the oppsoite side\n",
    "x2 = age_df['Female']"
   ]
  },
  {
   "cell_type": "code",
   "execution_count": 49,
   "id": "8c34d83e",
   "metadata": {},
   "outputs": [
    {
     "data": {
      "image/png": "[encoded data removed]",
      "text/plain": [
       "<Figure size 1080x720 with 1 Axes>"
      ]
     },
     "metadata": {
      "needs_background": "light"
     },
     "output_type": "display_data"
    }
   ],
   "source": [
    "#plot the age pyramid\n",
    "plt.figure(figsize=(15,10))\n",
    "age_pyramid = sns.barplot(x=x1, y='Age', data=age_df, order=AgeClass, color=('darkcyan'), label='Male');\n",
    " \n",
    "age_pyramid = sns.barplot(x=x2, y='Age', data=age_df, order=AgeClass, color=('deeppink'), label='Female');\n",
    " \n",
    "age_pyramid.legend()\n",
    "plt.title('Age Pyramid');\n",
    "plt.xlabel('Population Count')\n",
    "plt.ylabel('Age Group')\n",
    "\n",
    "\n",
    "for i in age_pyramid.containers:\n",
    "    age_pyramid.bar_label(i,)\n",
    "plt.savefig('Age Pyramid')"
   ]
  },
  {
   "cell_type": "markdown",
   "id": "d7764c48",
   "metadata": {},
   "source": [
    "#### Observations"
   ]
  },
  {
   "cell_type": "markdown",
   "id": "d3547cdd",
   "metadata": {},
   "source": [
    "- Slow population growth\n",
    "- Low death rate\n",
    "- declining birth rate \n",
    "- There are bound to be more retired people in the future as the majority of the popolution are at the working age and very few school age individuals"
   ]
  },
  {
   "cell_type": "code",
   "execution_count": 52,
   "id": "68f29b60",
   "metadata": {},
   "outputs": [
    {
     "data": {
      "image/png": "[encoded data removed]",
      "text/plain": [
       "<Figure size 432x288 with 1 Axes>"
      ]
     },
     "metadata": {
      "needs_background": "light"
     },
     "output_type": "display_data"
    }
   ],
   "source": [
    "sns.countplot(data=df,x='Age_range');\n",
    "plt.title('Population by Age');\n",
    "plt.savefig('Population by Age')"
   ]
  },
  {
   "cell_type": "markdown",
   "id": "ce8f9b4d",
   "metadata": {},
   "source": [
    "### Birth rate"
   ]
  },
  {
   "cell_type": "code",
   "execution_count": 53,
   "id": "0b023df6",
   "metadata": {},
   "outputs": [
    {
     "data": {
      "text/plain": [
       "105"
      ]
     },
     "execution_count": 53,
     "metadata": {},
     "output_type": "execute_result"
    }
   ],
   "source": [
    "age_zero = df['Age'].value_counts()[0]\n",
    "age_zero\n",
    "#total number of people age 0\n",
    "#ref: https://www.geeksforgeeks.org/how-to-count-occurrences-of-specific-value-in-pandas-column/"
   ]
  },
  {
   "cell_type": "code",
   "execution_count": 54,
   "id": "942d69fa",
   "metadata": {},
   "outputs": [
    {
     "data": {
      "text/plain": [
       "10.875194199896427"
      ]
     },
     "execution_count": 54,
     "metadata": {},
     "output_type": "execute_result"
    }
   ],
   "source": [
    "present_birth_rate = (105/9655)*1000\n",
    "present_birth_rate"
   ]
  },
  {
   "cell_type": "code",
   "execution_count": 55,
   "id": "3647da5f",
   "metadata": {},
   "outputs": [
    {
     "data": {
      "text/plain": [
       "135"
      ]
     },
     "execution_count": 55,
     "metadata": {},
     "output_type": "execute_result"
    }
   ],
   "source": [
    "#age4\n",
    "age_four = df['Age'].value_counts()[4]\n",
    "age_four"
   ]
  },
  {
   "cell_type": "code",
   "execution_count": 56,
   "id": "1a866af4",
   "metadata": {},
   "outputs": [
    {
     "data": {
      "text/plain": [
       "13.982392542723977"
      ]
     },
     "execution_count": 56,
     "metadata": {},
     "output_type": "execute_result"
    }
   ],
   "source": [
    "Previous_birth_rate = (135/9655)*1000\n",
    "Previous_birth_rate"
   ]
  },
  {
   "cell_type": "code",
   "execution_count": 57,
   "id": "3ace44dd",
   "metadata": {},
   "outputs": [
    {
     "data": {
      "text/plain": [
       "-3.10719834282755"
      ]
     },
     "execution_count": 57,
     "metadata": {},
     "output_type": "execute_result"
    }
   ],
   "source": [
    "Birth_rate_diff = present_birth_rate- Previous_birth_rate\n",
    "Birth_rate_diff"
   ]
  },
  {
   "cell_type": "code",
   "execution_count": 58,
   "id": "7cd416a4",
   "metadata": {},
   "outputs": [
    {
     "data": {
      "text/plain": [
       "Female  Male\n",
       "367     332     1\n",
       "dtype: int64"
      ]
     },
     "execution_count": 58,
     "metadata": {},
     "output_type": "execute_result"
    }
   ],
   "source": [
    "age_df.value_counts()['25-29'] #number of female betweem 25-29"
   ]
  },
  {
   "cell_type": "code",
   "execution_count": 59,
   "id": "808f51da",
   "metadata": {},
   "outputs": [
    {
     "data": {
      "text/plain": [
       "Female  Male\n",
       "414     352     1\n",
       "dtype: int64"
      ]
     },
     "execution_count": 59,
     "metadata": {},
     "output_type": "execute_result"
    }
   ],
   "source": [
    "#30-34\n",
    "age_df.value_counts()['30-34']"
   ]
  },
  {
   "cell_type": "markdown",
   "id": "54efe8f3",
   "metadata": {},
   "source": [
    "#### There's a decrease in birth rate"
   ]
  },
  {
   "cell_type": "markdown",
   "id": "78a414e9",
   "metadata": {},
   "source": [
    "### Death rate"
   ]
  },
  {
   "cell_type": "code",
   "execution_count": 60,
   "id": "5b3eeee8",
   "metadata": {},
   "outputs": [],
   "source": [
    "d_rage= df[['P_Age_range']].value_counts()\n",
    "\n",
    "#covert to a data Frame\n",
    "df_rage =pd.DataFrame(d_rage)\n",
    "\n",
    "#sort by age range\n",
    "df_rage =df_rage.sort_values(by=['P_Age_range'], ascending = False)\n",
    "df_rage = df_rage.rename(columns={0: \"Count\"}).reset_index()\n",
    "df_rage['diff']=df_rage['Count'].diff(periods=-1)\n",
    "#ref: https://pythontic.com/pandas/dataframe-computations/"
   ]
  },
  {
   "cell_type": "code",
   "execution_count": 61,
   "id": "d0ce1325",
   "metadata": {},
   "outputs": [
    {
     "data": {
      "text/html": [
       "<div>\n",
       "<style scoped>\n",
       "    .dataframe tbody tr th:only-of-type {\n",
       "        vertical-align: middle;\n",
       "    }\n",
       "\n",
       "    .dataframe tbody tr th {\n",
       "        vertical-align: top;\n",
       "    }\n",
       "\n",
       "    .dataframe thead th {\n",
       "        text-align: right;\n",
       "    }\n",
       "</style>\n",
       "<table border=\"1\" class=\"dataframe\">\n",
       "  <thead>\n",
       "    <tr style=\"text-align: right;\">\n",
       "      <th></th>\n",
       "      <th>P_Age_range</th>\n",
       "      <th>Count</th>\n",
       "      <th>diff</th>\n",
       "    </tr>\n",
       "  </thead>\n",
       "  <tbody>\n",
       "    <tr>\n",
       "      <th>0</th>\n",
       "      <td>100+</td>\n",
       "      <td>6</td>\n",
       "      <td>-9.0</td>\n",
       "    </tr>\n",
       "    <tr>\n",
       "      <th>1</th>\n",
       "      <td>95-99</td>\n",
       "      <td>15</td>\n",
       "      <td>4.0</td>\n",
       "    </tr>\n",
       "    <tr>\n",
       "      <th>2</th>\n",
       "      <td>90-94</td>\n",
       "      <td>11</td>\n",
       "      <td>-48.0</td>\n",
       "    </tr>\n",
       "    <tr>\n",
       "      <th>3</th>\n",
       "      <td>85-89</td>\n",
       "      <td>59</td>\n",
       "      <td>-64.0</td>\n",
       "    </tr>\n",
       "    <tr>\n",
       "      <th>4</th>\n",
       "      <td>80-84</td>\n",
       "      <td>123</td>\n",
       "      <td>-68.0</td>\n",
       "    </tr>\n",
       "    <tr>\n",
       "      <th>5</th>\n",
       "      <td>75-79</td>\n",
       "      <td>191</td>\n",
       "      <td>-115.0</td>\n",
       "    </tr>\n",
       "    <tr>\n",
       "      <th>6</th>\n",
       "      <td>70-74</td>\n",
       "      <td>306</td>\n",
       "      <td>57.0</td>\n",
       "    </tr>\n",
       "    <tr>\n",
       "      <th>7</th>\n",
       "      <td>65-69</td>\n",
       "      <td>249</td>\n",
       "      <td>-192.0</td>\n",
       "    </tr>\n",
       "    <tr>\n",
       "      <th>8</th>\n",
       "      <td>60-64</td>\n",
       "      <td>441</td>\n",
       "      <td>-81.0</td>\n",
       "    </tr>\n",
       "    <tr>\n",
       "      <th>9</th>\n",
       "      <td>55-59</td>\n",
       "      <td>522</td>\n",
       "      <td>-92.0</td>\n",
       "    </tr>\n",
       "    <tr>\n",
       "      <th>10</th>\n",
       "      <td>50-54</td>\n",
       "      <td>614</td>\n",
       "      <td>-9.0</td>\n",
       "    </tr>\n",
       "    <tr>\n",
       "      <th>11</th>\n",
       "      <td>45-49</td>\n",
       "      <td>623</td>\n",
       "      <td>-121.0</td>\n",
       "    </tr>\n",
       "    <tr>\n",
       "      <th>12</th>\n",
       "      <td>40-44</td>\n",
       "      <td>744</td>\n",
       "      <td>-49.0</td>\n",
       "    </tr>\n",
       "    <tr>\n",
       "      <th>13</th>\n",
       "      <td>35-39</td>\n",
       "      <td>793</td>\n",
       "      <td>27.0</td>\n",
       "    </tr>\n",
       "    <tr>\n",
       "      <th>14</th>\n",
       "      <td>30-34</td>\n",
       "      <td>766</td>\n",
       "      <td>67.0</td>\n",
       "    </tr>\n",
       "    <tr>\n",
       "      <th>15</th>\n",
       "      <td>25-29</td>\n",
       "      <td>699</td>\n",
       "      <td>-30.0</td>\n",
       "    </tr>\n",
       "    <tr>\n",
       "      <th>16</th>\n",
       "      <td>20-24</td>\n",
       "      <td>729</td>\n",
       "      <td>-77.0</td>\n",
       "    </tr>\n",
       "    <tr>\n",
       "      <th>17</th>\n",
       "      <td>15-19</td>\n",
       "      <td>806</td>\n",
       "      <td>133.0</td>\n",
       "    </tr>\n",
       "    <tr>\n",
       "      <th>18</th>\n",
       "      <td>10-14</td>\n",
       "      <td>673</td>\n",
       "      <td>-15.0</td>\n",
       "    </tr>\n",
       "    <tr>\n",
       "      <th>19</th>\n",
       "      <td>5-9</td>\n",
       "      <td>688</td>\n",
       "      <td>91.0</td>\n",
       "    </tr>\n",
       "    <tr>\n",
       "      <th>20</th>\n",
       "      <td>0-4</td>\n",
       "      <td>597</td>\n",
       "      <td>NaN</td>\n",
       "    </tr>\n",
       "  </tbody>\n",
       "</table>\n",
       "</div>"
      ],
      "text/plain": [
       "   P_Age_range  Count   diff\n",
       "0         100+      6   -9.0\n",
       "1        95-99     15    4.0\n",
       "2        90-94     11  -48.0\n",
       "3        85-89     59  -64.0\n",
       "4        80-84    123  -68.0\n",
       "5        75-79    191 -115.0\n",
       "6        70-74    306   57.0\n",
       "7        65-69    249 -192.0\n",
       "8        60-64    441  -81.0\n",
       "9        55-59    522  -92.0\n",
       "10       50-54    614   -9.0\n",
       "11       45-49    623 -121.0\n",
       "12       40-44    744  -49.0\n",
       "13       35-39    793   27.0\n",
       "14       30-34    766   67.0\n",
       "15       25-29    699  -30.0\n",
       "16       20-24    729  -77.0\n",
       "17       15-19    806  133.0\n",
       "18       10-14    673  -15.0\n",
       "19         5-9    688   91.0\n",
       "20         0-4    597    NaN"
      ]
     },
     "execution_count": 61,
     "metadata": {},
     "output_type": "execute_result"
    }
   ],
   "source": [
    "df_rage"
   ]
  },
  {
   "cell_type": "code",
   "execution_count": 62,
   "id": "a83cc51f",
   "metadata": {},
   "outputs": [
    {
     "data": {
      "text/plain": [
       "8.562057655791472"
      ]
     },
     "execution_count": 62,
     "metadata": {},
     "output_type": "execute_result"
    }
   ],
   "source": [
    "D = 9+48+64+68+115+192 #sum of all death for people age 65 above\n",
    "death = D/6 #Average death rate\n",
    "Death_rate = (death/9655)*1000\n",
    "Death_rate"
   ]
  },
  {
   "cell_type": "code",
   "execution_count": 63,
   "id": "fe3367f1",
   "metadata": {},
   "outputs": [
    {
     "data": {
      "text/plain": [
       "9"
      ]
     },
     "execution_count": 63,
     "metadata": {},
     "output_type": "execute_result"
    }
   ],
   "source": [
    "(((df['P_Age_range']).value_counts()['95-99']) -((df['P_Age_range']).value_counts()['100+']))"
   ]
  },
  {
   "cell_type": "code",
   "execution_count": 64,
   "id": "842763d6",
   "metadata": {},
   "outputs": [
    {
     "data": {
      "text/plain": [
       "29.8"
      ]
     },
     "execution_count": 64,
     "metadata": {},
     "output_type": "execute_result"
    }
   ],
   "source": [
    "#death rate per anum\n",
    "16.2 + -11.4 + 13.6 + 9.6 + 1.8"
   ]
  },
  {
   "cell_type": "code",
   "execution_count": 65,
   "id": "b38fd6ba",
   "metadata": {},
   "outputs": [
    {
     "data": {
      "text/plain": [
       "308.64836872087"
      ]
     },
     "execution_count": 65,
     "metadata": {},
     "output_type": "execute_result"
    }
   ],
   "source": [
    "(29.8/9655)*100000"
   ]
  },
  {
   "cell_type": "markdown",
   "id": "b0a27d61",
   "metadata": {},
   "source": [
    "### Migration"
   ]
  },
  {
   "cell_type": "markdown",
   "id": "5b6abc94",
   "metadata": {},
   "source": [
    "Immmigration"
   ]
  },
  {
   "cell_type": "code",
   "execution_count": 66,
   "id": "1fc9b134",
   "metadata": {},
   "outputs": [
    {
     "data": {
      "text/plain": [
       "272"
      ]
     },
     "execution_count": 66,
     "metadata": {},
     "output_type": "execute_result"
    }
   ],
   "source": [
    "#making assumptions that lodgers who are employed or retired might decide to stay in town permenently\n",
    "Emp_lodger = df[((df[\"Relationship\"]=='Lodger')& (df[\"Marital Status\"]!='Divorced'))& ((df['Employment Status']=='Employed')|(df['Employment Status']=='Retired'))]\n",
    "len(Emp_lodger)"
   ]
  },
  {
   "cell_type": "code",
   "execution_count": 67,
   "id": "ac9200ff",
   "metadata": {},
   "outputs": [
    {
     "data": {
      "text/plain": [
       "28.171931641636455"
      ]
     },
     "execution_count": 67,
     "metadata": {},
     "output_type": "execute_result"
    }
   ],
   "source": [
    "(272/9655)*1000\n",
    "#~35 per thousand  immigratnt"
   ]
  },
  {
   "cell_type": "markdown",
   "id": "c9a4d202",
   "metadata": {},
   "source": [
    "Emmigration"
   ]
  },
  {
   "cell_type": "code",
   "execution_count": 68,
   "id": "03a605c5",
   "metadata": {},
   "outputs": [
    {
     "data": {
      "image/png": "[encoded data removed]",
      "text/plain": [
       "<Figure size 720x360 with 1 Axes>"
      ]
     },
     "metadata": {
      "needs_background": "light"
     },
     "output_type": "display_data"
    }
   ],
   "source": [
    "#checking marital status to determine emmigration\n",
    "plt.figure(figsize=(10,5))\n",
    "marital_status = sns.countplot(data = df, x='Marital Status');\n",
    "plt.title('Marital Status')\n",
    "for i in marital_status.containers:\n",
    "    marital_status.bar_label(i,)\n",
    "plt.savefig('Marital Status')"
   ]
  },
  {
   "cell_type": "code",
   "execution_count": 69,
   "id": "55c42198",
   "metadata": {},
   "outputs": [
    {
     "data": {
      "text/plain": [
       "Female    459\n",
       "Male      306\n",
       "Name: Gender, dtype: int64"
      ]
     },
     "execution_count": 69,
     "metadata": {},
     "output_type": "execute_result"
    }
   ],
   "source": [
    "#making assumptions that all the patners of divorcees who aint students left the town\n",
    "Divorced = df[(df['Marital Status']=='Divorced')&\n",
    "              (df['Employment Status']!='University Student') & (df['Employment Status']!='Retired')]\n",
    "Divorced['Gender'].value_counts()"
   ]
  },
  {
   "cell_type": "code",
   "execution_count": 70,
   "id": "ba0cc145",
   "metadata": {},
   "outputs": [
    {
     "data": {
      "text/plain": [
       "153"
      ]
     },
     "execution_count": 70,
     "metadata": {},
     "output_type": "execute_result"
    }
   ],
   "source": [
    "#There are more female divorcee than male, it is safe to say majority of the male divorcee left the town\n",
    "459-306"
   ]
  },
  {
   "cell_type": "code",
   "execution_count": 71,
   "id": "bf54fb34",
   "metadata": {},
   "outputs": [
    {
     "data": {
      "text/plain": [
       "15.846711548420506"
      ]
     },
     "execution_count": 71,
     "metadata": {},
     "output_type": "execute_result"
    }
   ],
   "source": [
    "(153/9655)*1000\n",
    "#~16 per thousand emmigrated"
   ]
  },
  {
   "cell_type": "markdown",
   "id": "45a9a084",
   "metadata": {},
   "source": [
    "### Occupancy"
   ]
  },
  {
   "cell_type": "markdown",
   "id": "bb185106",
   "metadata": {},
   "source": [
    "- Aaron O'Neill(2022) \"For the first time since data became available, newly-built houses in Britain have been built with fewer than three bedrooms per house in the 2010s. From the 1930s until the 1980s, the number of bedrooms fluctuated between 3.16 and 3.63 rooms per house, however declining family sizes caused this number to gradually decrease from the 1980s onwards, and in the 2010s the average number of bedrooms has fallen to 2.95 rooms per house.\"\n",
    "\n",
    "- The 2011 census shows that The average number of rooms in UK houses is 2.6 which is approximately 3. In this project, it will be assumed that the houses have 3 bedroooms each.\n",
    "\n",
    "- The maximum numer of people allowed in a 3 bedroom house in the UK is 5\n",
    "\n",
    "\n",
    "\n",
    "#ref: https://england.shelter.org.uk/housing_advice/repairs/check_if_your_home_is_overcrowded_by_law\n",
    "\n",
    "#ref :https://lginform.local.gov.uk/reports/\n",
    "\n",
    "#ref: https://www.statista.com/statistics/1056041/average-number-bedrooms-new-british-houses-1930-2020/"
   ]
  },
  {
   "cell_type": "code",
   "execution_count": 72,
   "id": "2d279104",
   "metadata": {},
   "outputs": [],
   "source": [
    "'''to get unique house address and know the number of occupancy in each house,  \n",
    "merged the coloumn house number and street'''\n",
    "\n",
    "#merge house number and street\n",
    "df['House Address'] = df['House Number'] +' ' + df['Street']"
   ]
  },
  {
   "cell_type": "code",
   "execution_count": 73,
   "id": "30f30f19",
   "metadata": {},
   "outputs": [
    {
     "data": {
      "text/plain": [
       "2.916918429003021"
      ]
     },
     "execution_count": 73,
     "metadata": {},
     "output_type": "execute_result"
    }
   ],
   "source": [
    "(df[\"House Address\"].value_counts()).mean()\n",
    "#average occupancy is aaproximately 3"
   ]
  },
  {
   "cell_type": "code",
   "execution_count": 74,
   "id": "54ba0847",
   "metadata": {},
   "outputs": [
    {
     "data": {
      "text/plain": [
       "3310"
      ]
     },
     "execution_count": 74,
     "metadata": {},
     "output_type": "execute_result"
    }
   ],
   "source": [
    "len((df['House Address']).unique())\n",
    "#number of unique houshold"
   ]
  },
  {
   "cell_type": "code",
   "execution_count": 75,
   "id": "121f04e2",
   "metadata": {},
   "outputs": [
    {
     "data": {
      "text/plain": [
       "2784"
      ]
     },
     "execution_count": 75,
     "metadata": {},
     "output_type": "execute_result"
    }
   ],
   "source": [
    "(df[\"House Address\"].value_counts()<5).sum()\n",
    "#under occupancy"
   ]
  },
  {
   "cell_type": "code",
   "execution_count": 76,
   "id": "a880d006",
   "metadata": {},
   "outputs": [
    {
     "data": {
      "text/plain": [
       "84.10876132930514"
      ]
     },
     "execution_count": 76,
     "metadata": {},
     "output_type": "execute_result"
    }
   ],
   "source": [
    "#% of under occupancy\n",
    "(2784/3310)*100"
   ]
  },
  {
   "cell_type": "code",
   "execution_count": 77,
   "id": "a931b34d",
   "metadata": {},
   "outputs": [
    {
     "data": {
      "text/plain": [
       "188"
      ]
     },
     "execution_count": 77,
     "metadata": {},
     "output_type": "execute_result"
    }
   ],
   "source": [
    "(df[\"House Address\"].value_counts()>5).sum()\n",
    "#overcrowded"
   ]
  },
  {
   "cell_type": "code",
   "execution_count": 78,
   "id": "4f19f4d8",
   "metadata": {},
   "outputs": [
    {
     "data": {
      "text/plain": [
       "5.6797583081570995"
      ]
     },
     "execution_count": 78,
     "metadata": {},
     "output_type": "execute_result"
    }
   ],
   "source": [
    "#% of overcrowded\n",
    "(188/3310)*100"
   ]
  },
  {
   "cell_type": "code",
   "execution_count": 79,
   "id": "3a4a843e",
   "metadata": {},
   "outputs": [
    {
     "data": {
      "text/plain": [
       "1675"
      ]
     },
     "execution_count": 79,
     "metadata": {},
     "output_type": "execute_result"
    }
   ],
   "source": [
    "(df[\"House Address\"].value_counts()<=2).sum()\n",
    "#extrememly under occupied"
   ]
  },
  {
   "cell_type": "code",
   "execution_count": 80,
   "id": "63884df6",
   "metadata": {},
   "outputs": [
    {
     "data": {
      "text/plain": [
       "50.60422960725075"
      ]
     },
     "execution_count": 80,
     "metadata": {},
     "output_type": "execute_result"
    }
   ],
   "source": [
    "# % of extremely under occupied\n",
    "(1675/3310)*100"
   ]
  },
  {
   "cell_type": "code",
   "execution_count": 81,
   "id": "256c404d",
   "metadata": {},
   "outputs": [
    {
     "data": {
      "text/plain": [
       "93"
      ]
     },
     "execution_count": 81,
     "metadata": {},
     "output_type": "execute_result"
    }
   ],
   "source": [
    "(df[\"House Address\"].value_counts()>=7).sum()\n",
    "# extremely overcrowded"
   ]
  },
  {
   "cell_type": "code",
   "execution_count": 82,
   "id": "32e1368d",
   "metadata": {},
   "outputs": [
    {
     "data": {
      "text/plain": [
       "28.096676737160124"
      ]
     },
     "execution_count": 82,
     "metadata": {},
     "output_type": "execute_result"
    }
   ],
   "source": [
    "(93/3310)*1000\n",
    "# extremely over occupied"
   ]
  },
  {
   "cell_type": "code",
   "execution_count": 83,
   "id": "f07d780f",
   "metadata": {},
   "outputs": [
    {
     "data": {
      "text/plain": [
       "338"
      ]
     },
     "execution_count": 83,
     "metadata": {},
     "output_type": "execute_result"
    }
   ],
   "source": [
    "(df[\"House Address\"].value_counts()==5).sum()"
   ]
  },
  {
   "cell_type": "code",
   "execution_count": 84,
   "id": "9a27f4fd",
   "metadata": {},
   "outputs": [
    {
     "data": {
      "text/plain": [
       "977"
      ]
     },
     "execution_count": 84,
     "metadata": {},
     "output_type": "execute_result"
    }
   ],
   "source": [
    "#household with minors less than 3\n",
    "minor_occ = df[df['Marital Status']=='Minor']\n",
    "(minor_occ[\"House Address\"].value_counts()<=2).sum()"
   ]
  },
  {
   "cell_type": "code",
   "execution_count": 85,
   "id": "24f11cb5",
   "metadata": {},
   "outputs": [
    {
     "data": {
      "text/plain": [
       "297"
      ]
     },
     "execution_count": 85,
     "metadata": {},
     "output_type": "execute_result"
    }
   ],
   "source": [
    "#household with minors less than 3\n",
    "(minor_occ[\"House Address\"].value_counts()>=3).sum()"
   ]
  },
  {
   "cell_type": "code",
   "execution_count": 86,
   "id": "e8d2bae2",
   "metadata": {},
   "outputs": [
    {
     "data": {
      "text/plain": [
       "House Address\n",
       "13 Wolverine Forges    2\n",
       "10 Pinewood Course     2\n",
       "9 Clearwater Lodge     2\n",
       "19 Queen Road          2\n",
       "2 Cooper Lane          2\n",
       "                      ..\n",
       "12 Pilgrim Drive       1\n",
       "34 Ali Harbors         1\n",
       "32 Ali Harbors         1\n",
       "31 Ali Harbors         1\n",
       "29 Lynch Streets       1\n",
       "Name: House Address, Length: 1000, dtype: int64"
      ]
     },
     "execution_count": 86,
     "metadata": {},
     "output_type": "execute_result"
    }
   ],
   "source": [
    "df.groupby(['House Address'],sort=False)['House Address'].count().sort_values(ascending=False).tail(1000)"
   ]
  },
  {
   "cell_type": "code",
   "execution_count": 87,
   "id": "6aa98863",
   "metadata": {},
   "outputs": [
    {
     "data": {
      "text/html": [
       "<div>\n",
       "<style scoped>\n",
       "    .dataframe tbody tr th:only-of-type {\n",
       "        vertical-align: middle;\n",
       "    }\n",
       "\n",
       "    .dataframe tbody tr th {\n",
       "        vertical-align: top;\n",
       "    }\n",
       "\n",
       "    .dataframe thead th {\n",
       "        text-align: right;\n",
       "    }\n",
       "</style>\n",
       "<table border=\"1\" class=\"dataframe\">\n",
       "  <thead>\n",
       "    <tr style=\"text-align: right;\">\n",
       "      <th></th>\n",
       "      <th>House Number</th>\n",
       "      <th>Street</th>\n",
       "      <th>First Name</th>\n",
       "      <th>Surname</th>\n",
       "      <th>Age</th>\n",
       "      <th>Relationship</th>\n",
       "      <th>Marital Status</th>\n",
       "      <th>Gender</th>\n",
       "      <th>Occupation</th>\n",
       "      <th>Infirmity</th>\n",
       "      <th>Religion</th>\n",
       "      <th>Age_range</th>\n",
       "      <th>Employment Status</th>\n",
       "      <th>P_Age_range</th>\n",
       "      <th>House Address</th>\n",
       "    </tr>\n",
       "  </thead>\n",
       "  <tbody>\n",
       "    <tr>\n",
       "      <th>3469</th>\n",
       "      <td>12</td>\n",
       "      <td>Pilgrim Drive</td>\n",
       "      <td>Ellie</td>\n",
       "      <td>Blake</td>\n",
       "      <td>49</td>\n",
       "      <td>Head</td>\n",
       "      <td>Single</td>\n",
       "      <td>Female</td>\n",
       "      <td>Software engineer</td>\n",
       "      <td>None</td>\n",
       "      <td>Methodist</td>\n",
       "      <td>36-50</td>\n",
       "      <td>Employed</td>\n",
       "      <td>45-49</td>\n",
       "      <td>12 Pilgrim Drive</td>\n",
       "    </tr>\n",
       "  </tbody>\n",
       "</table>\n",
       "</div>"
      ],
      "text/plain": [
       "     House Number         Street First Name Surname  Age Relationship  \\\n",
       "3469           12  Pilgrim Drive      Ellie   Blake   49         Head   \n",
       "\n",
       "     Marital Status  Gender         Occupation Infirmity   Religion Age_range  \\\n",
       "3469         Single  Female  Software engineer      None  Methodist     36-50   \n",
       "\n",
       "     Employment Status P_Age_range     House Address  \n",
       "3469          Employed       45-49  12 Pilgrim Drive  "
      ]
     },
     "execution_count": 87,
     "metadata": {},
     "output_type": "execute_result"
    }
   ],
   "source": [
    "df[df['House Address']=='12 Pilgrim Drive']"
   ]
  },
  {
   "cell_type": "code",
   "execution_count": 88,
   "id": "6a005c55",
   "metadata": {},
   "outputs": [
    {
     "data": {
      "text/html": [
       "<div>\n",
       "<style scoped>\n",
       "    .dataframe tbody tr th:only-of-type {\n",
       "        vertical-align: middle;\n",
       "    }\n",
       "\n",
       "    .dataframe tbody tr th {\n",
       "        vertical-align: top;\n",
       "    }\n",
       "\n",
       "    .dataframe thead th {\n",
       "        text-align: right;\n",
       "    }\n",
       "</style>\n",
       "<table border=\"1\" class=\"dataframe\">\n",
       "  <thead>\n",
       "    <tr style=\"text-align: right;\">\n",
       "      <th></th>\n",
       "      <th>House Number</th>\n",
       "      <th>Street</th>\n",
       "      <th>First Name</th>\n",
       "      <th>Surname</th>\n",
       "      <th>Age</th>\n",
       "      <th>Relationship</th>\n",
       "      <th>Marital Status</th>\n",
       "      <th>Gender</th>\n",
       "      <th>Occupation</th>\n",
       "      <th>Infirmity</th>\n",
       "      <th>Religion</th>\n",
       "      <th>Age_range</th>\n",
       "      <th>Employment Status</th>\n",
       "      <th>P_Age_range</th>\n",
       "      <th>House Address</th>\n",
       "    </tr>\n",
       "  </thead>\n",
       "  <tbody>\n",
       "    <tr>\n",
       "      <th>5816</th>\n",
       "      <td>13</td>\n",
       "      <td>Wolverine Forges</td>\n",
       "      <td>Sam</td>\n",
       "      <td>Fisher</td>\n",
       "      <td>18</td>\n",
       "      <td>Head</td>\n",
       "      <td>Married</td>\n",
       "      <td>Male</td>\n",
       "      <td>Student</td>\n",
       "      <td>None</td>\n",
       "      <td>Unknown</td>\n",
       "      <td>18-25</td>\n",
       "      <td>Student</td>\n",
       "      <td>15-19</td>\n",
       "      <td>13 Wolverine Forges</td>\n",
       "    </tr>\n",
       "    <tr>\n",
       "      <th>5817</th>\n",
       "      <td>13</td>\n",
       "      <td>Wolverine Forges</td>\n",
       "      <td>Lorraine</td>\n",
       "      <td>Fisher</td>\n",
       "      <td>19</td>\n",
       "      <td>Wife</td>\n",
       "      <td>Married</td>\n",
       "      <td>Female</td>\n",
       "      <td>University Student</td>\n",
       "      <td>None</td>\n",
       "      <td>None</td>\n",
       "      <td>18-25</td>\n",
       "      <td>University Student</td>\n",
       "      <td>15-19</td>\n",
       "      <td>13 Wolverine Forges</td>\n",
       "    </tr>\n",
       "  </tbody>\n",
       "</table>\n",
       "</div>"
      ],
      "text/plain": [
       "     House Number            Street First Name Surname  Age Relationship  \\\n",
       "5816           13  Wolverine Forges        Sam  Fisher   18         Head   \n",
       "5817           13  Wolverine Forges   Lorraine  Fisher   19         Wife   \n",
       "\n",
       "     Marital Status  Gender          Occupation Infirmity Religion Age_range  \\\n",
       "5816        Married    Male             Student      None  Unknown     18-25   \n",
       "5817        Married  Female  University Student      None     None     18-25   \n",
       "\n",
       "       Employment Status P_Age_range        House Address  \n",
       "5816             Student       15-19  13 Wolverine Forges  \n",
       "5817  University Student       15-19  13 Wolverine Forges  "
      ]
     },
     "execution_count": 88,
     "metadata": {},
     "output_type": "execute_result"
    }
   ],
   "source": [
    "df[df['House Address']=='13 Wolverine Forges']"
   ]
  },
  {
   "cell_type": "code",
   "execution_count": 89,
   "id": "96c4463b",
   "metadata": {},
   "outputs": [
    {
     "data": {
      "text/html": [
       "<div>\n",
       "<style scoped>\n",
       "    .dataframe tbody tr th:only-of-type {\n",
       "        vertical-align: middle;\n",
       "    }\n",
       "\n",
       "    .dataframe tbody tr th {\n",
       "        vertical-align: top;\n",
       "    }\n",
       "\n",
       "    .dataframe thead th {\n",
       "        text-align: right;\n",
       "    }\n",
       "</style>\n",
       "<table border=\"1\" class=\"dataframe\">\n",
       "  <thead>\n",
       "    <tr style=\"text-align: right;\">\n",
       "      <th></th>\n",
       "      <th>House Number</th>\n",
       "      <th>Street</th>\n",
       "      <th>First Name</th>\n",
       "      <th>Surname</th>\n",
       "      <th>Age</th>\n",
       "      <th>Relationship</th>\n",
       "      <th>Marital Status</th>\n",
       "      <th>Gender</th>\n",
       "      <th>Occupation</th>\n",
       "      <th>Infirmity</th>\n",
       "      <th>Religion</th>\n",
       "      <th>Age_range</th>\n",
       "      <th>Employment Status</th>\n",
       "      <th>P_Age_range</th>\n",
       "      <th>House Address</th>\n",
       "    </tr>\n",
       "  </thead>\n",
       "  <tbody>\n",
       "    <tr>\n",
       "      <th>3968</th>\n",
       "      <td>2</td>\n",
       "      <td>Cooper Lane</td>\n",
       "      <td>Marian</td>\n",
       "      <td>Woods</td>\n",
       "      <td>72</td>\n",
       "      <td>Head</td>\n",
       "      <td>Widowed</td>\n",
       "      <td>Female</td>\n",
       "      <td>Unemployed</td>\n",
       "      <td>None</td>\n",
       "      <td>Methodist</td>\n",
       "      <td>66+</td>\n",
       "      <td>Unemployed</td>\n",
       "      <td>70-74</td>\n",
       "      <td>2 Cooper Lane</td>\n",
       "    </tr>\n",
       "    <tr>\n",
       "      <th>3969</th>\n",
       "      <td>2</td>\n",
       "      <td>Cooper Lane</td>\n",
       "      <td>Cameron</td>\n",
       "      <td>Woods</td>\n",
       "      <td>37</td>\n",
       "      <td>Son</td>\n",
       "      <td>Single</td>\n",
       "      <td>Male</td>\n",
       "      <td>Minerals surveyor</td>\n",
       "      <td>None</td>\n",
       "      <td>Methodist</td>\n",
       "      <td>36-50</td>\n",
       "      <td>Employed</td>\n",
       "      <td>35-39</td>\n",
       "      <td>2 Cooper Lane</td>\n",
       "    </tr>\n",
       "  </tbody>\n",
       "</table>\n",
       "</div>"
      ],
      "text/plain": [
       "     House Number       Street First Name Surname  Age Relationship  \\\n",
       "3968            2  Cooper Lane     Marian   Woods   72         Head   \n",
       "3969            2  Cooper Lane    Cameron   Woods   37          Son   \n",
       "\n",
       "     Marital Status  Gender         Occupation Infirmity   Religion Age_range  \\\n",
       "3968        Widowed  Female         Unemployed      None  Methodist       66+   \n",
       "3969         Single    Male  Minerals surveyor      None  Methodist     36-50   \n",
       "\n",
       "     Employment Status P_Age_range  House Address  \n",
       "3968        Unemployed       70-74  2 Cooper Lane  \n",
       "3969          Employed       35-39  2 Cooper Lane  "
      ]
     },
     "execution_count": 89,
     "metadata": {},
     "output_type": "execute_result"
    }
   ],
   "source": [
    "df[df['House Address']=='2 Cooper Lane']"
   ]
  },
  {
   "cell_type": "code",
   "execution_count": 90,
   "id": "bf3b9b1b",
   "metadata": {},
   "outputs": [],
   "source": [
    "occupancy= df[['House Address']].value_counts()\n",
    "df_occupancy =pd.DataFrame(occupancy)\n",
    "df_occupancy = df_occupancy.rename(columns={0: \"Occupants\"}).reset_index()\n",
    "df_occupancy['Marital Status'] = df['Marital Status']\n",
    "df_occupancy\n",
    "df[\"Occupants\"] = df_occupancy['Occupants']"
   ]
  },
  {
   "cell_type": "code",
   "execution_count": 91,
   "id": "ccab5966",
   "metadata": {},
   "outputs": [],
   "source": [
    "df_widowed = df[df['Marital Status']=='Widowed']\n",
    "df_divorced = df[df['Marital Status']=='Divorced']\n",
    "df_Married = df[df['Marital Status']=='Married']\n",
    "df_Single = df[df['Marital Status']=='Single']"
   ]
  },
  {
   "cell_type": "code",
   "execution_count": 92,
   "id": "7f7d7ab7",
   "metadata": {},
   "outputs": [
    {
     "data": {
      "text/plain": [
       "<Figure size 720x360 with 0 Axes>"
      ]
     },
     "metadata": {},
     "output_type": "display_data"
    },
    {
     "data": {
      "image/png": "[encoded data removed]",
      "text/plain": [
       "<Figure size 360x360 with 1 Axes>"
      ]
     },
     "metadata": {
      "needs_background": "light"
     },
     "output_type": "display_data"
    }
   ],
   "source": [
    "plt.figure(figsize=(10,5));\n",
    "sns.relplot(data=df_widowed, y='Age', x='Occupants');\n",
    "plt.title('Widowed Occupants');\n",
    "plt.xlim(0, 30);\n",
    "\n",
    "plt.subplots_adjust(top=0.88);\n",
    "plt.savefig('Widowed Occupants');"
   ]
  },
  {
   "cell_type": "code",
   "execution_count": 93,
   "id": "44a220b8",
   "metadata": {},
   "outputs": [
    {
     "data": {
      "image/png": "[encoded data removed]",
      "text/plain": [
       "<Figure size 360x360 with 1 Axes>"
      ]
     },
     "metadata": {
      "needs_background": "light"
     },
     "output_type": "display_data"
    }
   ],
   "source": [
    "sns.relplot(data=df_divorced, y='Age', x='Occupants');\n",
    "plt.title('Divorced Occupants');\n",
    "plt.xlim(0, 30);\n",
    "\n",
    "plt.subplots_adjust(top=0.88)\n",
    "plt.savefig('Divorced Occupants')"
   ]
  },
  {
   "cell_type": "code",
   "execution_count": 94,
   "id": "e9c4de1c",
   "metadata": {},
   "outputs": [
    {
     "data": {
      "image/png": "[encoded data removed]",
      "text/plain": [
       "<Figure size 360x360 with 1 Axes>"
      ]
     },
     "metadata": {
      "needs_background": "light"
     },
     "output_type": "display_data"
    }
   ],
   "source": [
    "sns.relplot(data=df_Single, y='Age', x='Occupants');\n",
    "plt.title('Single Occupants');\n",
    "\n",
    "plt.subplots_adjust(top=0.88)\n",
    "plt.savefig('Single Occupants')\n",
    "plt.xlim(0, 30);"
   ]
  },
  {
   "cell_type": "code",
   "execution_count": 95,
   "id": "2a42a97c",
   "metadata": {},
   "outputs": [
    {
     "data": {
      "image/png": "[encoded data removed]",
      "text/plain": [
       "<Figure size 360x360 with 1 Axes>"
      ]
     },
     "metadata": {
      "needs_background": "light"
     },
     "output_type": "display_data"
    }
   ],
   "source": [
    "sns.relplot(data=df_Married, y='Age', x='Occupants');\n",
    "plt.title('Married Occupants');\n",
    "\n",
    "plt.subplots_adjust(top=0.88)\n",
    "plt.savefig('Married Occupants')\n",
    "plt.xlim(0, 30);"
   ]
  },
  {
   "cell_type": "markdown",
   "id": "3a52dafb",
   "metadata": {},
   "source": [
    "84% of the housholds are  under occupied and over  50% are extremly under occupied,\n",
    "- There are high number of single in the community and majority are staying alone\n",
    "- There are also divorced and retired people staying alone\n",
    "- Majority of the married couples have no kids\n",
    "- Majority of the household have less than 3 children\n",
    "- There are single,  divorced  and widowed individuals with kid(s)\n",
    "\n",
    "These are the factors that caused under ocuupied houses"
   ]
  },
  {
   "cell_type": "markdown",
   "id": "32bc3024",
   "metadata": {},
   "source": [
    "### Commuters\n"
   ]
  },
  {
   "cell_type": "code",
   "execution_count": 96,
   "id": "fbe5e974",
   "metadata": {},
   "outputs": [
    {
     "data": {
      "image/png": "[encoded data removed]",
      "text/plain": [
       "<Figure size 720x360 with 1 Axes>"
      ]
     },
     "metadata": {
      "needs_background": "light"
     },
     "output_type": "display_data"
    }
   ],
   "source": [
    "Top_Occupation =df.groupby(['Occupation'],sort=False)['Occupation'].count().sort_values(ascending=False).head(20)\n",
    "plt.figure(figsize = (10,5))\n",
    "ax = sns.barplot(x=Top_Occupation.values, y=Top_Occupation.index, palette = 'magma');\n",
    "for i in ax.containers:\n",
    "    ax.bar_label(i,)\n",
    "#refernce : stackoverflow\n",
    "#https://www.geeksforgeeks.org/how-to-show-values-on-seaborn-barplot/"
   ]
  },
  {
   "cell_type": "code",
   "execution_count": 97,
   "id": "9c3c5a46",
   "metadata": {},
   "outputs": [],
   "source": [
    "#replace any occupation with the word retired by rertired\n",
    "df['Occupation'] =df['Occupation'].str.replace('Retired.*', 'Retired', regex=True) \n",
    "\n",
    "#replace PhD student by university Student\n",
    "df['Occupation'] = df['Occupation'].str.replace('PhD.*', 'University Student', regex=True)"
   ]
  },
  {
   "cell_type": "code",
   "execution_count": 98,
   "id": "346db7e1",
   "metadata": {},
   "outputs": [
    {
     "data": {
      "image/png": "[encoded data removed]",
      "text/plain": [
       "<Figure size 360x144 with 1 Axes>"
      ]
     },
     "metadata": {
      "needs_background": "light"
     },
     "output_type": "display_data"
    }
   ],
   "source": [
    "#Check the age of people classified as student\n",
    "df_student=df[df[\"Occupation\"].isin([\"Student\"])]\n",
    "plt.figure(figsize = (5,2))\n",
    "sns.countplot(data = df_student, x='Age_range', palette = 'magma');\n",
    "\n",
    "#reference:https://pandas.pydata.org/docs/getting_started/intro_tutorials/03_subset_data.html"
   ]
  },
  {
   "cell_type": "code",
   "execution_count": 99,
   "id": "dbb9a1af",
   "metadata": {},
   "outputs": [
    {
     "data": {
      "text/plain": [
       "15    158\n",
       "5     154\n",
       "7     151\n",
       "13    147\n",
       "17    143\n",
       "14    140\n",
       "16    139\n",
       "10    137\n",
       "11    136\n",
       "18    134\n",
       "9     129\n",
       "8     127\n",
       "6     127\n",
       "12    113\n",
       "Name: Age, dtype: int64"
      ]
     },
     "execution_count": 99,
     "metadata": {},
     "output_type": "execute_result"
    }
   ],
   "source": [
    "#check if there are people over the age of 18 as student\n",
    "df_student[\"Age\"].value_counts()\n",
    "#this show they are primary(5-11), secondary(11-16) and further educations(16-18) classified as student\n",
    "#reference: gov.uk(Education and learning)"
   ]
  },
  {
   "cell_type": "code",
   "execution_count": 100,
   "id": "65bddd34",
   "metadata": {},
   "outputs": [
    {
     "data": {
      "image/png": "[encoded data removed]",
      "text/plain": [
       "<Figure size 432x288 with 1 Axes>"
      ]
     },
     "metadata": {
      "needs_background": "light"
     },
     "output_type": "display_data"
    }
   ],
   "source": [
    "#data of all individuals who are university students\n",
    "df_Unistudent=df[df[\"Occupation\"].isin([\"University Student\"])]\n",
    "sns.countplot(data = df_Unistudent, x='Age_range', palette = 'magma');\n",
    "# all unversity students are within the age 18-25"
   ]
  },
  {
   "cell_type": "code",
   "execution_count": 101,
   "id": "7630d0ca",
   "metadata": {},
   "outputs": [
    {
     "data": {
      "image/png": "[encoded data removed]",
      "text/plain": [
       "<Figure size 720x360 with 1 Axes>"
      ]
     },
     "metadata": {
      "needs_background": "light"
     },
     "output_type": "display_data"
    }
   ],
   "source": [
    "plt.figure(figsize = (10,5))\n",
    "ax = sns.countplot(data=df, x='Employment Status');\n",
    "for i in ax.containers:\n",
    "    ax.bar_label(i,)\n",
    "plt.title('Employment Status')\n",
    "plt.savefig('Employment Status')"
   ]
  },
  {
   "cell_type": "code",
   "execution_count": 102,
   "id": "ef6fcb88",
   "metadata": {},
   "outputs": [
    {
     "data": {
      "text/plain": [
       "['Careers adviser',\n",
       " 'Public relations account executive',\n",
       " 'Meteorologist',\n",
       " 'Jewellery designer',\n",
       " 'Trade mark attorney',\n",
       " 'Retail merchandiser',\n",
       " 'Commissioning editor',\n",
       " 'Unemployed',\n",
       " 'Engineer, mining',\n",
       " 'University Student',\n",
       " 'Charity officer',\n",
       " 'Volunteer coordinator',\n",
       " 'Student',\n",
       " 'Water quality scientist',\n",
       " 'Chartered legal executive (England and Wales)',\n",
       " 'Multimedia programmer',\n",
       " 'Oncologist',\n",
       " 'Medical technical officer',\n",
       " 'Podiatrist',\n",
       " 'Insurance broker',\n",
       " 'Chief of Staff',\n",
       " 'Museum/gallery curator',\n",
       " 'Engineer, chemical',\n",
       " 'Architect',\n",
       " 'Scientific laboratory technician',\n",
       " 'Cabin crew',\n",
       " 'Community development worker',\n",
       " 'Financial trader',\n",
       " 'Structural engineer',\n",
       " 'Environmental education officer',\n",
       " 'Broadcast engineer',\n",
       " 'Engineer, automotive',\n",
       " 'Mechanical engineer',\n",
       " 'Retired',\n",
       " 'Geophysicist/field seismologist',\n",
       " 'Veterinary surgeon',\n",
       " 'Computer games developer',\n",
       " 'Child',\n",
       " 'Optician, dispensing',\n",
       " 'Hydrogeologist',\n",
       " 'Engineer, materials',\n",
       " 'Retail banker',\n",
       " 'Risk analyst',\n",
       " 'Administrator, local government',\n",
       " 'Teacher, primary school',\n",
       " 'Librarian, public',\n",
       " 'Magazine journalist',\n",
       " 'Economist',\n",
       " 'Estate manager/land agent',\n",
       " 'Counselling psychologist',\n",
       " 'Advertising account planner',\n",
       " 'Aeronautical engineer',\n",
       " 'Exhibitions officer, museum/gallery',\n",
       " 'Surveyor, land/geomatics',\n",
       " 'Horticulturist, commercial',\n",
       " 'Chief Operating Officer',\n",
       " 'Engineer, broadcasting (operations)',\n",
       " 'Stage manager',\n",
       " 'Administrator, arts',\n",
       " 'Scientist, research (physical sciences)',\n",
       " 'Higher education careers adviser',\n",
       " 'Lobbyist',\n",
       " 'Engineer, agricultural',\n",
       " 'Associate Professor',\n",
       " 'Secretary/administrator',\n",
       " 'Clinical psychologist',\n",
       " 'Maintenance engineer',\n",
       " 'Human resources officer',\n",
       " 'Arboriculturist',\n",
       " 'Environmental manager',\n",
       " 'Landscape architect',\n",
       " 'Equality and diversity officer',\n",
       " 'Engineer, energy',\n",
       " 'Health visitor',\n",
       " 'Proofreader',\n",
       " 'Primary school teacher',\n",
       " 'Adult nurse',\n",
       " 'Insurance risk surveyor',\n",
       " 'Ranger/warden',\n",
       " 'Personal assistant',\n",
       " 'Field trials officer',\n",
       " 'Network engineer',\n",
       " 'Conservator, museum/gallery',\n",
       " 'Journalist, magazine',\n",
       " 'Sales promotion account executive',\n",
       " 'Dealer',\n",
       " 'Financial risk analyst',\n",
       " 'Pathologist',\n",
       " 'Child psychotherapist',\n",
       " 'TEFL teacher',\n",
       " 'Geoscientist',\n",
       " 'Interior and spatial designer',\n",
       " 'Corporate investment banker',\n",
       " 'Armed forces logistics/support/administrative officer',\n",
       " 'Dispensing optician',\n",
       " 'Clinical molecular geneticist',\n",
       " 'Advertising art director',\n",
       " 'Architectural technologist',\n",
       " 'Photographer',\n",
       " 'Retail buyer',\n",
       " 'Environmental health practitioner',\n",
       " 'Surgeon',\n",
       " 'Civil Service administrator',\n",
       " 'Teaching laboratory technician',\n",
       " 'Corporate treasurer',\n",
       " 'Air broker',\n",
       " 'Arts administrator',\n",
       " 'Therapist, drama',\n",
       " 'Product manager',\n",
       " 'Clothing/textile technologist',\n",
       " 'International aid/development worker',\n",
       " 'Recycling officer',\n",
       " 'Holiday representative',\n",
       " 'Tour manager',\n",
       " 'Designer, graphic',\n",
       " 'Engineer, structural',\n",
       " 'Mining engineer',\n",
       " 'Lecturer, higher education',\n",
       " 'Producer, television/film/video',\n",
       " 'Musician',\n",
       " 'Art therapist',\n",
       " 'Psychotherapist, child',\n",
       " 'Therapist, sports',\n",
       " 'Scientist, forensic',\n",
       " 'Nutritional therapist',\n",
       " 'Paediatric nurse',\n",
       " 'Banker',\n",
       " 'Marketing executive',\n",
       " 'Tree surgeon',\n",
       " 'Investment banker, operational',\n",
       " 'Printmaker',\n",
       " 'Therapist, occupational',\n",
       " 'Writer',\n",
       " 'Press photographer',\n",
       " 'Teacher, music',\n",
       " 'Chartered loss adjuster',\n",
       " 'Solicitor',\n",
       " 'Soil scientist',\n",
       " 'Toxicologist',\n",
       " 'Product designer',\n",
       " 'Social researcher',\n",
       " 'Optometrist',\n",
       " 'Fashion designer',\n",
       " 'Arts development officer',\n",
       " 'Energy manager',\n",
       " 'Electrical engineer',\n",
       " 'Education administrator',\n",
       " 'Hotel manager',\n",
       " 'English as a foreign language teacher',\n",
       " 'Surveyor, insurance',\n",
       " 'Scientist, marine',\n",
       " 'Accountant, chartered',\n",
       " 'Television production assistant',\n",
       " 'Event organiser',\n",
       " 'Sales executive',\n",
       " 'Scientist, water quality',\n",
       " 'Osteopath',\n",
       " 'Exercise physiologist',\n",
       " 'Accommodation manager',\n",
       " 'Sports administrator',\n",
       " 'Ophthalmologist',\n",
       " 'Legal executive',\n",
       " 'Gaffer',\n",
       " 'Engineer, electronics',\n",
       " 'Civil engineer, consulting',\n",
       " 'Patent examiner',\n",
       " 'Publishing rights manager',\n",
       " 'Agricultural engineer',\n",
       " 'Designer, blown glass/stained glass',\n",
       " 'Cytogeneticist',\n",
       " 'Public relations officer',\n",
       " 'Immunologist',\n",
       " 'Recruitment consultant',\n",
       " 'Control and instrumentation engineer',\n",
       " 'Audiological scientist',\n",
       " 'Medical sales representative',\n",
       " 'Merchandiser, retail',\n",
       " 'Medical illustrator',\n",
       " 'Race relations officer',\n",
       " 'Administrator, charities/voluntary organisations',\n",
       " 'Software engineer',\n",
       " 'Scientist, biomedical',\n",
       " 'Engineer, maintenance',\n",
       " 'Health and safety inspector',\n",
       " 'Geneticist, molecular',\n",
       " 'Investment analyst',\n",
       " 'Secretary, company',\n",
       " 'Programmer, multimedia',\n",
       " 'Immigration officer',\n",
       " 'Research scientist (medical)',\n",
       " 'Physicist, medical',\n",
       " 'Producer, radio',\n",
       " 'Engineer, aeronautical',\n",
       " 'Editorial assistant',\n",
       " 'Engineer, site',\n",
       " 'Chartered accountant',\n",
       " 'Geologist, engineering',\n",
       " 'Fish farm manager',\n",
       " 'Solicitor, Scotland',\n",
       " 'Sports coach',\n",
       " 'Financial controller',\n",
       " 'Oceanographer',\n",
       " 'Buyer, industrial',\n",
       " 'Radiographer, therapeutic',\n",
       " 'Call centre manager',\n",
       " 'Early years teacher',\n",
       " 'Fast food restaurant manager',\n",
       " 'Editor, commissioning',\n",
       " 'Leisure centre manager',\n",
       " 'Automotive engineer',\n",
       " 'Ceramics designer',\n",
       " 'Logistics and distribution manager',\n",
       " 'Sound technician, broadcasting/film/video',\n",
       " 'Education officer, environmental',\n",
       " 'IT consultant',\n",
       " 'Patent attorney',\n",
       " 'Scientist, product/process development',\n",
       " 'Librarian, academic',\n",
       " 'Civil engineer, contracting',\n",
       " 'Transport planner',\n",
       " 'Sport and exercise psychologist',\n",
       " 'Museum/gallery exhibitions officer',\n",
       " 'Microbiologist',\n",
       " 'Public affairs consultant',\n",
       " 'Food technologist',\n",
       " 'Psychotherapist, dance movement',\n",
       " 'Police officer',\n",
       " 'Pharmacologist',\n",
       " 'Pharmacist, hospital',\n",
       " 'Careers information officer',\n",
       " 'Therapist, horticultural',\n",
       " 'Planning and development surveyor',\n",
       " 'Engineer, civil (contracting)',\n",
       " 'Animator',\n",
       " 'Accounting technician',\n",
       " 'Publishing copy',\n",
       " 'Information systems manager',\n",
       " 'Drilling engineer',\n",
       " 'Emergency planning/management officer',\n",
       " 'Illustrator',\n",
       " 'Biochemist, clinical',\n",
       " 'Warden/ranger',\n",
       " 'Information officer',\n",
       " 'Electronics engineer',\n",
       " 'Fitness centre manager',\n",
       " 'Agricultural consultant',\n",
       " 'Chief Financial Officer',\n",
       " 'Chief Executive Officer',\n",
       " 'Engineer, control and instrumentation',\n",
       " 'Surveyor, building control',\n",
       " 'Wellsite geologist',\n",
       " 'Futures trader',\n",
       " 'Diplomatic Services operational officer',\n",
       " 'Dancer',\n",
       " 'Dentist',\n",
       " 'Community arts worker',\n",
       " 'Restaurant manager',\n",
       " 'Copy',\n",
       " 'Television/film/video producer',\n",
       " 'Dramatherapist',\n",
       " 'Runner, broadcasting/film/video',\n",
       " 'Ship broker',\n",
       " 'Pilot, airline',\n",
       " 'Conference centre manager',\n",
       " 'Teacher, adult education',\n",
       " 'Animal technologist',\n",
       " 'Advertising copywriter',\n",
       " 'Barista',\n",
       " 'Catering manager',\n",
       " 'Education officer, community',\n",
       " 'Therapeutic radiographer',\n",
       " 'Industrial buyer',\n",
       " 'Astronomer',\n",
       " 'Pensions consultant',\n",
       " 'IT sales professional',\n",
       " 'Graphic designer',\n",
       " 'Games developer',\n",
       " 'Multimedia specialist',\n",
       " 'Secondary school teacher',\n",
       " 'Forensic scientist',\n",
       " 'Occupational therapist',\n",
       " 'Engineer, biomedical',\n",
       " 'Embryologist, clinical',\n",
       " 'Production assistant, television',\n",
       " 'IT technical support officer',\n",
       " 'Surveyor, minerals',\n",
       " 'Psychologist, forensic',\n",
       " 'Barrister',\n",
       " 'Clinical scientist, histocompatibility and immunogenetics',\n",
       " 'Nature conservation officer',\n",
       " 'Nurse, mental health',\n",
       " 'IT trainer',\n",
       " 'Animal nutritionist',\n",
       " 'Armed forces technical officer',\n",
       " 'Fisheries officer',\n",
       " \"Politician's assistant\",\n",
       " 'Clinical embryologist',\n",
       " 'Herbalist',\n",
       " 'Actuary',\n",
       " 'Hydrographic surveyor',\n",
       " 'Lighting technician, broadcasting/film/video',\n",
       " 'Technical author',\n",
       " 'Risk manager',\n",
       " 'Homeopath',\n",
       " 'Conservation officer, historic buildings',\n",
       " 'Furniture conservator/restorer',\n",
       " 'Therapist, nutritional',\n",
       " 'Designer, textile',\n",
       " 'Tourist information centre manager',\n",
       " 'Interpreter',\n",
       " 'Management consultant',\n",
       " 'Chief Strategy Officer',\n",
       " 'Accountant, chartered public finance',\n",
       " 'Physiological scientist',\n",
       " 'Engineer, land',\n",
       " 'Medical laboratory scientific officer',\n",
       " 'Youth worker',\n",
       " 'Scientist, research (medical)',\n",
       " 'Editor, magazine features',\n",
       " 'Town planner',\n",
       " 'Learning disability nurse',\n",
       " 'Forensic psychologist',\n",
       " 'Civil Service fast streamer',\n",
       " 'Building surveyor',\n",
       " 'Office manager',\n",
       " 'Furniture designer',\n",
       " 'Rural practice surveyor',\n",
       " 'Data processing manager',\n",
       " 'Research scientist (life sciences)',\n",
       " 'Teacher, English as a foreign language',\n",
       " 'Land/geomatics surveyor',\n",
       " 'Surveyor, mining',\n",
       " 'Production assistant, radio',\n",
       " 'Phytotherapist',\n",
       " 'Chemical engineer',\n",
       " 'Archivist',\n",
       " 'Administrator, Civil Service',\n",
       " 'Therapist, art',\n",
       " 'Designer, interior/spatial',\n",
       " 'Hospital doctor',\n",
       " 'Farm manager',\n",
       " 'Database administrator',\n",
       " 'Counsellor',\n",
       " 'Cartographer',\n",
       " 'Regulatory affairs officer',\n",
       " 'Customer service manager',\n",
       " 'Advertising account executive',\n",
       " 'Fine artist',\n",
       " 'Surveyor, planning and development',\n",
       " 'Commercial/residential surveyor',\n",
       " 'Presenter, broadcasting',\n",
       " 'Administrator, education',\n",
       " 'Sub',\n",
       " 'Warehouse manager',\n",
       " 'Midwife',\n",
       " 'Research officer, political party',\n",
       " 'Magazine features editor',\n",
       " 'Scientist, audiological',\n",
       " 'Art gallery manager',\n",
       " 'Retail manager',\n",
       " 'Building services engineer',\n",
       " 'Psychiatrist',\n",
       " 'Surveyor, quantity',\n",
       " 'Translator',\n",
       " 'Heritage manager',\n",
       " 'Scientist, physiological',\n",
       " 'Ergonomist',\n",
       " \"Nurse, children's\",\n",
       " 'Bookseller',\n",
       " 'Government social research officer',\n",
       " 'Horticultural therapist',\n",
       " 'Chief Marketing Officer',\n",
       " 'Merchant navy officer',\n",
       " 'Orthoptist',\n",
       " 'Scientist, research (maths)',\n",
       " 'Ambulance person',\n",
       " 'Lawyer',\n",
       " 'Special educational needs teacher',\n",
       " 'Consulting civil engineer',\n",
       " 'Quality manager',\n",
       " 'Trading standards officer',\n",
       " 'Video editor',\n",
       " 'Ecologist',\n",
       " 'Geochemist',\n",
       " 'Purchasing manager',\n",
       " 'Passenger transport manager',\n",
       " 'Bonds trader',\n",
       " 'Equities trader',\n",
       " 'Programme researcher, broadcasting/film/video',\n",
       " 'Curator',\n",
       " 'Health physicist',\n",
       " 'Historic buildings inspector/conservation officer',\n",
       " 'Technical brewer',\n",
       " 'Building control surveyor',\n",
       " 'Statistician',\n",
       " 'Telecommunications researcher',\n",
       " 'Materials engineer',\n",
       " 'Radiation protection practitioner',\n",
       " 'Media planner',\n",
       " 'Psychologist, occupational',\n",
       " 'Location manager',\n",
       " 'Textile designer',\n",
       " 'Engineer, technical sales',\n",
       " 'Further education lecturer',\n",
       " 'Armed forces operational officer',\n",
       " 'Psychologist, educational',\n",
       " 'Petroleum engineer',\n",
       " 'Designer, exhibition/display',\n",
       " 'Learning mentor',\n",
       " 'Geographical information systems officer',\n",
       " 'Engineer, water',\n",
       " 'Teacher, special educational needs',\n",
       " 'Loss adjuster, chartered',\n",
       " 'Clinical cytogeneticist',\n",
       " 'Print production planner',\n",
       " 'Pharmacist, community',\n",
       " 'Engineer, production',\n",
       " 'Development worker, international aid',\n",
       " 'Education officer, museum',\n",
       " 'Prison officer',\n",
       " 'Research scientist (maths)',\n",
       " 'Metallurgist',\n",
       " 'Armed forces training and education officer',\n",
       " 'Doctor, hospital',\n",
       " 'Tourism officer',\n",
       " 'Systems analyst',\n",
       " 'Site engineer',\n",
       " 'Contracting civil engineer',\n",
       " 'General practice doctor',\n",
       " 'Glass blower/designer',\n",
       " 'Medical secretary',\n",
       " 'Broadcast presenter',\n",
       " 'Archaeologist',\n",
       " 'Insurance account manager',\n",
       " 'Higher education lecturer',\n",
       " 'Theatre stage manager',\n",
       " 'Production manager',\n",
       " 'Geologist, wellsite',\n",
       " 'Engineer, electrical',\n",
       " 'Field seismologist',\n",
       " 'Claims inspector/assessor',\n",
       " 'Comptroller',\n",
       " 'Academic librarian',\n",
       " 'Psychologist, sport and exercise',\n",
       " 'Housing manager/officer',\n",
       " 'Aid worker',\n",
       " 'Adult guidance worker',\n",
       " 'Financial adviser',\n",
       " 'Pension scheme manager',\n",
       " 'Editor, film/video',\n",
       " 'Hospital pharmacist',\n",
       " 'Senior tax professional/tax inspector',\n",
       " 'Professor Emeritus',\n",
       " 'Administrator, sports',\n",
       " 'Garment/textile technologist',\n",
       " 'Trade union research officer',\n",
       " 'Engineer, building services',\n",
       " 'Actor',\n",
       " 'Journalist, broadcasting',\n",
       " 'Mudlogger',\n",
       " 'Advice worker',\n",
       " 'Operational researcher',\n",
       " 'Amenity horticulturist',\n",
       " 'Health and safety adviser',\n",
       " 'Manufacturing systems engineer',\n",
       " 'Research scientist (physical sciences)',\n",
       " 'Make',\n",
       " 'Teacher, early years/pre',\n",
       " 'Production designer, theatre/television/film',\n",
       " 'Acupuncturist',\n",
       " 'Dance movement psychotherapist',\n",
       " 'Biomedical scientist',\n",
       " 'Paramedic',\n",
       " 'Travel agency manager',\n",
       " 'Commercial art gallery manager',\n",
       " 'Designer, industrial/product',\n",
       " 'Press sub',\n",
       " 'Market researcher',\n",
       " 'Science writer',\n",
       " 'Newspaper journalist',\n",
       " 'Social worker',\n",
       " 'Chemist, analytical',\n",
       " 'Chiropodist',\n",
       " 'Journalist, newspaper',\n",
       " 'Scientist, research (life sciences)',\n",
       " 'Conservation officer, nature',\n",
       " 'Freight forwarder',\n",
       " 'Radiographer, diagnostic',\n",
       " 'Minerals surveyor',\n",
       " 'Communications engineer',\n",
       " 'Engineer, civil (consulting)',\n",
       " 'Surveyor, hydrographic',\n",
       " 'Chartered certified accountant',\n",
       " 'English as a second language teacher',\n",
       " 'Engineer, petroleum',\n",
       " 'Quantity surveyor',\n",
       " 'Psychologist, clinical',\n",
       " 'Outdoor activities/education manager',\n",
       " 'Television floor manager',\n",
       " 'Radio broadcast assistant',\n",
       " 'Mental health nurse',\n",
       " 'Industrial/product designer',\n",
       " 'Psychologist, prison and probation services',\n",
       " 'Tax adviser',\n",
       " 'Copywriter, advertising',\n",
       " 'Legal secretary',\n",
       " 'Applications developer',\n",
       " 'Firefighter',\n",
       " 'Teacher, secondary school',\n",
       " 'Training and development officer',\n",
       " 'Chief Technology Officer',\n",
       " 'Surveyor, building',\n",
       " 'Development worker, community',\n",
       " 'Nurse, adult',\n",
       " 'Designer, television/film set',\n",
       " 'Manufacturing engineer',\n",
       " 'Designer, furniture',\n",
       " 'Web designer',\n",
       " 'Marine scientist',\n",
       " 'Contractor',\n",
       " 'Financial planner',\n",
       " 'Film/video editor',\n",
       " 'Designer, multimedia',\n",
       " 'Operational investment banker',\n",
       " 'Clinical research associate',\n",
       " 'Occupational hygienist',\n",
       " 'Estate agent',\n",
       " 'Scientist, clinical (histocompatibility and immunogenetics)',\n",
       " 'Psychotherapist',\n",
       " 'Personnel officer',\n",
       " 'Theme park manager',\n",
       " 'Accountant, chartered certified',\n",
       " 'Land',\n",
       " 'Private music teacher',\n",
       " 'Quarry manager',\n",
       " 'Financial manager',\n",
       " 'Naval architect',\n",
       " 'Operations geologist',\n",
       " 'Nurse, learning disability',\n",
       " 'Dietitian',\n",
       " 'Sports therapist',\n",
       " 'Research officer, government',\n",
       " 'Herpetologist',\n",
       " 'Intelligence analyst',\n",
       " 'Facilities manager',\n",
       " 'Engineer, manufacturing',\n",
       " 'Water engineer',\n",
       " 'Special effects artist',\n",
       " 'Insurance underwriter',\n",
       " 'Camera operator',\n",
       " 'Designer, fashion/clothing',\n",
       " 'Designer, jewellery',\n",
       " 'Environmental consultant',\n",
       " 'Administrator',\n",
       " 'Television camera operator',\n",
       " 'Set designer',\n",
       " 'Haematologist',\n",
       " 'Commercial horticulturist',\n",
       " 'Airline pilot',\n",
       " 'Insurance claims handler',\n",
       " 'Lecturer, further education',\n",
       " 'Local government officer',\n",
       " 'Energy engineer',\n",
       " 'Broadcast journalist',\n",
       " 'Engineering geologist',\n",
       " 'Radio producer',\n",
       " 'Museum/gallery conservator',\n",
       " 'Product/process development scientist',\n",
       " 'Psychiatric nurse',\n",
       " 'Horticulturist, amenity',\n",
       " \"Barrister's clerk\",\n",
       " 'Colour technologist',\n",
       " 'Media buyer',\n",
       " 'Visual merchandiser',\n",
       " 'Forest/woodland manager',\n",
       " 'Horticultural consultant',\n",
       " 'Restaurant manager, fast food',\n",
       " 'Lexicographer',\n",
       " 'Health promotion specialist',\n",
       " 'Probation officer',\n",
       " 'Research officer, trade union',\n",
       " 'Engineer, communications',\n",
       " 'Engineer, maintenance (IT)',\n",
       " 'Tax inspector',\n",
       " 'Chartered public finance accountant',\n",
       " 'Exhibition designer',\n",
       " 'Biomedical engineer',\n",
       " 'Public house manager',\n",
       " 'Clinical biochemist',\n",
       " 'Museum education officer',\n",
       " 'Theatre manager',\n",
       " 'Waste management officer',\n",
       " 'Community education officer',\n",
       " 'Accountant, chartered management',\n",
       " 'Surveyor, commercial/residential',\n",
       " 'Occupational psychologist',\n",
       " 'Sales professional, IT',\n",
       " 'Hydrologist',\n",
       " 'Music therapist',\n",
       " 'Engineer, manufacturing systems',\n",
       " 'Production engineer',\n",
       " 'Diagnostic radiographer',\n",
       " 'Community pharmacist',\n",
       " 'Air traffic controller',\n",
       " 'Technical sales engineer',\n",
       " 'Doctor, general practice',\n",
       " 'Sports development officer',\n",
       " 'Psychologist, counselling',\n",
       " 'Engineer, drilling',\n",
       " 'Surveyor, rural practice',\n",
       " 'Speech and language therapist',\n",
       " 'Music tutor',\n",
       " 'Health service manager',\n",
       " 'Investment banker, corporate',\n",
       " 'Programmer, systems',\n",
       " 'Medical physicist',\n",
       " 'Air cabin crew',\n",
       " 'Chiropractor',\n",
       " 'Licensed conveyancer',\n",
       " 'Programmer, applications',\n",
       " 'Public librarian',\n",
       " 'Analytical chemist',\n",
       " 'Designer, ceramics/pottery',\n",
       " 'Geophysical data processor',\n",
       " 'Social research officer, government',\n",
       " 'Therapist, music',\n",
       " 'Seismic interpreter',\n",
       " 'Records manager',\n",
       " 'Physiotherapist',\n",
       " 'Charity fundraiser',\n",
       " 'Chartered management accountant',\n",
       " 'Plant breeder/geneticist',\n",
       " 'Neurosurgeon',\n",
       " 'Conservator, furniture',\n",
       " 'Therapist, speech and language',\n",
       " 'Systems developer',\n",
       " ' ',\n",
       " 'Educational psychologist',\n",
       " 'Best boy',\n",
       " 'Theatre director',\n",
       " 'Brewing technologist',\n",
       " 'Buyer, retail',\n",
       " 'Company secretary',\n",
       " 'Data scientist',\n",
       " 'Artist']"
      ]
     },
     "execution_count": 102,
     "metadata": {},
     "output_type": "execute_result"
    }
   ],
   "source": [
    "#exploring occupaction to see those that can be classified as non commuters\n",
    "list(df['Occupation'].unique())"
   ]
  },
  {
   "cell_type": "markdown",
   "id": "5187cdd7",
   "metadata": {},
   "source": [
    "#### Occupations such as retail merchandisers and buyers, community workers, primary and secondary school teachers, fast food workers, barista, volunteer workers, charity workers, police officers, local government workers, prison officers, town planners and herbalists are classifed as non commuter"
   ]
  },
  {
   "cell_type": "code",
   "execution_count": 103,
   "id": "ae9ccbdd",
   "metadata": {},
   "outputs": [],
   "source": [
    "l1 = df[df['Occupation'].str.contains('Herbalist')]\n",
    "l2 = df[df['Occupation'].str.contains('Retail merchandiser')]\n",
    "l3 = df[df['Occupation'].str.contains('retail')]\n",
    "l4 = df[df['Occupation'].str.contains('Retail buyer')]\n",
    "l5 = df[df['Occupation'].str.contains('community')]\n",
    "l6 = df[df['Occupation'].str.contains('teacher')]\n",
    "l7 = df[df['Occupation'].str.contains('Teacher')]\n",
    "l8 = df[df['Occupation'].str.contains('Police')]\n",
    "l9 = df[df['Occupation'].str.contains('food')]\n",
    "l10 = df[df['Occupation'].str.contains('local')]\n",
    "l11 = df[df['Occupation'].str.contains('Prison')]\n",
    "l12 = df[df['Occupation'].str.contains('Town')]\n",
    "l13 = df[df['Occupation'].str.contains('Herbalist')]\n",
    "l14 = df[df['Occupation'].str.contains('Barista')]\n",
    "l15 = df[df['Occupation'].str.contains('Charity')]"
   ]
  },
  {
   "cell_type": "code",
   "execution_count": 104,
   "id": "b4229957",
   "metadata": {},
   "outputs": [
    {
     "data": {
      "text/plain": [
       "239"
      ]
     },
     "execution_count": 104,
     "metadata": {},
     "output_type": "execute_result"
    }
   ],
   "source": [
    "len(l1)+len(l2)+len(l3)+len(l4)+len(l5)+len(l6)+len(l7)+len(l8)+len(l9)+len(l10)+len(l11)+len(l12)+len(l13)+len(l14)+len(l15)"
   ]
  },
  {
   "cell_type": "code",
   "execution_count": 105,
   "id": "cf5f1b4c",
   "metadata": {},
   "outputs": [
    {
     "data": {
      "text/plain": [
       "4256"
      ]
     },
     "execution_count": 105,
     "metadata": {},
     "output_type": "execute_result"
    }
   ],
   "source": [
    "#out of the employed, 239 people are classified as non commuters\n",
    "### retired, unemployed, student(not university) are also classified as non commuters\n",
    "239+563+2534+920"
   ]
  },
  {
   "cell_type": "code",
   "execution_count": 106,
   "id": "ff6d1291",
   "metadata": {},
   "outputs": [
    {
     "data": {
      "text/plain": [
       "5399"
      ]
     },
     "execution_count": 106,
     "metadata": {},
     "output_type": "execute_result"
    }
   ],
   "source": [
    "#total of 4256 people are non commuters\n",
    "\n",
    "9655-4256 #non commuters"
   ]
  },
  {
   "cell_type": "code",
   "execution_count": 107,
   "id": "fb11d77a",
   "metadata": {},
   "outputs": [
    {
     "data": {
      "text/plain": [
       "56.9963749352667"
      ]
     },
     "execution_count": 107,
     "metadata": {},
     "output_type": "execute_result"
    }
   ],
   "source": [
    "5503/9655*100\n",
    "#%percentage of commuters"
   ]
  },
  {
   "cell_type": "code",
   "execution_count": 108,
   "id": "3f398fee",
   "metadata": {},
   "outputs": [
    {
     "data": {
      "text/plain": [
       "95.65691441032165"
      ]
     },
     "execution_count": 108,
     "metadata": {},
     "output_type": "execute_result"
    }
   ],
   "source": [
    "100 - (239/5503*100)\n",
    "#%percentage of employed who are commuter"
   ]
  },
  {
   "cell_type": "markdown",
   "id": "ee74b7db",
   "metadata": {},
   "source": [
    "- 57% of the population are commuters\n",
    "- 96% of the employed are commuters"
   ]
  },
  {
   "cell_type": "markdown",
   "id": "1360cf5d",
   "metadata": {},
   "source": [
    "### Religious building\n",
    "The only place of worhip in town is catholic church, there's need to check if other denomination or religion are growing"
   ]
  },
  {
   "cell_type": "code",
   "execution_count": 109,
   "id": "90e14dc4",
   "metadata": {},
   "outputs": [
    {
     "data": {
      "image/png": "[encoded data removed]",
      "text/plain": [
       "<Figure size 720x360 with 1 Axes>"
      ]
     },
     "metadata": {
      "needs_background": "light"
     },
     "output_type": "display_data"
    }
   ],
   "source": [
    "plt.figure(figsize=(10,5))\n",
    "ax = sns.countplot(data = df, y='Religion');\n",
    "plt.title('Religion');\n",
    "for i in ax.containers:\n",
    "    ax.bar_label(i,)\n",
    "plt.savefig('Religion')"
   ]
  },
  {
   "cell_type": "code",
   "execution_count": 110,
   "id": "23940d8e",
   "metadata": {},
   "outputs": [
    {
     "data": {
      "image/png": "[encoded data removed]",
      "text/plain": [
       "<Figure size 936x360 with 1 Axes>"
      ]
     },
     "metadata": {
      "needs_background": "light"
     },
     "output_type": "display_data"
    }
   ],
   "source": [
    "plt.figure(figsize=(13,5))\n",
    "sns.histplot(data = df, x='Religion',hue= 'Age_range', palette='husl');\n",
    "plt.title('Religion by Age');\n",
    "\n",
    "plt.subplots_adjust(top=0.88)\n",
    "plt.savefig('Religion by age')"
   ]
  },
  {
   "cell_type": "code",
   "execution_count": 111,
   "id": "64c2d54d",
   "metadata": {},
   "outputs": [
    {
     "data": {
      "text/plain": [
       "4117"
      ]
     },
     "execution_count": 111,
     "metadata": {},
     "output_type": "execute_result"
    }
   ],
   "source": [
    "#religious people are \n",
    "9655-(3072+2466)"
   ]
  },
  {
   "cell_type": "code",
   "execution_count": 112,
   "id": "178fc7c6",
   "metadata": {},
   "outputs": [
    {
     "data": {
      "text/plain": [
       "53.242652416808355"
      ]
     },
     "execution_count": 112,
     "metadata": {},
     "output_type": "execute_result"
    }
   ],
   "source": [
    "(2192/4117)*100\n",
    "#over 50% of reliogious people are christians"
   ]
  },
  {
   "cell_type": "code",
   "execution_count": 113,
   "id": "4a653789",
   "metadata": {},
   "outputs": [
    {
     "data": {
      "text/plain": [
       "23.973767306290988"
      ]
     },
     "execution_count": 113,
     "metadata": {},
     "output_type": "execute_result"
    }
   ],
   "source": [
    "(987/4117)*100\n",
    "#24% of religious people are catholic"
   ]
  },
  {
   "cell_type": "markdown",
   "id": "e9e5be93",
   "metadata": {},
   "source": [
    "#### Observations\n",
    "- From the data we can see that christian denomination is high \n",
    "- over 50% of religious people are christians and they do not have a church\n",
    "- just 24% of religious people are catholic\n",
    "- methodist is also growing\n",
    "- There no way to determine religion transfer since all the children are classified as none"
   ]
  },
  {
   "cell_type": "markdown",
   "id": "794883c8",
   "metadata": {},
   "source": [
    "### Emergency medical building"
   ]
  },
  {
   "cell_type": "code",
   "execution_count": 114,
   "id": "eca7f12b",
   "metadata": {},
   "outputs": [
    {
     "data": {
      "image/png": "[encoded data removed]",
      "text/plain": [
       "<Figure size 432x288 with 1 Axes>"
      ]
     },
     "metadata": {
      "needs_background": "light"
     },
     "output_type": "display_data"
    }
   ],
   "source": [
    "ax = sns.countplot(data = df, y='Infirmity', color ='cyan');\n",
    "for i in ax.containers:\n",
    "    ax.bar_label(i,)\n",
    "\n",
    "plt.title('Infirmity')\n",
    "plt.subplots_adjust(top=0.88)\n",
    "plt.savefig('Infirmity')"
   ]
  },
  {
   "cell_type": "markdown",
   "id": "8d173d7c",
   "metadata": {},
   "source": [
    "majority of the population have no infirmity this shows a healthy community\n",
    "there are different factors to consider to check if there will be need for emergycy medical buildings in  future\n",
    "- Birth rate: since the birth rate is declining from previous calculaton and it will further decline in future\n",
    "- Age: Majority of the population are in the middle age and will become old in the future, there might be need for old age care"
   ]
  },
  {
   "cell_type": "markdown",
   "id": "49cbd34c",
   "metadata": {},
   "source": [
    "### Employment and training\n",
    "We need to check the unemployment rate to determine this"
   ]
  },
  {
   "cell_type": "code",
   "execution_count": 115,
   "id": "114fdfde",
   "metadata": {},
   "outputs": [
    {
     "data": {
      "image/png": "[encoded data removed]",
      "text/plain": [
       "<Figure size 432x288 with 1 Axes>"
      ]
     },
     "metadata": {
      "needs_background": "light"
     },
     "output_type": "display_data"
    }
   ],
   "source": [
    "sns.boxplot(data=df, y='Age', x='Employment Status')\n",
    "plt.subplots_adjust(top=0.88)\n",
    "#Some individual above the age of 65 and below 18is showing as unemployed"
   ]
  },
  {
   "cell_type": "code",
   "execution_count": 116,
   "id": "f6a3b389",
   "metadata": {},
   "outputs": [],
   "source": [
    "df.loc[df.Age_range == '66+', 'Employment Status'] = \"Retired\" #change all 66+ to retired\n",
    "df.loc[df.Age_range == '5-17', 'Employment Status'] = \"Student\" #change all 5-17 to Student"
   ]
  },
  {
   "cell_type": "code",
   "execution_count": 117,
   "id": "faede38d",
   "metadata": {},
   "outputs": [
    {
     "data": {
      "image/png": "[encoded data removed]",
      "text/plain": [
       "<Figure size 720x360 with 1 Axes>"
      ]
     },
     "metadata": {
      "needs_background": "light"
     },
     "output_type": "display_data"
    }
   ],
   "source": [
    "plt.figure(figsize=(10,5))\n",
    "sns.boxplot(data=df, y='Age', x='Employment Status');\n",
    "plt.subplots_adjust(top=0.88);\n",
    "plt.title('Employment Status by Age');\n",
    "plt.savefig('Employement Status by Age')"
   ]
  },
  {
   "cell_type": "code",
   "execution_count": 118,
   "id": "03c16277",
   "metadata": {},
   "outputs": [
    {
     "data": {
      "image/png": "[encoded data removed]",
      "text/plain": [
       "<Figure size 720x360 with 1 Axes>"
      ]
     },
     "metadata": {
      "needs_background": "light"
     },
     "output_type": "display_data"
    }
   ],
   "source": [
    "#data of all indivuals  who are unemployed\n",
    "df_unemployed=df[df[\"Employment Status\"].isin([\"Unemployed\"])]\n",
    "plt.figure(figsize=(10,5))\n",
    "#age range of unemployed\n",
    "ax =sns.countplot(data = df_unemployed, x='Age_range', palette = 'viridis_r');\n",
    "plt.title('Uemployement by Age')\n",
    "\n",
    "for i in ax.containers:\n",
    "    ax.bar_label(i,)\n",
    "plt.savefig('Unemployment by Age')"
   ]
  },
  {
   "cell_type": "code",
   "execution_count": 119,
   "id": "7f2cbd05",
   "metadata": {},
   "outputs": [
    {
     "data": {
      "text/plain": [
       "563"
      ]
     },
     "execution_count": 119,
     "metadata": {},
     "output_type": "execute_result"
    }
   ],
   "source": [
    "len(df_unemployed)"
   ]
  },
  {
   "cell_type": "code",
   "execution_count": 120,
   "id": "0950706d",
   "metadata": {},
   "outputs": [
    {
     "data": {
      "text/plain": [
       "36-50    2155\n",
       "5-17     1803\n",
       "26-35    1479\n",
       "51-65    1465\n",
       "18-25    1236\n",
       "66+       920\n",
       "0-4       597\n",
       "Name: Age_range, dtype: int64"
      ]
     },
     "execution_count": 120,
     "metadata": {},
     "output_type": "execute_result"
    }
   ],
   "source": [
    "#working age population(18-65)\n",
    "df['Age_range'].value_counts()"
   ]
  },
  {
   "cell_type": "code",
   "execution_count": 121,
   "id": "22aae3d2",
   "metadata": {},
   "outputs": [
    {
     "data": {
      "text/plain": [
       "6335"
      ]
     },
     "execution_count": 121,
     "metadata": {},
     "output_type": "execute_result"
    }
   ],
   "source": [
    "2155+1479+1465+1236\n",
    "#total working age of 6335"
   ]
  },
  {
   "cell_type": "code",
   "execution_count": 122,
   "id": "f4d03e89",
   "metadata": {},
   "outputs": [
    {
     "data": {
      "text/plain": [
       "8.88713496448303"
      ]
     },
     "execution_count": 122,
     "metadata": {},
     "output_type": "execute_result"
    }
   ],
   "source": [
    "#There are 563 individuals who are unemployed in the whole population out with working age of 6335\n",
    "(563/6335)*100\n",
    "#approximately 8.9% unemploment which is classified as low unemployement rate"
   ]
  },
  {
   "cell_type": "markdown",
   "id": "30b63daf",
   "metadata": {},
   "source": []
  }
 ],
 "metadata": {
  "kernelspec": {
   "display_name": "Python 3 (ipykernel)",
   "language": "python",
   "name": "python3"
  },
  "language_info": {
   "codemirror_mode": {
    "name": "ipython",
    "version": 3
   },
   "file_extension": ".py",
   "mimetype": "text/x-python",
   "name": "python",
   "nbconvert_exporter": "python",
   "pygments_lexer": "ipython3",
   "version": "3.9.7"
  }
 },
 "nbformat": 4,
 "nbformat_minor": 5
}
